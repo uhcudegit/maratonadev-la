{
 "cells": [
  {
   "cell_type": "code",
   "execution_count": 65,
   "metadata": {
    "colab": {},
    "colab_type": "code",
    "id": "P7ewf7hxb7P4"
   },
   "outputs": [],
   "source": [
    "# @hidden_cell\n",
    "# The project token is an authorization token that is used to access project resources like data sources, connections, and used by platform APIs.\n",
    "from project_lib import Project\n",
    "project = Project(project_id='c433327b-7a56-4be2-8c45-99c89546e923', project_access_token='p-15ddc5af7808475359d44e9c97d9553a9940f4c9')\n",
    "pc = project.project_context\n"
   ]
  },
  {
   "cell_type": "markdown",
   "metadata": {
    "colab_type": "text",
    "collapsed": true,
    "id": "wvYvn5lh003I"
   },
   "source": [
    "# MARATONA BEHIND THE CODE 2020\n",
    "\n",
    "## DESAFIO 6 - ANAHUAC"
   ]
  },
  {
   "cell_type": "markdown",
   "metadata": {
    "colab_type": "text",
    "id": "WnmjKQHJ003M"
   },
   "source": [
    "### Introducción"
   ]
  },
  {
   "cell_type": "markdown",
   "metadata": {
    "colab_type": "text",
    "id": "yoqbxJgx003T"
   },
   "source": [
    "En este desafio, usted usará herramientas de IBM como Watson Studio (o Cloud Pak for Data) para construir un modelo baseado en Machine Learning capaz de preveer si un estudante irá continuar o abandonará su curso."
   ]
  },
  {
   "cell_type": "markdown",
   "metadata": {
    "colab_type": "text",
    "id": "PNf7-Ad1003X"
   },
   "source": [
    "<hr>"
   ]
  },
  {
   "cell_type": "markdown",
   "metadata": {
    "colab_type": "text",
    "id": "Is7TaQfB003Z"
   },
   "source": [
    "## Installing Libs"
   ]
  },
  {
   "cell_type": "code",
   "execution_count": 66,
   "metadata": {
    "colab": {
     "base_uri": "https://localhost:8080/",
     "height": 243
    },
    "colab_type": "code",
    "id": "NZdcUm1Y003b",
    "outputId": "b8ae06dd-663b-44a0-fdf8-10f77e1f1f96"
   },
   "outputs": [
    {
     "name": "stdout",
     "output_type": "stream",
     "text": [
      "Requirement already up-to-date: scikit-learn in /opt/conda/envs/Python36/lib/python3.6/site-packages (0.23.2)\r\n",
      "Requirement already satisfied, skipping upgrade: numpy>=1.13.3 in /opt/conda/envs/Python36/lib/python3.6/site-packages (from scikit-learn) (1.15.4)\r\n",
      "Requirement already satisfied, skipping upgrade: joblib>=0.11 in /opt/conda/envs/Python36/lib/python3.6/site-packages (from scikit-learn) (0.16.0)\r\n",
      "Requirement already satisfied, skipping upgrade: threadpoolctl>=2.0.0 in /opt/conda/envs/Python36/lib/python3.6/site-packages (from scikit-learn) (2.1.0)\r\n",
      "Requirement already satisfied, skipping upgrade: scipy>=0.19.1 in /opt/conda/envs/Python36/lib/python3.6/site-packages (from scikit-learn) (1.2.0)\r\n"
     ]
    }
   ],
   "source": [
    "!pip install scikit-learn --upgrade"
   ]
  },
  {
   "cell_type": "code",
   "execution_count": 67,
   "metadata": {
    "colab": {
     "base_uri": "https://localhost:8080/",
     "height": 191
    },
    "colab_type": "code",
    "id": "Dr5f8sWk0030",
    "outputId": "8adcf0ec-85e3-4ef4-9d29-a517f27fae64"
   },
   "outputs": [
    {
     "name": "stdout",
     "output_type": "stream",
     "text": [
      "Requirement already up-to-date: xgboost in /opt/conda/envs/Python36/lib/python3.6/site-packages (1.2.0)\r\n",
      "Requirement already satisfied, skipping upgrade: numpy in /opt/conda/envs/Python36/lib/python3.6/site-packages (from xgboost) (1.15.4)\r\n",
      "Requirement already satisfied, skipping upgrade: scipy in /opt/conda/envs/Python36/lib/python3.6/site-packages (from xgboost) (1.2.0)\r\n"
     ]
    }
   ],
   "source": [
    "!pip install xgboost --upgrade"
   ]
  },
  {
   "cell_type": "markdown",
   "metadata": {
    "colab_type": "text",
    "id": "Ftt-UoWT004B"
   },
   "source": [
    "<hr>"
   ]
  },
  {
   "cell_type": "markdown",
   "metadata": {
    "colab_type": "text",
    "id": "YTx9YhYv004F"
   },
   "source": [
    "## Loading the .csv dataset from GitHub"
   ]
  },
  {
   "cell_type": "code",
   "execution_count": 68,
   "metadata": {
    "colab": {},
    "colab_type": "code",
    "id": "RJOA5J3y004H"
   },
   "outputs": [],
   "source": [
    "import pandas as pd"
   ]
  },
  {
   "cell_type": "code",
   "execution_count": 69,
   "metadata": {
    "colab": {
     "base_uri": "https://localhost:8080/",
     "height": 397
    },
    "colab_type": "code",
    "id": "7XD_S0Bm004V",
    "outputId": "fb3e6199-fb8f-4a46-b5d9-4ac3962f86ae"
   },
   "outputs": [
    {
     "name": "stdout",
     "output_type": "stream",
     "text": [
      "--2020-09-13 22:33:37--  https://raw.githubusercontent.com/vanderlei-test/dataset2/master/datasets/ForTraining.csv\n",
      "Resolving raw.githubusercontent.com (raw.githubusercontent.com)... 151.101.48.133\n",
      "Connecting to raw.githubusercontent.com (raw.githubusercontent.com)|151.101.48.133|:443... connected.\n",
      "HTTP request sent, awaiting response... 200 OK\n",
      "Length: 92376 (90K) [text/plain]\n",
      "Saving to: ‘ForTraining.csv.1’\n",
      "\n",
      "100%[======================================>] 92,376      --.-K/s   in 0.005s  \n",
      "\n",
      "2020-09-13 22:33:37 (19.6 MB/s) - ‘ForTraining.csv.1’ saved [92376/92376]\n",
      "\n"
     ]
    },
    {
     "data": {
      "text/html": [
       "<div>\n",
       "<style scoped>\n",
       "    .dataframe tbody tr th:only-of-type {\n",
       "        vertical-align: middle;\n",
       "    }\n",
       "\n",
       "    .dataframe tbody tr th {\n",
       "        vertical-align: top;\n",
       "    }\n",
       "\n",
       "    .dataframe thead th {\n",
       "        text-align: right;\n",
       "    }\n",
       "</style>\n",
       "<table border=\"1\" class=\"dataframe\">\n",
       "  <thead>\n",
       "    <tr style=\"text-align: right;\">\n",
       "      <th></th>\n",
       "      <th>studentId</th>\n",
       "      <th>reducido</th>\n",
       "      <th>ciclo</th>\n",
       "      <th>Graduado</th>\n",
       "    </tr>\n",
       "  </thead>\n",
       "  <tbody>\n",
       "    <tr>\n",
       "      <th>0</th>\n",
       "      <td>88588.0</td>\n",
       "      <td>Interv. Edu.</td>\n",
       "      <td>2019 - 08</td>\n",
       "      <td>No</td>\n",
       "    </tr>\n",
       "    <tr>\n",
       "      <th>1</th>\n",
       "      <td>81135.0</td>\n",
       "      <td>Educacion</td>\n",
       "      <td>2019 - 05</td>\n",
       "      <td>Si</td>\n",
       "    </tr>\n",
       "    <tr>\n",
       "      <th>2</th>\n",
       "      <td>80926.0</td>\n",
       "      <td>Direc. Estrat. Neg</td>\n",
       "      <td>2019 - 05</td>\n",
       "      <td>Si</td>\n",
       "    </tr>\n",
       "    <tr>\n",
       "      <th>3</th>\n",
       "      <td>82415.0</td>\n",
       "      <td>B. I.</td>\n",
       "      <td>2019 - 06</td>\n",
       "      <td>Si</td>\n",
       "    </tr>\n",
       "    <tr>\n",
       "      <th>4</th>\n",
       "      <td>90082.0</td>\n",
       "      <td>Est. Temprana</td>\n",
       "      <td>2019 - 08</td>\n",
       "      <td>No</td>\n",
       "    </tr>\n",
       "  </tbody>\n",
       "</table>\n",
       "</div>"
      ],
      "text/plain": [
       "   studentId            reducido      ciclo Graduado\n",
       "0    88588.0        Interv. Edu.  2019 - 08       No\n",
       "1    81135.0           Educacion  2019 - 05       Si\n",
       "2    80926.0  Direc. Estrat. Neg  2019 - 05       Si\n",
       "3    82415.0               B. I.  2019 - 06       Si\n",
       "4    90082.0       Est. Temprana  2019 - 08       No"
      ]
     },
     "execution_count": 69,
     "metadata": {},
     "output_type": "execute_result"
    }
   ],
   "source": [
    "!wget --no-check-certificate --content-disposition https://raw.githubusercontent.com/vanderlei-test/dataset2/master/datasets/ForTraining.csv\n",
    "df_base_for_training = pd.read_csv(r'ForTraining.csv')\n",
    "df_base_for_training.head()"
   ]
  },
  {
   "cell_type": "markdown",
   "metadata": {
    "colab_type": "text",
    "id": "DDGfuj9s004f"
   },
   "source": [
    "Descripción: La primera tabla mostrada arriba tiene 4 columnas, 3 son features and el target: `Graduado` that has a binary values={Si, No}.\n",
    "\n",
    "Usted puede, y debe, usar mas data que esta disponible para construir su modelo. Los siguientes archivos .csv presentados:"
   ]
  },
  {
   "cell_type": "code",
   "execution_count": 70,
   "metadata": {
    "colab": {
     "base_uri": "https://localhost:8080/",
     "height": 678
    },
    "colab_type": "code",
    "id": "0a9mBlQC004j",
    "outputId": "68b198a7-1919-41d8-bb94-40c7e85425fc"
   },
   "outputs": [
    {
     "name": "stdout",
     "output_type": "stream",
     "text": [
      "--2020-09-13 22:33:38--  https://raw.githubusercontent.com/vanderlei-test/dataset2/master/datasets/OrdenMaterias.csv\n",
      "Resolving raw.githubusercontent.com (raw.githubusercontent.com)... 199.232.8.133\n",
      "Connecting to raw.githubusercontent.com (raw.githubusercontent.com)|199.232.8.133|:443... connected.\n",
      "HTTP request sent, awaiting response... 200 OK\n",
      "Length: 63920 (62K) [text/plain]\n",
      "Saving to: ‘OrdenMaterias.csv.1’\n",
      "\n",
      "100%[======================================>] 63,920      --.-K/s   in 0.004s  \n",
      "\n",
      "2020-09-13 22:33:38 (16.8 MB/s) - ‘OrdenMaterias.csv.1’ saved [63920/63920]\n",
      "\n"
     ]
    },
    {
     "data": {
      "text/html": [
       "<div>\n",
       "<style scoped>\n",
       "    .dataframe tbody tr th:only-of-type {\n",
       "        vertical-align: middle;\n",
       "    }\n",
       "\n",
       "    .dataframe tbody tr th {\n",
       "        vertical-align: top;\n",
       "    }\n",
       "\n",
       "    .dataframe thead th {\n",
       "        text-align: right;\n",
       "    }\n",
       "</style>\n",
       "<table border=\"1\" class=\"dataframe\">\n",
       "  <thead>\n",
       "    <tr style=\"text-align: right;\">\n",
       "      <th></th>\n",
       "      <th>reducido</th>\n",
       "      <th>2017 - 03</th>\n",
       "      <th>2017 - 04</th>\n",
       "      <th>2017 - 05</th>\n",
       "      <th>2017 - 06</th>\n",
       "      <th>2017 - 07</th>\n",
       "      <th>2017 - 08</th>\n",
       "      <th>2018 - 01</th>\n",
       "      <th>2018 - 02</th>\n",
       "      <th>2018 - 03</th>\n",
       "      <th>...</th>\n",
       "      <th>2019 - 05</th>\n",
       "      <th>2019 - 06</th>\n",
       "      <th>2019 - 07</th>\n",
       "      <th>2019 - 08</th>\n",
       "      <th>2020 - 01</th>\n",
       "      <th>2020 - 02</th>\n",
       "      <th>2020 - 03</th>\n",
       "      <th>2020 - 04</th>\n",
       "      <th>2020 - 05</th>\n",
       "      <th>2020 - 06</th>\n",
       "    </tr>\n",
       "  </thead>\n",
       "  <tbody>\n",
       "    <tr>\n",
       "      <th>0</th>\n",
       "      <td>Act. Derecho Contratual</td>\n",
       "      <td>Sin clase</td>\n",
       "      <td>Sin clase</td>\n",
       "      <td>Sin clase</td>\n",
       "      <td>Sin clase</td>\n",
       "      <td>Sin clase</td>\n",
       "      <td>Sin clase</td>\n",
       "      <td>Sin clase</td>\n",
       "      <td>Sin clase</td>\n",
       "      <td>Sin clase</td>\n",
       "      <td>...</td>\n",
       "      <td>Sin clase</td>\n",
       "      <td>Sin clase</td>\n",
       "      <td>Sin clase</td>\n",
       "      <td>Sin clase</td>\n",
       "      <td>Consentimiento y objeto digital contractual</td>\n",
       "      <td>Métodos alternos de resolución de controversias</td>\n",
       "      <td>Nueva clasificación contractual</td>\n",
       "      <td>Nuevo derecho probatorio documental</td>\n",
       "      <td>Contratos inteligentes</td>\n",
       "      <td>Consentimiento y objeto digital contractual</td>\n",
       "    </tr>\n",
       "    <tr>\n",
       "      <th>1</th>\n",
       "      <td>Adm. Emp.</td>\n",
       "      <td>Sin clase</td>\n",
       "      <td>Sin clase</td>\n",
       "      <td>Sin clase</td>\n",
       "      <td>Sin clase</td>\n",
       "      <td>Sin clase</td>\n",
       "      <td>Sin clase</td>\n",
       "      <td>Sin clase</td>\n",
       "      <td>Sin clase</td>\n",
       "      <td>Sin clase</td>\n",
       "      <td>...</td>\n",
       "      <td>Mercadotecnia Estratégica</td>\n",
       "      <td>Contabilidad Financiera y Presupuestos</td>\n",
       "      <td>Administración de costos</td>\n",
       "      <td>Impuestos</td>\n",
       "      <td>Desafíos actuales en la Dirección del Capital ...</td>\n",
       "      <td>Mercadotecnia Estratégica</td>\n",
       "      <td>Contabilidad Financiera y Presupuestos</td>\n",
       "      <td>Administración de costos</td>\n",
       "      <td>Impuestos</td>\n",
       "      <td>Desafíos actuales en la Dirección del Capital ...</td>\n",
       "    </tr>\n",
       "    <tr>\n",
       "      <th>2</th>\n",
       "      <td>Adm. Riesgos</td>\n",
       "      <td>Sin clase</td>\n",
       "      <td>Sin clase</td>\n",
       "      <td>Sin clase</td>\n",
       "      <td>Sin clase</td>\n",
       "      <td>Sin clase</td>\n",
       "      <td>Sin clase</td>\n",
       "      <td>Sin clase</td>\n",
       "      <td>Sin clase</td>\n",
       "      <td>Sin clase</td>\n",
       "      <td>...</td>\n",
       "      <td>Riesgos empresariales</td>\n",
       "      <td>Contabilidad Financiera y Presupuestos</td>\n",
       "      <td>Administración de riesgos</td>\n",
       "      <td>Evaluación de Riesgos</td>\n",
       "      <td>Toma de Decisiones</td>\n",
       "      <td>Riesgos empresariales</td>\n",
       "      <td>Contabilidad Financiera y Presupuestos</td>\n",
       "      <td>Administración de riesgos</td>\n",
       "      <td>Evaluación de Riesgos</td>\n",
       "      <td>Toma de Decisiones</td>\n",
       "    </tr>\n",
       "    <tr>\n",
       "      <th>3</th>\n",
       "      <td>Adm. Salud</td>\n",
       "      <td>Sin clase</td>\n",
       "      <td>Sin clase</td>\n",
       "      <td>Sin clase</td>\n",
       "      <td>Sin clase</td>\n",
       "      <td>Sin clase</td>\n",
       "      <td>Sin clase</td>\n",
       "      <td>Sin clase</td>\n",
       "      <td>Sin clase</td>\n",
       "      <td>Sin clase</td>\n",
       "      <td>...</td>\n",
       "      <td>Calidad en salud</td>\n",
       "      <td>Contabilidad Financiera y Presupuestos</td>\n",
       "      <td>Administración de costos</td>\n",
       "      <td>Salud pública</td>\n",
       "      <td>Planeación estratégica en salud</td>\n",
       "      <td>Calidad en salud</td>\n",
       "      <td>Contabilidad Financiera y Presupuestos</td>\n",
       "      <td>Planeación estratégica en salud</td>\n",
       "      <td>Salud pública</td>\n",
       "      <td>Planeación estratégica en salud</td>\n",
       "    </tr>\n",
       "    <tr>\n",
       "      <th>4</th>\n",
       "      <td>Admon Fin.</td>\n",
       "      <td>Sin clase</td>\n",
       "      <td>Sin clase</td>\n",
       "      <td>Sin clase</td>\n",
       "      <td>Sin clase</td>\n",
       "      <td>Sin clase</td>\n",
       "      <td>Sin clase</td>\n",
       "      <td>Sin clase</td>\n",
       "      <td>Sin clase</td>\n",
       "      <td>Sin clase</td>\n",
       "      <td>...</td>\n",
       "      <td>Decisión y Análisis de Inversión</td>\n",
       "      <td>Decisión de Financiamiento y Pago de Dividendos</td>\n",
       "      <td>Análisis de Estados Financieros</td>\n",
       "      <td>Estrategias de negocios</td>\n",
       "      <td>Planeación Financiera y Administración del Cap...</td>\n",
       "      <td>Decisión y Análisis de Inversión</td>\n",
       "      <td>Decisión de Financiamiento y Pago de Dividendos</td>\n",
       "      <td>Análisis de Estados Financieros</td>\n",
       "      <td>Estrategias de negocios</td>\n",
       "      <td>Planeación Financiera y Administración del Cap...</td>\n",
       "    </tr>\n",
       "  </tbody>\n",
       "</table>\n",
       "<p>5 rows × 29 columns</p>\n",
       "</div>"
      ],
      "text/plain": [
       "                  reducido  2017 - 03  2017 - 04  2017 - 05  2017 - 06  \\\n",
       "0  Act. Derecho Contratual  Sin clase  Sin clase  Sin clase  Sin clase   \n",
       "1                Adm. Emp.  Sin clase  Sin clase  Sin clase  Sin clase   \n",
       "2             Adm. Riesgos  Sin clase  Sin clase  Sin clase  Sin clase   \n",
       "3               Adm. Salud  Sin clase  Sin clase  Sin clase  Sin clase   \n",
       "4               Admon Fin.  Sin clase  Sin clase  Sin clase  Sin clase   \n",
       "\n",
       "   2017 - 07  2017 - 08  2018 - 01  2018 - 02  2018 - 03  ...  \\\n",
       "0  Sin clase  Sin clase  Sin clase  Sin clase  Sin clase  ...   \n",
       "1  Sin clase  Sin clase  Sin clase  Sin clase  Sin clase  ...   \n",
       "2  Sin clase  Sin clase  Sin clase  Sin clase  Sin clase  ...   \n",
       "3  Sin clase  Sin clase  Sin clase  Sin clase  Sin clase  ...   \n",
       "4  Sin clase  Sin clase  Sin clase  Sin clase  Sin clase  ...   \n",
       "\n",
       "                          2019 - 05  \\\n",
       "0                         Sin clase   \n",
       "1         Mercadotecnia Estratégica   \n",
       "2             Riesgos empresariales   \n",
       "3                  Calidad en salud   \n",
       "4  Decisión y Análisis de Inversión   \n",
       "\n",
       "                                         2019 - 06  \\\n",
       "0                                        Sin clase   \n",
       "1           Contabilidad Financiera y Presupuestos   \n",
       "2           Contabilidad Financiera y Presupuestos   \n",
       "3           Contabilidad Financiera y Presupuestos   \n",
       "4  Decisión de Financiamiento y Pago de Dividendos   \n",
       "\n",
       "                         2019 - 07                2019 - 08  \\\n",
       "0                        Sin clase                Sin clase   \n",
       "1         Administración de costos                Impuestos   \n",
       "2        Administración de riesgos    Evaluación de Riesgos   \n",
       "3         Administración de costos            Salud pública   \n",
       "4  Análisis de Estados Financieros  Estrategias de negocios   \n",
       "\n",
       "                                           2020 - 01  \\\n",
       "0        Consentimiento y objeto digital contractual   \n",
       "1  Desafíos actuales en la Dirección del Capital ...   \n",
       "2                                 Toma de Decisiones   \n",
       "3                    Planeación estratégica en salud   \n",
       "4  Planeación Financiera y Administración del Cap...   \n",
       "\n",
       "                                         2020 - 02  \\\n",
       "0  Métodos alternos de resolución de controversias   \n",
       "1                        Mercadotecnia Estratégica   \n",
       "2                            Riesgos empresariales   \n",
       "3                                 Calidad en salud   \n",
       "4                 Decisión y Análisis de Inversión   \n",
       "\n",
       "                                         2020 - 03  \\\n",
       "0                  Nueva clasificación contractual   \n",
       "1           Contabilidad Financiera y Presupuestos   \n",
       "2           Contabilidad Financiera y Presupuestos   \n",
       "3           Contabilidad Financiera y Presupuestos   \n",
       "4  Decisión de Financiamiento y Pago de Dividendos   \n",
       "\n",
       "                             2020 - 04                2020 - 05  \\\n",
       "0  Nuevo derecho probatorio documental   Contratos inteligentes   \n",
       "1             Administración de costos                Impuestos   \n",
       "2            Administración de riesgos    Evaluación de Riesgos   \n",
       "3      Planeación estratégica en salud            Salud pública   \n",
       "4      Análisis de Estados Financieros  Estrategias de negocios   \n",
       "\n",
       "                                           2020 - 06  \n",
       "0        Consentimiento y objeto digital contractual  \n",
       "1  Desafíos actuales en la Dirección del Capital ...  \n",
       "2                                 Toma de Decisiones  \n",
       "3                    Planeación estratégica en salud  \n",
       "4  Planeación Financiera y Administración del Cap...  \n",
       "\n",
       "[5 rows x 29 columns]"
      ]
     },
     "execution_count": 70,
     "metadata": {},
     "output_type": "execute_result"
    }
   ],
   "source": [
    "!wget --no-check-certificate --content-disposition https://raw.githubusercontent.com/vanderlei-test/dataset2/master/datasets/OrdenMaterias.csv\n",
    "df_orden_materias = pd.read_csv(r'OrdenMaterias.csv')\n",
    "df_orden_materias.head()"
   ]
  },
  {
   "cell_type": "code",
   "execution_count": 71,
   "metadata": {
    "colab": {
     "base_uri": "https://localhost:8080/",
     "height": 191
    },
    "colab_type": "code",
    "id": "9uRg3UXwGe50",
    "outputId": "81c5997d-ac8f-4430-c853-e859e35e3809"
   },
   "outputs": [
    {
     "name": "stdout",
     "output_type": "stream",
     "text": [
      "<class 'pandas.core.frame.DataFrame'>\n",
      "RangeIndex: 3220 entries, 0 to 3219\n",
      "Data columns (total 3 columns):\n",
      "reducido    3220 non-null object\n",
      "ciclo       3220 non-null object\n",
      "materia     3220 non-null object\n",
      "dtypes: object(3)\n",
      "memory usage: 75.5+ KB\n"
     ]
    }
   ],
   "source": [
    "# Transformo tabla materias para poder hacer merge y categorizar\n",
    "ciclos = [ciclo for ciclo in df_orden_materias.columns if ciclo not in 'reducido']\n",
    "reducidos = [\"Act. Derecho Contratual\"]\n",
    "materias_data = []\n",
    "for index, row in df_orden_materias.iterrows():\n",
    "  for ciclo in ciclos:\n",
    "    new_row = [row['reducido'], ciclo,row[ciclo]]\n",
    "    materias_data.append(new_row)\n",
    "\n",
    "df_materias_tmp = pd.DataFrame(materias_data,columns=['reducido', 'ciclo', 'materia'])\n",
    "df_materias_tmp.head()\n",
    "df_materias_tmp.info()"
   ]
  },
  {
   "cell_type": "code",
   "execution_count": 72,
   "metadata": {
    "colab": {
     "base_uri": "https://localhost:8080/",
     "height": 397
    },
    "colab_type": "code",
    "id": "CHsbndZ9004x",
    "outputId": "fd866a77-aead-474b-a391-80f8aaf271b0"
   },
   "outputs": [
    {
     "name": "stdout",
     "output_type": "stream",
     "text": [
      "--2020-09-13 22:33:51--  https://raw.githubusercontent.com/vanderlei-test/dataset2/master/datasets/TablaConexiones.csv\n",
      "Resolving raw.githubusercontent.com (raw.githubusercontent.com)... 199.232.8.133\n",
      "Connecting to raw.githubusercontent.com (raw.githubusercontent.com)|199.232.8.133|:443... connected.\n",
      "HTTP request sent, awaiting response... 200 OK\n",
      "Length: 243492 (238K) [text/plain]\n",
      "Saving to: ‘TablaConexiones.csv.1’\n",
      "\n",
      "100%[======================================>] 243,492     --.-K/s   in 0.01s   \n",
      "\n",
      "2020-09-13 22:33:51 (19.6 MB/s) - ‘TablaConexiones.csv.1’ saved [243492/243492]\n",
      "\n"
     ]
    },
    {
     "data": {
      "text/html": [
       "<div>\n",
       "<style scoped>\n",
       "    .dataframe tbody tr th:only-of-type {\n",
       "        vertical-align: middle;\n",
       "    }\n",
       "\n",
       "    .dataframe tbody tr th {\n",
       "        vertical-align: top;\n",
       "    }\n",
       "\n",
       "    .dataframe thead th {\n",
       "        text-align: right;\n",
       "    }\n",
       "</style>\n",
       "<table border=\"1\" class=\"dataframe\">\n",
       "  <thead>\n",
       "    <tr style=\"text-align: right;\">\n",
       "      <th></th>\n",
       "      <th>studentId</th>\n",
       "      <th>ciclo</th>\n",
       "      <th>Dias_Conectado</th>\n",
       "      <th>Minutos_Promedio</th>\n",
       "      <th>Minutos_Total</th>\n",
       "    </tr>\n",
       "  </thead>\n",
       "  <tbody>\n",
       "    <tr>\n",
       "      <th>0</th>\n",
       "      <td>45870</td>\n",
       "      <td>2017 - 03</td>\n",
       "      <td>10.0</td>\n",
       "      <td>76.957000</td>\n",
       "      <td>769.57</td>\n",
       "    </tr>\n",
       "    <tr>\n",
       "      <th>1</th>\n",
       "      <td>45898</td>\n",
       "      <td>2017 - 03</td>\n",
       "      <td>32.0</td>\n",
       "      <td>370.231250</td>\n",
       "      <td>11847.40</td>\n",
       "    </tr>\n",
       "    <tr>\n",
       "      <th>2</th>\n",
       "      <td>45905</td>\n",
       "      <td>2017 - 03</td>\n",
       "      <td>50.0</td>\n",
       "      <td>198.717400</td>\n",
       "      <td>9935.87</td>\n",
       "    </tr>\n",
       "    <tr>\n",
       "      <th>3</th>\n",
       "      <td>45931</td>\n",
       "      <td>2017 - 03</td>\n",
       "      <td>22.0</td>\n",
       "      <td>294.535909</td>\n",
       "      <td>6479.79</td>\n",
       "    </tr>\n",
       "    <tr>\n",
       "      <th>4</th>\n",
       "      <td>45933</td>\n",
       "      <td>2017 - 03</td>\n",
       "      <td>18.0</td>\n",
       "      <td>177.991667</td>\n",
       "      <td>3203.85</td>\n",
       "    </tr>\n",
       "  </tbody>\n",
       "</table>\n",
       "</div>"
      ],
      "text/plain": [
       "   studentId      ciclo  Dias_Conectado  Minutos_Promedio  Minutos_Total\n",
       "0      45870  2017 - 03            10.0         76.957000         769.57\n",
       "1      45898  2017 - 03            32.0        370.231250       11847.40\n",
       "2      45905  2017 - 03            50.0        198.717400        9935.87\n",
       "3      45931  2017 - 03            22.0        294.535909        6479.79\n",
       "4      45933  2017 - 03            18.0        177.991667        3203.85"
      ]
     },
     "execution_count": 72,
     "metadata": {},
     "output_type": "execute_result"
    }
   ],
   "source": [
    "!wget --no-check-certificate --content-disposition https://raw.githubusercontent.com/vanderlei-test/dataset2/master/datasets/TablaConexiones.csv\n",
    "df_tabla_conexiones = pd.read_csv(r'TablaConexiones.csv')\n",
    "df_tabla_conexiones.head()"
   ]
  },
  {
   "cell_type": "code",
   "execution_count": 73,
   "metadata": {
    "colab": {
     "base_uri": "https://localhost:8080/",
     "height": 397
    },
    "colab_type": "code",
    "id": "yrUcRDFo0049",
    "outputId": "b216c86f-6175-4657-d6dd-8e0441900b20"
   },
   "outputs": [
    {
     "name": "stdout",
     "output_type": "stream",
     "text": [
      "--2020-09-13 22:34:00--  https://raw.githubusercontent.com/vanderlei-test/dataset2/master/datasets/TablaTareas.csv\r\n",
      "Resolving raw.githubusercontent.com (raw.githubusercontent.com)... 199.232.8.133\r\n",
      "Connecting to raw.githubusercontent.com (raw.githubusercontent.com)|199.232.8.133|:443... connected.\r\n",
      "HTTP request sent, awaiting response... 200 OK\r\n",
      "Length: 310923 (304K) [text/plain]\r\n",
      "Saving to: ‘TablaTareas.csv.1’\r\n",
      "\r\n",
      "100%[======================================>] 310,923     --.-K/s   in 0.01s   \r\n",
      "\r\n",
      "2020-09-13 22:34:00 (20.3 MB/s) - ‘TablaTareas.csv.1’ saved [310923/310923]\r\n",
      "\r\n"
     ]
    },
    {
     "data": {
      "text/html": [
       "<div>\n",
       "<style scoped>\n",
       "    .dataframe tbody tr th:only-of-type {\n",
       "        vertical-align: middle;\n",
       "    }\n",
       "\n",
       "    .dataframe tbody tr th {\n",
       "        vertical-align: top;\n",
       "    }\n",
       "\n",
       "    .dataframe thead th {\n",
       "        text-align: right;\n",
       "    }\n",
       "</style>\n",
       "<table border=\"1\" class=\"dataframe\">\n",
       "  <thead>\n",
       "    <tr style=\"text-align: right;\">\n",
       "      <th></th>\n",
       "      <th>studentId</th>\n",
       "      <th>ciclo</th>\n",
       "      <th>Calificacion_Promedio</th>\n",
       "      <th>Tareas_Puntuales</th>\n",
       "      <th>Tareas_No_Entregadas</th>\n",
       "      <th>Tareas_Retrasadas</th>\n",
       "      <th>Total_Tareas</th>\n",
       "    </tr>\n",
       "  </thead>\n",
       "  <tbody>\n",
       "    <tr>\n",
       "      <th>0</th>\n",
       "      <td>81328.0</td>\n",
       "      <td>2019 - 05</td>\n",
       "      <td>99.000000</td>\n",
       "      <td>10.0</td>\n",
       "      <td>0.0</td>\n",
       "      <td>0.0</td>\n",
       "      <td>10.0</td>\n",
       "    </tr>\n",
       "    <tr>\n",
       "      <th>1</th>\n",
       "      <td>99206.0</td>\n",
       "      <td>2020 - 02</td>\n",
       "      <td>80.777500</td>\n",
       "      <td>10.0</td>\n",
       "      <td>2.0</td>\n",
       "      <td>0.0</td>\n",
       "      <td>12.0</td>\n",
       "    </tr>\n",
       "    <tr>\n",
       "      <th>2</th>\n",
       "      <td>94582.0</td>\n",
       "      <td>2020 - 01</td>\n",
       "      <td>79.666000</td>\n",
       "      <td>10.0</td>\n",
       "      <td>0.0</td>\n",
       "      <td>0.0</td>\n",
       "      <td>10.0</td>\n",
       "    </tr>\n",
       "    <tr>\n",
       "      <th>3</th>\n",
       "      <td>87564.0</td>\n",
       "      <td>2019 - 07</td>\n",
       "      <td>0.000000</td>\n",
       "      <td>0.0</td>\n",
       "      <td>15.0</td>\n",
       "      <td>0.0</td>\n",
       "      <td>15.0</td>\n",
       "    </tr>\n",
       "    <tr>\n",
       "      <th>4</th>\n",
       "      <td>87971.0</td>\n",
       "      <td>2019 - 08</td>\n",
       "      <td>36.363636</td>\n",
       "      <td>5.0</td>\n",
       "      <td>6.0</td>\n",
       "      <td>0.0</td>\n",
       "      <td>11.0</td>\n",
       "    </tr>\n",
       "  </tbody>\n",
       "</table>\n",
       "</div>"
      ],
      "text/plain": [
       "   studentId      ciclo  Calificacion_Promedio  Tareas_Puntuales  \\\n",
       "0    81328.0  2019 - 05              99.000000              10.0   \n",
       "1    99206.0  2020 - 02              80.777500              10.0   \n",
       "2    94582.0  2020 - 01              79.666000              10.0   \n",
       "3    87564.0  2019 - 07               0.000000               0.0   \n",
       "4    87971.0  2019 - 08              36.363636               5.0   \n",
       "\n",
       "   Tareas_No_Entregadas  Tareas_Retrasadas  Total_Tareas  \n",
       "0                   0.0                0.0          10.0  \n",
       "1                   2.0                0.0          12.0  \n",
       "2                   0.0                0.0          10.0  \n",
       "3                  15.0                0.0          15.0  \n",
       "4                   6.0                0.0          11.0  "
      ]
     },
     "execution_count": 73,
     "metadata": {},
     "output_type": "execute_result"
    }
   ],
   "source": [
    "!wget --no-check-certificate --content-disposition https://raw.githubusercontent.com/vanderlei-test/dataset2/master/datasets/TablaTareas.csv\n",
    "df_tabla_tareas = pd.read_csv(r'TablaTareas.csv')\n",
    "df_tabla_tareas.head()"
   ]
  },
  {
   "cell_type": "markdown",
   "metadata": {
    "colab_type": "text",
    "id": "4agwi9SP005M"
   },
   "source": [
    "Overview del Dataset:\n",
    "\n",
    "    Disponibles para el participante, ecisten 4 tables cargas en DataFrames anteriormente:\n",
    "    \n",
    "    **df_base_for_training**\n",
    "        - ``studentId``\n",
    "        ``reducido``\n",
    "        ``ciclo``\n",
    "        ``Graduado`` --> ¡LA VARIABLE OBJETIVO PARA CLASIFICACIÓN BINARIA!\n",
    "        \n",
    "    **df_orden_materias**\n",
    "        ``reducido``\n",
    "        ``2017 - 03``\n",
    "        ``2017 - 04``\n",
    "        ``2017 - 05``\n",
    "        ``2017 - 06``\n",
    "        ``2017 - 07``\n",
    "        ``2017 - 08``\n",
    "        ``2018 - 01``\n",
    "        ``2018 - 02``\n",
    "        ``2018 - 03``\n",
    "        ``2018 - 04``\n",
    "        ``2018 - 05``\n",
    "        ``2018 - 06``\n",
    "        ``2018 - 07``\n",
    "        ``2018 - 08``\n",
    "        ``2019 - 01``\n",
    "        ``2019 - 02``\n",
    "        ``2019 - 03``\n",
    "        ``2019 - 04``\n",
    "        ``2019 - 05``\n",
    "        ``2019 - 06``\n",
    "        ``2019 - 07``\n",
    "        ``2019 - 08``\n",
    "        ``2020 - 01``\n",
    "        ``2020 - 02``\n",
    "        ``2020 - 03``\n",
    "        ``2020 - 04``\n",
    "        ``2020 - 05``\n",
    "        ``2020 - 06``\n",
    "        \n",
    "    **df_tabla_conexiones**\n",
    "        - ``studentId``\n",
    "        ``ciclo``\n",
    "        ``Dias_Conectado``\n",
    "        ``Minutos_Promedio``\n",
    "        ``Minutos_Total``\n",
    "        \n",
    "    **df_tabla_tareas**\n",
    "        - ``studentId``\n",
    "        ``ciclo``\n",
    "        ``Calificacion_Promedio``\n",
    "        ``Tareas_Puntuales``\n",
    "        ``Tareas_No_Entregadas``\n",
    "        ``Tareas_Retrasadas``\n",
    "        ``Total_Tareas``\n",
    "        \n",
    "Observe que la variable ``studentId`` aparece en varias tablas.\n",
    "\n",
    "Usted puede combinar/merge estos datasets como usted desee."
   ]
  },
  {
   "cell_type": "code",
   "execution_count": 74,
   "metadata": {
    "colab": {
     "base_uri": "https://localhost:8080/",
     "height": 330
    },
    "colab_type": "code",
    "id": "GP_4Zvrz005O",
    "outputId": "a02bd87d-7bd5-4142-b1ed-57cb0343065b"
   },
   "outputs": [
    {
     "name": "stdout",
     "output_type": "stream",
     "text": [
      "Columnas en *df_base_for_training*:\n",
      "Index(['studentId', 'reducido', 'ciclo', 'Graduado'], dtype='object')\n",
      "\\Columnas en *df_orden_materias*:\n",
      "Index(['reducido', '2017 - 03', '2017 - 04', '2017 - 05', '2017 - 06',\n",
      "       '2017 - 07', '2017 - 08', '2018 - 01', '2018 - 02', '2018 - 03',\n",
      "       '2018 - 04', '2018 - 05', '2018 - 06', '2018 - 07', '2018 - 08',\n",
      "       '2019 - 01', '2019 - 02', '2019 - 03', '2019 - 04', '2019 - 05',\n",
      "       '2019 - 06', '2019 - 07', '2019 - 08', '2020 - 01', '2020 - 02',\n",
      "       '2020 - 03', '2020 - 04', '2020 - 05', '2020 - 06'],\n",
      "      dtype='object')\n",
      "\\Columnas en *df_tabla_conexiones*:\n",
      "Index(['studentId', 'ciclo', 'Dias_Conectado', 'Minutos_Promedio',\n",
      "       'Minutos_Total'],\n",
      "      dtype='object')\n",
      "\\Columnas en *df_tabla_tareas*:\n",
      "Index(['studentId', 'ciclo', 'Calificacion_Promedio', 'Tareas_Puntuales',\n",
      "       'Tareas_No_Entregadas', 'Tareas_Retrasadas', 'Total_Tareas'],\n",
      "      dtype='object')\n"
     ]
    }
   ],
   "source": [
    "print(\"Columnas en *df_base_for_training*:\")\n",
    "print(df_base_for_training.columns)\n",
    "\n",
    "print(\"\\Columnas en *df_orden_materias*:\")\n",
    "print(df_orden_materias.columns)\n",
    "\n",
    "print(\"\\Columnas en *df_tabla_conexiones*:\")\n",
    "print(df_tabla_conexiones.columns)\n",
    "\n",
    "print(\"\\Columnas en *df_tabla_tareas*:\")\n",
    "print(df_tabla_tareas.columns)"
   ]
  },
  {
   "cell_type": "markdown",
   "metadata": {
    "colab_type": "text",
    "id": "zKvc1IOE005a"
   },
   "source": [
    "#### ¡ATENCIÓN! La columna **target** es  ``Graduado``, presente en el DataFrame \"df_base_for_training\"."
   ]
  },
  {
   "cell_type": "markdown",
   "metadata": {
    "colab_type": "text",
    "id": "jDBo6Qau005c"
   },
   "source": [
    "<hr>"
   ]
  },
  {
   "cell_type": "markdown",
   "metadata": {
    "colab_type": "text",
    "id": "qCwyL4mx005e"
   },
   "source": [
    "## Uniendo DataFrames en Pandas\n",
    "\n",
    "Documentación oficial para Pandas 1.1.0: https://pandas.pydata.org/pandas-docs/stable/user_guide/merging.html"
   ]
  },
  {
   "cell_type": "markdown",
   "metadata": {
    "colab_type": "text",
    "id": "W7uTyd8u005g"
   },
   "source": [
    "Como un **ejemplo** de como usar Pandas, camos a unir/merge la información de las tablas \"df_base_for_training\" y \"df_tabla_tareas\" a traves de la llave ``studentId``.\n",
    "\n",
    "Usted puee editar el dataframes manualmente si lo prefiere, usando Microsoft Excel u otros lenguajes. Recuerde insertar la data procesada en IBM Cloud Pak for Data para que pueda entrenar su modelo."
   ]
  },
  {
   "cell_type": "code",
   "execution_count": 75,
   "metadata": {
    "colab": {
     "base_uri": "https://localhost:8080/",
     "height": 206
    },
    "colab_type": "code",
    "id": "YPwkuChW005h",
    "outputId": "f135cf34-ec50-476b-c062-f6c2eaaf2f85"
   },
   "outputs": [
    {
     "data": {
      "text/html": [
       "<div>\n",
       "<style scoped>\n",
       "    .dataframe tbody tr th:only-of-type {\n",
       "        vertical-align: middle;\n",
       "    }\n",
       "\n",
       "    .dataframe tbody tr th {\n",
       "        vertical-align: top;\n",
       "    }\n",
       "\n",
       "    .dataframe thead th {\n",
       "        text-align: right;\n",
       "    }\n",
       "</style>\n",
       "<table border=\"1\" class=\"dataframe\">\n",
       "  <thead>\n",
       "    <tr style=\"text-align: right;\">\n",
       "      <th></th>\n",
       "      <th>studentId</th>\n",
       "      <th>reducido</th>\n",
       "      <th>ciclo</th>\n",
       "      <th>Graduado</th>\n",
       "    </tr>\n",
       "  </thead>\n",
       "  <tbody>\n",
       "    <tr>\n",
       "      <th>2495</th>\n",
       "      <td>89685.0</td>\n",
       "      <td>Estrat. Comercial</td>\n",
       "      <td>2019 - 08</td>\n",
       "      <td>No</td>\n",
       "    </tr>\n",
       "    <tr>\n",
       "      <th>2496</th>\n",
       "      <td>77590.0</td>\n",
       "      <td>Crianza Hijos</td>\n",
       "      <td>2019 - 06</td>\n",
       "      <td>Si</td>\n",
       "    </tr>\n",
       "    <tr>\n",
       "      <th>2497</th>\n",
       "      <td>57623.0</td>\n",
       "      <td>Mercadotecnia</td>\n",
       "      <td>2018 - 02</td>\n",
       "      <td>Si</td>\n",
       "    </tr>\n",
       "    <tr>\n",
       "      <th>2498</th>\n",
       "      <td>50018.0</td>\n",
       "      <td>Lider. Inst. Edu.</td>\n",
       "      <td>2017 - 05</td>\n",
       "      <td>No</td>\n",
       "    </tr>\n",
       "    <tr>\n",
       "      <th>2499</th>\n",
       "      <td>88250.0</td>\n",
       "      <td>Prof. Deportiva.</td>\n",
       "      <td>2019 - 08</td>\n",
       "      <td>No</td>\n",
       "    </tr>\n",
       "  </tbody>\n",
       "</table>\n",
       "</div>"
      ],
      "text/plain": [
       "      studentId           reducido      ciclo Graduado\n",
       "2495    89685.0  Estrat. Comercial  2019 - 08       No\n",
       "2496    77590.0      Crianza Hijos  2019 - 06       Si\n",
       "2497    57623.0      Mercadotecnia  2018 - 02       Si\n",
       "2498    50018.0  Lider. Inst. Edu.  2017 - 05       No\n",
       "2499    88250.0   Prof. Deportiva.  2019 - 08       No"
      ]
     },
     "execution_count": 75,
     "metadata": {},
     "output_type": "execute_result"
    }
   ],
   "source": [
    "df_base_for_training.tail()"
   ]
  },
  {
   "cell_type": "code",
   "execution_count": 76,
   "metadata": {
    "colab": {
     "base_uri": "https://localhost:8080/",
     "height": 206
    },
    "colab_type": "code",
    "id": "UYTGX_FW005w",
    "outputId": "af78ccb5-1456-4b0e-d861-0a059bc9b3d3"
   },
   "outputs": [
    {
     "data": {
      "text/html": [
       "<div>\n",
       "<style scoped>\n",
       "    .dataframe tbody tr th:only-of-type {\n",
       "        vertical-align: middle;\n",
       "    }\n",
       "\n",
       "    .dataframe tbody tr th {\n",
       "        vertical-align: top;\n",
       "    }\n",
       "\n",
       "    .dataframe thead th {\n",
       "        text-align: right;\n",
       "    }\n",
       "</style>\n",
       "<table border=\"1\" class=\"dataframe\">\n",
       "  <thead>\n",
       "    <tr style=\"text-align: right;\">\n",
       "      <th></th>\n",
       "      <th>studentId</th>\n",
       "      <th>ciclo</th>\n",
       "      <th>Calificacion_Promedio</th>\n",
       "      <th>Tareas_Puntuales</th>\n",
       "      <th>Tareas_No_Entregadas</th>\n",
       "      <th>Tareas_Retrasadas</th>\n",
       "      <th>Total_Tareas</th>\n",
       "    </tr>\n",
       "  </thead>\n",
       "  <tbody>\n",
       "    <tr>\n",
       "      <th>6293</th>\n",
       "      <td>80467.0</td>\n",
       "      <td>2019 - 05</td>\n",
       "      <td>20.000000</td>\n",
       "      <td>1.0</td>\n",
       "      <td>4.0</td>\n",
       "      <td>0.0</td>\n",
       "      <td>5.0</td>\n",
       "    </tr>\n",
       "    <tr>\n",
       "      <th>6294</th>\n",
       "      <td>80249.0</td>\n",
       "      <td>2019 - 05</td>\n",
       "      <td>50.600000</td>\n",
       "      <td>3.0</td>\n",
       "      <td>2.0</td>\n",
       "      <td>0.0</td>\n",
       "      <td>5.0</td>\n",
       "    </tr>\n",
       "    <tr>\n",
       "      <th>6295</th>\n",
       "      <td>85857.0</td>\n",
       "      <td>2019 - 07</td>\n",
       "      <td>81.428571</td>\n",
       "      <td>13.0</td>\n",
       "      <td>1.0</td>\n",
       "      <td>0.0</td>\n",
       "      <td>14.0</td>\n",
       "    </tr>\n",
       "    <tr>\n",
       "      <th>6296</th>\n",
       "      <td>98880.0</td>\n",
       "      <td>2020 - 02</td>\n",
       "      <td>91.212727</td>\n",
       "      <td>11.0</td>\n",
       "      <td>0.0</td>\n",
       "      <td>0.0</td>\n",
       "      <td>11.0</td>\n",
       "    </tr>\n",
       "    <tr>\n",
       "      <th>6297</th>\n",
       "      <td>71859.0</td>\n",
       "      <td>2019 - 02</td>\n",
       "      <td>87.333000</td>\n",
       "      <td>10.0</td>\n",
       "      <td>0.0</td>\n",
       "      <td>0.0</td>\n",
       "      <td>10.0</td>\n",
       "    </tr>\n",
       "  </tbody>\n",
       "</table>\n",
       "</div>"
      ],
      "text/plain": [
       "      studentId      ciclo  Calificacion_Promedio  Tareas_Puntuales  \\\n",
       "6293    80467.0  2019 - 05              20.000000               1.0   \n",
       "6294    80249.0  2019 - 05              50.600000               3.0   \n",
       "6295    85857.0  2019 - 07              81.428571              13.0   \n",
       "6296    98880.0  2020 - 02              91.212727              11.0   \n",
       "6297    71859.0  2019 - 02              87.333000              10.0   \n",
       "\n",
       "      Tareas_No_Entregadas  Tareas_Retrasadas  Total_Tareas  \n",
       "6293                   4.0                0.0           5.0  \n",
       "6294                   2.0                0.0           5.0  \n",
       "6295                   1.0                0.0          14.0  \n",
       "6296                   0.0                0.0          11.0  \n",
       "6297                   0.0                0.0          10.0  "
      ]
     },
     "execution_count": 76,
     "metadata": {},
     "output_type": "execute_result"
    }
   ],
   "source": [
    "df_tabla_tareas.tail()"
   ]
  },
  {
   "cell_type": "code",
   "execution_count": 77,
   "metadata": {
    "colab": {
     "base_uri": "https://localhost:8080/",
     "height": 206
    },
    "colab_type": "code",
    "id": "rsMy2XOD0059",
    "outputId": "a2bcc8f2-cf32-4918-e03b-b5ad2d7dbba6"
   },
   "outputs": [
    {
     "data": {
      "text/html": [
       "<div>\n",
       "<style scoped>\n",
       "    .dataframe tbody tr th:only-of-type {\n",
       "        vertical-align: middle;\n",
       "    }\n",
       "\n",
       "    .dataframe tbody tr th {\n",
       "        vertical-align: top;\n",
       "    }\n",
       "\n",
       "    .dataframe thead th {\n",
       "        text-align: right;\n",
       "    }\n",
       "</style>\n",
       "<table border=\"1\" class=\"dataframe\">\n",
       "  <thead>\n",
       "    <tr style=\"text-align: right;\">\n",
       "      <th></th>\n",
       "      <th>studentId</th>\n",
       "      <th>reducido</th>\n",
       "      <th>ciclo</th>\n",
       "      <th>Graduado</th>\n",
       "      <th>Calificacion_Promedio</th>\n",
       "      <th>Tareas_Puntuales</th>\n",
       "      <th>Tareas_No_Entregadas</th>\n",
       "      <th>Tareas_Retrasadas</th>\n",
       "      <th>Total_Tareas</th>\n",
       "      <th>Dias_Conectado</th>\n",
       "      <th>Minutos_Promedio</th>\n",
       "      <th>Minutos_Total</th>\n",
       "    </tr>\n",
       "  </thead>\n",
       "  <tbody>\n",
       "    <tr>\n",
       "      <th>2495</th>\n",
       "      <td>89685.0</td>\n",
       "      <td>Estrat. Comercial</td>\n",
       "      <td>2019 - 08</td>\n",
       "      <td>No</td>\n",
       "      <td>79.457000</td>\n",
       "      <td>10.0</td>\n",
       "      <td>0.0</td>\n",
       "      <td>0.0</td>\n",
       "      <td>10.0</td>\n",
       "      <td>56.0</td>\n",
       "      <td>162.077500</td>\n",
       "      <td>9076.34</td>\n",
       "    </tr>\n",
       "    <tr>\n",
       "      <th>2496</th>\n",
       "      <td>77590.0</td>\n",
       "      <td>Crianza Hijos</td>\n",
       "      <td>2019 - 06</td>\n",
       "      <td>Si</td>\n",
       "      <td>88.333571</td>\n",
       "      <td>14.0</td>\n",
       "      <td>0.0</td>\n",
       "      <td>0.0</td>\n",
       "      <td>14.0</td>\n",
       "      <td>36.0</td>\n",
       "      <td>446.748333</td>\n",
       "      <td>16082.94</td>\n",
       "    </tr>\n",
       "    <tr>\n",
       "      <th>2497</th>\n",
       "      <td>57623.0</td>\n",
       "      <td>Mercadotecnia</td>\n",
       "      <td>2018 - 02</td>\n",
       "      <td>Si</td>\n",
       "      <td>85.555556</td>\n",
       "      <td>9.0</td>\n",
       "      <td>0.0</td>\n",
       "      <td>0.0</td>\n",
       "      <td>9.0</td>\n",
       "      <td>71.0</td>\n",
       "      <td>131.249155</td>\n",
       "      <td>9318.69</td>\n",
       "    </tr>\n",
       "    <tr>\n",
       "      <th>2498</th>\n",
       "      <td>50018.0</td>\n",
       "      <td>Lider. Inst. Edu.</td>\n",
       "      <td>2017 - 05</td>\n",
       "      <td>No</td>\n",
       "      <td>0.000000</td>\n",
       "      <td>0.0</td>\n",
       "      <td>10.0</td>\n",
       "      <td>0.0</td>\n",
       "      <td>10.0</td>\n",
       "      <td>7.0</td>\n",
       "      <td>140.868571</td>\n",
       "      <td>986.08</td>\n",
       "    </tr>\n",
       "    <tr>\n",
       "      <th>2499</th>\n",
       "      <td>88250.0</td>\n",
       "      <td>Prof. Deportiva.</td>\n",
       "      <td>2019 - 08</td>\n",
       "      <td>No</td>\n",
       "      <td>78.527273</td>\n",
       "      <td>11.0</td>\n",
       "      <td>0.0</td>\n",
       "      <td>0.0</td>\n",
       "      <td>11.0</td>\n",
       "      <td>34.0</td>\n",
       "      <td>651.966765</td>\n",
       "      <td>22166.87</td>\n",
       "    </tr>\n",
       "  </tbody>\n",
       "</table>\n",
       "</div>"
      ],
      "text/plain": [
       "      studentId           reducido      ciclo Graduado  Calificacion_Promedio  \\\n",
       "2495    89685.0  Estrat. Comercial  2019 - 08       No              79.457000   \n",
       "2496    77590.0      Crianza Hijos  2019 - 06       Si              88.333571   \n",
       "2497    57623.0      Mercadotecnia  2018 - 02       Si              85.555556   \n",
       "2498    50018.0  Lider. Inst. Edu.  2017 - 05       No               0.000000   \n",
       "2499    88250.0   Prof. Deportiva.  2019 - 08       No              78.527273   \n",
       "\n",
       "      Tareas_Puntuales  Tareas_No_Entregadas  Tareas_Retrasadas  Total_Tareas  \\\n",
       "2495              10.0                   0.0                0.0          10.0   \n",
       "2496              14.0                   0.0                0.0          14.0   \n",
       "2497               9.0                   0.0                0.0           9.0   \n",
       "2498               0.0                  10.0                0.0          10.0   \n",
       "2499              11.0                   0.0                0.0          11.0   \n",
       "\n",
       "      Dias_Conectado  Minutos_Promedio  Minutos_Total  \n",
       "2495            56.0        162.077500        9076.34  \n",
       "2496            36.0        446.748333       16082.94  \n",
       "2497            71.0        131.249155        9318.69  \n",
       "2498             7.0        140.868571         986.08  \n",
       "2499            34.0        651.966765       22166.87  "
      ]
     },
     "execution_count": 77,
     "metadata": {},
     "output_type": "execute_result"
    }
   ],
   "source": [
    "# El resultado de esta celda sera la union de los dos anteriores dataframes\n",
    "# usando la columna ``studentId`` como llave.\n",
    "# Merge studens tareas\n",
    "df_temp = pd.merge(\n",
    "    df_base_for_training, df_tabla_tareas, how='inner',\n",
    "    on=None, left_on=['studentId', 'ciclo'], right_on=['studentId', 'ciclo'],\n",
    "    left_index=False, right_index=False, sort=False,\n",
    "    suffixes=('_x', '_y'), copy=True, indicator=False,\n",
    "    validate=None\n",
    ")\n",
    "# Merge anterior con conexciones\n",
    "df = pd.merge(\n",
    "    df_temp, df_tabla_conexiones, how='inner',\n",
    "    on=None, left_on=['studentId', 'ciclo'], right_on=['studentId', 'ciclo'],\n",
    "    left_index=False, right_index=False, sort=False,\n",
    "    suffixes=('_x', '_y'), copy=True, indicator=False,\n",
    "    validate=None\n",
    ")\n",
    "\n",
    "df.tail()"
   ]
  },
  {
   "cell_type": "code",
   "execution_count": 79,
   "metadata": {
    "colab": {
     "base_uri": "https://localhost:8080/",
     "height": 347
    },
    "colab_type": "code",
    "id": "7TUTF1HN006E",
    "outputId": "f865700b-a238-43f8-b4db-c12b26483362"
   },
   "outputs": [
    {
     "name": "stdout",
     "output_type": "stream",
     "text": [
      "<class 'pandas.core.frame.DataFrame'>\n",
      "Int64Index: 2500 entries, 0 to 2499\n",
      "Data columns (total 12 columns):\n",
      "studentId                2500 non-null float64\n",
      "reducido                 2500 non-null object\n",
      "ciclo                    2500 non-null object\n",
      "Graduado                 2500 non-null object\n",
      "Calificacion_Promedio    2500 non-null float64\n",
      "Tareas_Puntuales         2500 non-null float64\n",
      "Tareas_No_Entregadas     2500 non-null float64\n",
      "Tareas_Retrasadas        2500 non-null float64\n",
      "Total_Tareas             2500 non-null float64\n",
      "Dias_Conectado           2500 non-null float64\n",
      "Minutos_Promedio         2500 non-null float64\n",
      "Minutos_Total            2500 non-null float64\n",
      "dtypes: float64(9), object(3)\n",
      "memory usage: 253.9+ KB\n"
     ]
    }
   ],
   "source": [
    "# Información acerca de las columnas del dataset unido\n",
    "df.info()"
   ]
  },
  {
   "cell_type": "markdown",
   "metadata": {
    "colab_type": "text",
    "id": "-fkjAXLV006Q"
   },
   "source": [
    "De la información de arriba ud puede observar que hay valores Null/NaN en algunas de las columnas.\n",
    "\n",
    "Para que nuestro modelo quede bien entrenado necesitamos procesar estos valores nulos de una forma adecuada.\n",
    "\n",
    "Usted escogera la mejor estrategia como parte del desafío, pero en la siguiente celda encuentra un **ejemplo** the como puede hacer este procesamiento usanto la libreria *scikit-learn*.\n",
    "\n",
    "<hr>"
   ]
  },
  {
   "cell_type": "markdown",
   "metadata": {
    "colab_type": "text",
    "id": "Xt_RExrp006R"
   },
   "source": [
    "## Pre-procesando el dataset antes de entrenar"
   ]
  },
  {
   "cell_type": "markdown",
   "metadata": {
    "colab_type": "text",
    "id": "Yco_fUeq0061"
   },
   "source": [
    "### Procesando valores NaN con SimpleImputer de sklearn\n",
    "\n",
    "Para los otros valores NaN vamos a usar como **ejemplo** la sustitución por la constante 0. \n",
    "\n",
    "Usted puede escoger cualquier estrategia que crea que es la mejor para esto :)\n",
    "\n",
    "Docs: https://scikit-learn.org/stable/modules/generated/sklearn.impute.SimpleImputer.html?highlight=simpleimputer#sklearn.impute.SimpleImputer"
   ]
  },
  {
   "cell_type": "code",
   "execution_count": 83,
   "metadata": {
    "colab": {},
    "colab_type": "code",
    "id": "XMAxrhow0062"
   },
   "outputs": [],
   "source": [
    "from sklearn.impute import SimpleImputer\n",
    "import numpy as np\n",
    "\n",
    "\n",
    "# Creando un objeto ``SimpleImputer``\n",
    "impute_zeros = SimpleImputer(\n",
    "    missing_values=np.nan,  # Los valores faltantes son de tipo ``np.nan`` (estandar Pandas)\n",
    "    strategy='constant',  # La estrategia escogida es reemplazar por una constante\n",
    "    fill_value=0,  # La constante que será usada para reemmplazar los valores faltantes es un int64=0.\n",
    "    verbose=0,\n",
    "    copy=True\n",
    ")"
   ]
  },
  {
   "cell_type": "code",
   "execution_count": 84,
   "metadata": {
    "colab": {
     "base_uri": "https://localhost:8080/",
     "height": 573
    },
    "colab_type": "code",
    "id": "9qXxhbVf007B",
    "outputId": "4c40245e-52c5-4593-85d0-7b307bd6ed23"
   },
   "outputs": [
    {
     "name": "stdout",
     "output_type": "stream",
     "text": [
      "Valores nulos antes de transformación SimpleImputer: \n",
      "\n",
      "studentId                0\n",
      "reducido                 0\n",
      "ciclo                    0\n",
      "Graduado                 0\n",
      "Calificacion_Promedio    0\n",
      "Tareas_Puntuales         0\n",
      "Tareas_No_Entregadas     0\n",
      "Tareas_Retrasadas        0\n",
      "Total_Tareas             0\n",
      "Dias_Conectado           0\n",
      "Minutos_Promedio         0\n",
      "Minutos_Total            0\n",
      "dtype: int64\n",
      "\n",
      "Valores nulos del dataset despues de la transformación SimpleImputer: \n",
      "\n",
      "studentId                0\n",
      "reducido                 0\n",
      "ciclo                    0\n",
      "Graduado                 0\n",
      "Calificacion_Promedio    0\n",
      "Tareas_Puntuales         0\n",
      "Tareas_No_Entregadas     0\n",
      "Tareas_Retrasadas        0\n",
      "Total_Tareas             0\n",
      "Dias_Conectado           0\n",
      "Minutos_Promedio         0\n",
      "Minutos_Total            0\n",
      "dtype: int64\n",
      "\n"
     ]
    }
   ],
   "source": [
    "# Visualizando los datos faltantes del dataset antes de la segunda transformación (df_data_2)\n",
    "print(\"Valores nulos antes de transformación SimpleImputer: \\n\\n{}\\n\".format(df2.isnull().sum(axis = 0)))\n",
    "\n",
    "# Aplicar la transformación ``SimpleImputer`` en el conjunto de datos base\n",
    "impute_zeros.fit(X=df)\n",
    "\n",
    "# Reconstrucción del nuevo DataFrame Pandas (df_data_3)\n",
    "df = pd.DataFrame.from_records(\n",
    "    data=impute_zeros.transform(\n",
    "        X=df\n",
    "    ),  # El resultado SimpleImputer.transform(<<pandas dataframe>>) es una lista de listas\n",
    "    columns=df.columns  # Las columnas originals deben ser conservadas en esta transformación\n",
    ")\n",
    "\n",
    "# Visualizndo los datos faltantes del dataset \n",
    "print(\"Valores nulos del dataset despues de la transformación SimpleImputer: \\n\\n{}\\n\".format(df.isnull().sum(axis = 0)))"
   ]
  },
  {
   "cell_type": "markdown",
   "metadata": {
    "colab_type": "text",
    "id": "_ZWXiFfE007H"
   },
   "source": [
    "### Eliminando columnas no desadas\n",
    "\n",
    "Vamos a **demostrar** acontinuación como usar el metodo DataFrame.drop().\n",
    "\n",
    "Docs: https://pandas.pydata.org/pandas-docs/stable/reference/api/pandas.DataFrame.drop.html"
   ]
  },
  {
   "cell_type": "code",
   "execution_count": 85,
   "metadata": {
    "colab": {
     "base_uri": "https://localhost:8080/",
     "height": 206
    },
    "colab_type": "code",
    "id": "15i1KaWg007I",
    "outputId": "9b3ea1f1-3bc9-417e-9f53-63625038357a"
   },
   "outputs": [
    {
     "data": {
      "text/html": [
       "<div>\n",
       "<style scoped>\n",
       "    .dataframe tbody tr th:only-of-type {\n",
       "        vertical-align: middle;\n",
       "    }\n",
       "\n",
       "    .dataframe tbody tr th {\n",
       "        vertical-align: top;\n",
       "    }\n",
       "\n",
       "    .dataframe thead th {\n",
       "        text-align: right;\n",
       "    }\n",
       "</style>\n",
       "<table border=\"1\" class=\"dataframe\">\n",
       "  <thead>\n",
       "    <tr style=\"text-align: right;\">\n",
       "      <th></th>\n",
       "      <th>studentId</th>\n",
       "      <th>reducido</th>\n",
       "      <th>ciclo</th>\n",
       "      <th>Graduado</th>\n",
       "      <th>Calificacion_Promedio</th>\n",
       "      <th>Tareas_Puntuales</th>\n",
       "      <th>Tareas_No_Entregadas</th>\n",
       "      <th>Tareas_Retrasadas</th>\n",
       "      <th>Total_Tareas</th>\n",
       "      <th>Dias_Conectado</th>\n",
       "      <th>Minutos_Promedio</th>\n",
       "      <th>Minutos_Total</th>\n",
       "    </tr>\n",
       "  </thead>\n",
       "  <tbody>\n",
       "    <tr>\n",
       "      <th>2495</th>\n",
       "      <td>89685.0</td>\n",
       "      <td>Estrat. Comercial</td>\n",
       "      <td>2019 - 08</td>\n",
       "      <td>No</td>\n",
       "      <td>79.457000</td>\n",
       "      <td>10.0</td>\n",
       "      <td>0.0</td>\n",
       "      <td>0.0</td>\n",
       "      <td>10.0</td>\n",
       "      <td>56.0</td>\n",
       "      <td>162.077500</td>\n",
       "      <td>9076.34</td>\n",
       "    </tr>\n",
       "    <tr>\n",
       "      <th>2496</th>\n",
       "      <td>77590.0</td>\n",
       "      <td>Crianza Hijos</td>\n",
       "      <td>2019 - 06</td>\n",
       "      <td>Si</td>\n",
       "      <td>88.333571</td>\n",
       "      <td>14.0</td>\n",
       "      <td>0.0</td>\n",
       "      <td>0.0</td>\n",
       "      <td>14.0</td>\n",
       "      <td>36.0</td>\n",
       "      <td>446.748333</td>\n",
       "      <td>16082.94</td>\n",
       "    </tr>\n",
       "    <tr>\n",
       "      <th>2497</th>\n",
       "      <td>57623.0</td>\n",
       "      <td>Mercadotecnia</td>\n",
       "      <td>2018 - 02</td>\n",
       "      <td>Si</td>\n",
       "      <td>85.555556</td>\n",
       "      <td>9.0</td>\n",
       "      <td>0.0</td>\n",
       "      <td>0.0</td>\n",
       "      <td>9.0</td>\n",
       "      <td>71.0</td>\n",
       "      <td>131.249155</td>\n",
       "      <td>9318.69</td>\n",
       "    </tr>\n",
       "    <tr>\n",
       "      <th>2498</th>\n",
       "      <td>50018.0</td>\n",
       "      <td>Lider. Inst. Edu.</td>\n",
       "      <td>2017 - 05</td>\n",
       "      <td>No</td>\n",
       "      <td>0.000000</td>\n",
       "      <td>0.0</td>\n",
       "      <td>10.0</td>\n",
       "      <td>0.0</td>\n",
       "      <td>10.0</td>\n",
       "      <td>7.0</td>\n",
       "      <td>140.868571</td>\n",
       "      <td>986.08</td>\n",
       "    </tr>\n",
       "    <tr>\n",
       "      <th>2499</th>\n",
       "      <td>88250.0</td>\n",
       "      <td>Prof. Deportiva.</td>\n",
       "      <td>2019 - 08</td>\n",
       "      <td>No</td>\n",
       "      <td>78.527273</td>\n",
       "      <td>11.0</td>\n",
       "      <td>0.0</td>\n",
       "      <td>0.0</td>\n",
       "      <td>11.0</td>\n",
       "      <td>34.0</td>\n",
       "      <td>651.966765</td>\n",
       "      <td>22166.87</td>\n",
       "    </tr>\n",
       "  </tbody>\n",
       "</table>\n",
       "</div>"
      ],
      "text/plain": [
       "      studentId           reducido      ciclo Graduado  Calificacion_Promedio  \\\n",
       "2495    89685.0  Estrat. Comercial  2019 - 08       No              79.457000   \n",
       "2496    77590.0      Crianza Hijos  2019 - 06       Si              88.333571   \n",
       "2497    57623.0      Mercadotecnia  2018 - 02       Si              85.555556   \n",
       "2498    50018.0  Lider. Inst. Edu.  2017 - 05       No               0.000000   \n",
       "2499    88250.0   Prof. Deportiva.  2019 - 08       No              78.527273   \n",
       "\n",
       "      Tareas_Puntuales  Tareas_No_Entregadas  Tareas_Retrasadas  Total_Tareas  \\\n",
       "2495              10.0                   0.0                0.0          10.0   \n",
       "2496              14.0                   0.0                0.0          14.0   \n",
       "2497               9.0                   0.0                0.0           9.0   \n",
       "2498               0.0                  10.0                0.0          10.0   \n",
       "2499              11.0                   0.0                0.0          11.0   \n",
       "\n",
       "      Dias_Conectado  Minutos_Promedio  Minutos_Total  \n",
       "2495            56.0        162.077500        9076.34  \n",
       "2496            36.0        446.748333       16082.94  \n",
       "2497            71.0        131.249155        9318.69  \n",
       "2498             7.0        140.868571         986.08  \n",
       "2499            34.0        651.966765       22166.87  "
      ]
     },
     "execution_count": 85,
     "metadata": {},
     "output_type": "execute_result"
    }
   ],
   "source": [
    "df.tail()"
   ]
  },
  {
   "cell_type": "code",
   "execution_count": 87,
   "metadata": {
    "colab": {},
    "colab_type": "code",
    "id": "2BAhfOPE007U"
   },
   "outputs": [],
   "source": [
    "df2 = df.drop(columns=['studentId', 'Total_Tareas', 'Minutos_Promedio'], inplace=False)"
   ]
  },
  {
   "cell_type": "code",
   "execution_count": 88,
   "metadata": {
    "colab": {
     "base_uri": "https://localhost:8080/",
     "height": 206
    },
    "colab_type": "code",
    "id": "8keG3UpQ007Z",
    "outputId": "ee01dd12-e600-4b17-84e1-9e4722382e00"
   },
   "outputs": [
    {
     "data": {
      "text/html": [
       "<div>\n",
       "<style scoped>\n",
       "    .dataframe tbody tr th:only-of-type {\n",
       "        vertical-align: middle;\n",
       "    }\n",
       "\n",
       "    .dataframe tbody tr th {\n",
       "        vertical-align: top;\n",
       "    }\n",
       "\n",
       "    .dataframe thead th {\n",
       "        text-align: right;\n",
       "    }\n",
       "</style>\n",
       "<table border=\"1\" class=\"dataframe\">\n",
       "  <thead>\n",
       "    <tr style=\"text-align: right;\">\n",
       "      <th></th>\n",
       "      <th>reducido</th>\n",
       "      <th>ciclo</th>\n",
       "      <th>Graduado</th>\n",
       "      <th>Calificacion_Promedio</th>\n",
       "      <th>Tareas_Puntuales</th>\n",
       "      <th>Tareas_No_Entregadas</th>\n",
       "      <th>Tareas_Retrasadas</th>\n",
       "      <th>Dias_Conectado</th>\n",
       "      <th>Minutos_Total</th>\n",
       "    </tr>\n",
       "  </thead>\n",
       "  <tbody>\n",
       "    <tr>\n",
       "      <th>2495</th>\n",
       "      <td>Estrat. Comercial</td>\n",
       "      <td>2019 - 08</td>\n",
       "      <td>No</td>\n",
       "      <td>79.457000</td>\n",
       "      <td>10.0</td>\n",
       "      <td>0.0</td>\n",
       "      <td>0.0</td>\n",
       "      <td>56.0</td>\n",
       "      <td>9076.34</td>\n",
       "    </tr>\n",
       "    <tr>\n",
       "      <th>2496</th>\n",
       "      <td>Crianza Hijos</td>\n",
       "      <td>2019 - 06</td>\n",
       "      <td>Si</td>\n",
       "      <td>88.333571</td>\n",
       "      <td>14.0</td>\n",
       "      <td>0.0</td>\n",
       "      <td>0.0</td>\n",
       "      <td>36.0</td>\n",
       "      <td>16082.94</td>\n",
       "    </tr>\n",
       "    <tr>\n",
       "      <th>2497</th>\n",
       "      <td>Mercadotecnia</td>\n",
       "      <td>2018 - 02</td>\n",
       "      <td>Si</td>\n",
       "      <td>85.555556</td>\n",
       "      <td>9.0</td>\n",
       "      <td>0.0</td>\n",
       "      <td>0.0</td>\n",
       "      <td>71.0</td>\n",
       "      <td>9318.69</td>\n",
       "    </tr>\n",
       "    <tr>\n",
       "      <th>2498</th>\n",
       "      <td>Lider. Inst. Edu.</td>\n",
       "      <td>2017 - 05</td>\n",
       "      <td>No</td>\n",
       "      <td>0.000000</td>\n",
       "      <td>0.0</td>\n",
       "      <td>10.0</td>\n",
       "      <td>0.0</td>\n",
       "      <td>7.0</td>\n",
       "      <td>986.08</td>\n",
       "    </tr>\n",
       "    <tr>\n",
       "      <th>2499</th>\n",
       "      <td>Prof. Deportiva.</td>\n",
       "      <td>2019 - 08</td>\n",
       "      <td>No</td>\n",
       "      <td>78.527273</td>\n",
       "      <td>11.0</td>\n",
       "      <td>0.0</td>\n",
       "      <td>0.0</td>\n",
       "      <td>34.0</td>\n",
       "      <td>22166.87</td>\n",
       "    </tr>\n",
       "  </tbody>\n",
       "</table>\n",
       "</div>"
      ],
      "text/plain": [
       "               reducido      ciclo Graduado  Calificacion_Promedio  \\\n",
       "2495  Estrat. Comercial  2019 - 08       No              79.457000   \n",
       "2496      Crianza Hijos  2019 - 06       Si              88.333571   \n",
       "2497      Mercadotecnia  2018 - 02       Si              85.555556   \n",
       "2498  Lider. Inst. Edu.  2017 - 05       No               0.000000   \n",
       "2499   Prof. Deportiva.  2019 - 08       No              78.527273   \n",
       "\n",
       "      Tareas_Puntuales  Tareas_No_Entregadas  Tareas_Retrasadas  \\\n",
       "2495              10.0                   0.0                0.0   \n",
       "2496              14.0                   0.0                0.0   \n",
       "2497               9.0                   0.0                0.0   \n",
       "2498               0.0                  10.0                0.0   \n",
       "2499              11.0                   0.0                0.0   \n",
       "\n",
       "      Dias_Conectado  Minutos_Total  \n",
       "2495            56.0        9076.34  \n",
       "2496            36.0       16082.94  \n",
       "2497            71.0        9318.69  \n",
       "2498             7.0         986.08  \n",
       "2499            34.0       22166.87  "
      ]
     },
     "execution_count": 88,
     "metadata": {},
     "output_type": "execute_result"
    }
   ],
   "source": [
    "df2.tail()"
   ]
  },
  {
   "cell_type": "markdown",
   "metadata": {
    "colab_type": "text",
    "id": "yPtZd3-R007m"
   },
   "source": [
    "### Manejando variables Categoricas\n",
    "\n",
    "Como se menciono antes, los computadores no son buenos con las variables categoricas.\n",
    "\n",
    "Mientras que nosotros entendemos bien las variables categoricas, es debido a un conocimiento previo quie el computador no tiene.\n",
    "\n",
    "La mayoria de tecnicas de Machine Learning y modelso trabajan con un set limitado de datos (Tipicamente binario). \n",
    "\n",
    "Las redes neurales consumenda data y producen resultados en el rango de 0..1 t raramente van mas alla del alcance.\n",
    "\n",
    "En resumen, la gran mayoria de algoritmos de machine learning aceptan data de entrada  (\"training data\") de donde los features son extraidos.\n",
    "\n",
    "Basado en estos features, un modelo matematico es creado, el cual es usado para hacer una predicción o decision sin ser programado explicitamente para esa tarea.\n",
    "\n",
    "Dado un dataset con con 2 features, vamos a dejar que encoder encuentre los valores unicos por features y transforme la data a binario usando la tecnica one-hot encoding."
   ]
  },
  {
   "cell_type": "code",
   "execution_count": 89,
   "metadata": {
    "colab": {
     "base_uri": "https://localhost:8080/",
     "height": 290
    },
    "colab_type": "code",
    "id": "NnRWRuJn007n",
    "outputId": "518d02cd-83ae-4ba5-beec-9a23de105c21"
   },
   "outputs": [
    {
     "data": {
      "text/html": [
       "<div>\n",
       "<style scoped>\n",
       "    .dataframe tbody tr th:only-of-type {\n",
       "        vertical-align: middle;\n",
       "    }\n",
       "\n",
       "    .dataframe tbody tr th {\n",
       "        vertical-align: top;\n",
       "    }\n",
       "\n",
       "    .dataframe thead th {\n",
       "        text-align: right;\n",
       "    }\n",
       "</style>\n",
       "<table border=\"1\" class=\"dataframe\">\n",
       "  <thead>\n",
       "    <tr style=\"text-align: right;\">\n",
       "      <th></th>\n",
       "      <th>Graduado</th>\n",
       "      <th>Calificacion_Promedio</th>\n",
       "      <th>Tareas_Puntuales</th>\n",
       "      <th>Tareas_No_Entregadas</th>\n",
       "      <th>Tareas_Retrasadas</th>\n",
       "      <th>Dias_Conectado</th>\n",
       "      <th>Minutos_Total</th>\n",
       "      <th>ciclo_2017 - 03</th>\n",
       "      <th>ciclo_2017 - 04</th>\n",
       "      <th>ciclo_2017 - 05</th>\n",
       "      <th>...</th>\n",
       "      <th>reducido_Prin. Fiscales</th>\n",
       "      <th>reducido_Prof. Deportiva.</th>\n",
       "      <th>reducido_Prog. Neuroling.</th>\n",
       "      <th>reducido_Programacion de Apps</th>\n",
       "      <th>reducido_Prot. Datos. P</th>\n",
       "      <th>reducido_Psicopat. Adol.</th>\n",
       "      <th>reducido_Psicoped. Escolar</th>\n",
       "      <th>reducido_Transf. Globales</th>\n",
       "      <th>reducido_Trastornos Alimen.</th>\n",
       "      <th>reducido_Ventas Estrat.</th>\n",
       "    </tr>\n",
       "  </thead>\n",
       "  <tbody>\n",
       "    <tr>\n",
       "      <th>2495</th>\n",
       "      <td>No</td>\n",
       "      <td>79.457000</td>\n",
       "      <td>10.0</td>\n",
       "      <td>0.0</td>\n",
       "      <td>0.0</td>\n",
       "      <td>56.0</td>\n",
       "      <td>9076.34</td>\n",
       "      <td>0</td>\n",
       "      <td>0</td>\n",
       "      <td>0</td>\n",
       "      <td>...</td>\n",
       "      <td>0</td>\n",
       "      <td>0</td>\n",
       "      <td>0</td>\n",
       "      <td>0</td>\n",
       "      <td>0</td>\n",
       "      <td>0</td>\n",
       "      <td>0</td>\n",
       "      <td>0</td>\n",
       "      <td>0</td>\n",
       "      <td>0</td>\n",
       "    </tr>\n",
       "    <tr>\n",
       "      <th>2496</th>\n",
       "      <td>Si</td>\n",
       "      <td>88.333571</td>\n",
       "      <td>14.0</td>\n",
       "      <td>0.0</td>\n",
       "      <td>0.0</td>\n",
       "      <td>36.0</td>\n",
       "      <td>16082.94</td>\n",
       "      <td>0</td>\n",
       "      <td>0</td>\n",
       "      <td>0</td>\n",
       "      <td>...</td>\n",
       "      <td>0</td>\n",
       "      <td>0</td>\n",
       "      <td>0</td>\n",
       "      <td>0</td>\n",
       "      <td>0</td>\n",
       "      <td>0</td>\n",
       "      <td>0</td>\n",
       "      <td>0</td>\n",
       "      <td>0</td>\n",
       "      <td>0</td>\n",
       "    </tr>\n",
       "    <tr>\n",
       "      <th>2497</th>\n",
       "      <td>Si</td>\n",
       "      <td>85.555556</td>\n",
       "      <td>9.0</td>\n",
       "      <td>0.0</td>\n",
       "      <td>0.0</td>\n",
       "      <td>71.0</td>\n",
       "      <td>9318.69</td>\n",
       "      <td>0</td>\n",
       "      <td>0</td>\n",
       "      <td>0</td>\n",
       "      <td>...</td>\n",
       "      <td>0</td>\n",
       "      <td>0</td>\n",
       "      <td>0</td>\n",
       "      <td>0</td>\n",
       "      <td>0</td>\n",
       "      <td>0</td>\n",
       "      <td>0</td>\n",
       "      <td>0</td>\n",
       "      <td>0</td>\n",
       "      <td>0</td>\n",
       "    </tr>\n",
       "    <tr>\n",
       "      <th>2498</th>\n",
       "      <td>No</td>\n",
       "      <td>0.000000</td>\n",
       "      <td>0.0</td>\n",
       "      <td>10.0</td>\n",
       "      <td>0.0</td>\n",
       "      <td>7.0</td>\n",
       "      <td>986.08</td>\n",
       "      <td>0</td>\n",
       "      <td>0</td>\n",
       "      <td>1</td>\n",
       "      <td>...</td>\n",
       "      <td>0</td>\n",
       "      <td>0</td>\n",
       "      <td>0</td>\n",
       "      <td>0</td>\n",
       "      <td>0</td>\n",
       "      <td>0</td>\n",
       "      <td>0</td>\n",
       "      <td>0</td>\n",
       "      <td>0</td>\n",
       "      <td>0</td>\n",
       "    </tr>\n",
       "    <tr>\n",
       "      <th>2499</th>\n",
       "      <td>No</td>\n",
       "      <td>78.527273</td>\n",
       "      <td>11.0</td>\n",
       "      <td>0.0</td>\n",
       "      <td>0.0</td>\n",
       "      <td>34.0</td>\n",
       "      <td>22166.87</td>\n",
       "      <td>0</td>\n",
       "      <td>0</td>\n",
       "      <td>0</td>\n",
       "      <td>...</td>\n",
       "      <td>0</td>\n",
       "      <td>1</td>\n",
       "      <td>0</td>\n",
       "      <td>0</td>\n",
       "      <td>0</td>\n",
       "      <td>0</td>\n",
       "      <td>0</td>\n",
       "      <td>0</td>\n",
       "      <td>0</td>\n",
       "      <td>0</td>\n",
       "    </tr>\n",
       "  </tbody>\n",
       "</table>\n",
       "<p>5 rows × 117 columns</p>\n",
       "</div>"
      ],
      "text/plain": [
       "     Graduado  Calificacion_Promedio  Tareas_Puntuales  Tareas_No_Entregadas  \\\n",
       "2495       No              79.457000              10.0                   0.0   \n",
       "2496       Si              88.333571              14.0                   0.0   \n",
       "2497       Si              85.555556               9.0                   0.0   \n",
       "2498       No               0.000000               0.0                  10.0   \n",
       "2499       No              78.527273              11.0                   0.0   \n",
       "\n",
       "      Tareas_Retrasadas  Dias_Conectado  Minutos_Total  ciclo_2017 - 03  \\\n",
       "2495                0.0            56.0        9076.34                0   \n",
       "2496                0.0            36.0       16082.94                0   \n",
       "2497                0.0            71.0        9318.69                0   \n",
       "2498                0.0             7.0         986.08                0   \n",
       "2499                0.0            34.0       22166.87                0   \n",
       "\n",
       "      ciclo_2017 - 04  ciclo_2017 - 05  ...  reducido_Prin. Fiscales  \\\n",
       "2495                0                0  ...                        0   \n",
       "2496                0                0  ...                        0   \n",
       "2497                0                0  ...                        0   \n",
       "2498                0                1  ...                        0   \n",
       "2499                0                0  ...                        0   \n",
       "\n",
       "      reducido_Prof. Deportiva.  reducido_Prog. Neuroling.  \\\n",
       "2495                          0                          0   \n",
       "2496                          0                          0   \n",
       "2497                          0                          0   \n",
       "2498                          0                          0   \n",
       "2499                          1                          0   \n",
       "\n",
       "      reducido_Programacion de Apps  reducido_Prot. Datos. P  \\\n",
       "2495                              0                        0   \n",
       "2496                              0                        0   \n",
       "2497                              0                        0   \n",
       "2498                              0                        0   \n",
       "2499                              0                        0   \n",
       "\n",
       "      reducido_Psicopat. Adol.  reducido_Psicoped. Escolar  \\\n",
       "2495                         0                           0   \n",
       "2496                         0                           0   \n",
       "2497                         0                           0   \n",
       "2498                         0                           0   \n",
       "2499                         0                           0   \n",
       "\n",
       "      reducido_Transf. Globales  reducido_Trastornos Alimen.  \\\n",
       "2495                          0                            0   \n",
       "2496                          0                            0   \n",
       "2497                          0                            0   \n",
       "2498                          0                            0   \n",
       "2499                          0                            0   \n",
       "\n",
       "      reducido_Ventas Estrat.  \n",
       "2495                        0  \n",
       "2496                        0  \n",
       "2497                        0  \n",
       "2498                        0  \n",
       "2499                        0  \n",
       "\n",
       "[5 rows x 117 columns]"
      ]
     },
     "execution_count": 89,
     "metadata": {},
     "output_type": "execute_result"
    }
   ],
   "source": [
    "# Columnas One-hot-encoding del dataset usando el metodo de Pandas ``get_dummies``  (demontración)\n",
    "df3 = pd.get_dummies(df2, columns=['ciclo', 'reducido'])\n",
    "df3.tail()"
   ]
  },
  {
   "cell_type": "markdown",
   "metadata": {
    "colab_type": "text",
    "id": "QlrmDQt_007z"
   },
   "source": [
    "<hr>"
   ]
  },
  {
   "cell_type": "markdown",
   "metadata": {
    "colab_type": "text",
    "id": "Rg7VlLFG0073"
   },
   "source": [
    "## Entrenando un clasificador basado  en un Árbol de Decisión"
   ]
  },
  {
   "cell_type": "markdown",
   "metadata": {
    "colab_type": "text",
    "id": "tu4z_LeQ0074"
   },
   "source": [
    "### Seleccionando FEATURES y definiendo la variable TARGET"
   ]
  },
  {
   "cell_type": "code",
   "execution_count": 90,
   "metadata": {
    "colab": {
     "base_uri": "https://localhost:8080/",
     "height": 208
    },
    "colab_type": "code",
    "id": "bvmZ3qUQ0076",
    "outputId": "45e98045-7915-4560-9091-ff51b7c8a4fa"
   },
   "outputs": [
    {
     "data": {
      "text/plain": [
       "Index(['Graduado', 'Calificacion_Promedio', 'Tareas_Puntuales',\n",
       "       'Tareas_No_Entregadas', 'Tareas_Retrasadas', 'Dias_Conectado',\n",
       "       'Minutos_Total', 'ciclo_2017 - 03', 'ciclo_2017 - 04',\n",
       "       'ciclo_2017 - 05',\n",
       "       ...\n",
       "       'reducido_Prin. Fiscales', 'reducido_Prof. Deportiva.',\n",
       "       'reducido_Prog. Neuroling.', 'reducido_Programacion de Apps',\n",
       "       'reducido_Prot. Datos. P', 'reducido_Psicopat. Adol.',\n",
       "       'reducido_Psicoped. Escolar', 'reducido_Transf. Globales',\n",
       "       'reducido_Trastornos Alimen.', 'reducido_Ventas Estrat.'],\n",
       "      dtype='object', length=117)"
      ]
     },
     "execution_count": 90,
     "metadata": {},
     "output_type": "execute_result"
    }
   ],
   "source": [
    "df3.columns"
   ]
  },
  {
   "cell_type": "code",
   "execution_count": 91,
   "metadata": {
    "colab": {},
    "colab_type": "code",
    "id": "yGaiwwZ9008E"
   },
   "outputs": [],
   "source": [
    "columns_not_features = ['Graduado', 'studentId','Total_Tareas', 'Minutos_Promedio', 'reducido']\n",
    "\n",
    "\n",
    "features = df3[[\n",
    "         column for column in df3.columns if column not in columns_not_features\n",
    "    ]]\n",
    "\n",
    "target = df3['Graduado']  ## No cambie la variable target!"
   ]
  },
  {
   "cell_type": "markdown",
   "metadata": {
    "colab_type": "text",
    "id": "d2SUjlvJ008J"
   },
   "source": [
    "### Dividiendo nuestro dataset en set de Entrenamiento y Pruebas"
   ]
  },
  {
   "cell_type": "code",
   "execution_count": 92,
   "metadata": {
    "colab": {},
    "colab_type": "code",
    "id": "uK5tZBTA008K"
   },
   "outputs": [],
   "source": [
    "from sklearn.model_selection import train_test_split\n",
    "\n",
    "\n",
    "X_train, X_test, y_train, y_test = train_test_split(features, target, test_size=0.2)"
   ]
  },
  {
   "cell_type": "markdown",
   "metadata": {
    "colab_type": "text",
    "id": "3uucmRDzXX0F"
   },
   "source": [
    "### Hyperparameters Tunning"
   ]
  },
  {
   "cell_type": "code",
   "execution_count": 42,
   "metadata": {
    "colab": {
     "base_uri": "https://localhost:8080/",
     "height": 139
    },
    "colab_type": "code",
    "id": "U4WS-Wv9XaM6",
    "outputId": "0a4f5768-21e0-42e6-e8fd-68c7d10841c4"
   },
   "outputs": [
    {
     "name": "stdout",
     "output_type": "stream",
     "text": [
      "Fitting 5 folds for each of 648 candidates, totalling 3240 fits\n"
     ]
    },
    {
     "name": "stderr",
     "output_type": "stream",
     "text": [
      "[Parallel(n_jobs=-1)]: Using backend LokyBackend with 2 concurrent workers.\n",
      "[Parallel(n_jobs=-1)]: Done 540 tasks      | elapsed:    3.9s\n",
      "[Parallel(n_jobs=-1)]: Done 2940 tasks      | elapsed:   21.0s\n"
     ]
    },
    {
     "name": "stdout",
     "output_type": "stream",
     "text": [
      "{'criterion': 'gini', 'max_depth': 14, 'max_features': 'sqrt', 'min_samples_leaf': 4, 'min_samples_split': 3}\n",
      "DecisionTreeClassifier(max_depth=14, max_features='sqrt', min_samples_leaf=4,\n",
      "                       min_samples_split=3)\n",
      "0.801775561503821\n"
     ]
    },
    {
     "name": "stderr",
     "output_type": "stream",
     "text": [
      "[Parallel(n_jobs=-1)]: Done 3240 out of 3240 | elapsed:   23.0s finished\n"
     ]
    }
   ],
   "source": [
    "# https://machinelearningmastery.com/how-to-tune-algorithm-parameters-with-scikit-learn/\n",
    "# https://towardsdatascience.com/hyperparameter-optimization-with-scikit-learn-scikit-opt-and-keras-f13367f3e796\n",
    "from sklearn.model_selection import GridSearchCV, RandomizedSearchCV\n",
    "from sklearn.metrics import f1_score, make_scorer\n",
    "\n",
    "from sklearn.tree import DecisionTreeClassifier\n",
    "from sklearn.ensemble import RandomForestClassifier\n",
    "model = DecisionTreeClassifier()\n",
    "\n",
    "param_space = {\n",
    "        #\"bootstrap\": [True],\n",
    "        #\"oob_score\": [True],\n",
    "        \"criterion\": ['entropy', 'gini'],\n",
    "        \"max_depth\": [None, 6, 8, 10, 12, 14, 15, 20, 25],\n",
    "        \"max_features\": ['auto', 'sqrt','log2'],\n",
    "        \"min_samples_leaf\": [2, 3, 4],\n",
    "        \"min_samples_split\": [2, 3, 4, 5],\n",
    "        #\"criterion\": ['friedman_mse', 'mse', 'mae'],\n",
    "        #\"n_estimators\": [10, 20, 50, 100, 200, 300, 400, 500, 600, 700, 800, 900, 1000]\n",
    "}\n",
    "\n",
    "forest_rand_search = GridSearchCV(model, param_space,\n",
    "                                        #n_iter=32,\n",
    "                                        scoring=make_scorer(f1_score, pos_label='Si'),\n",
    "                                        verbose=True,\n",
    "                                        cv=5,\n",
    "                                        n_jobs=-1,\n",
    "                                        #random_state=5\n",
    "                                  )\n",
    "\n",
    "forest_rand_search.fit(X_train, y_train)\n",
    "print(forest_rand_search.best_params_)\n",
    "print(forest_rand_search.best_estimator_)\n",
    "print(forest_rand_search.best_score_)"
   ]
  },
  {
   "cell_type": "markdown",
   "metadata": {
    "colab_type": "text",
    "id": "ZjZM6UvQ008Q"
   },
   "source": [
    "### Entrenando un modelo ``DecisionTreeClassifier()``"
   ]
  },
  {
   "cell_type": "code",
   "execution_count": 93,
   "metadata": {
    "colab": {},
    "colab_type": "code",
    "id": "HVxmRQV4008V"
   },
   "outputs": [],
   "source": [
    "# Método para creacion de modelos basados en arbol de desición\n",
    "from sklearn.tree import DecisionTreeClassifier\n",
    "from sklearn.ensemble import RandomForestClassifier\n",
    "\n",
    "dtc = DecisionTreeClassifier(max_depth=14, max_features='sqrt', min_samples_leaf=4,\n",
    "                       min_samples_split=3).fit(X_train, y_train)"
   ]
  },
  {
   "cell_type": "markdown",
   "metadata": {
    "colab_type": "text",
    "id": "V7_hTqVj008a"
   },
   "source": [
    "### Haciendo predicciones del Sample Test"
   ]
  },
  {
   "cell_type": "code",
   "execution_count": 94,
   "metadata": {
    "colab": {
     "base_uri": "https://localhost:8080/",
     "height": 642
    },
    "colab_type": "code",
    "id": "ha_Y-KjL008b",
    "outputId": "bc27b7f8-62fb-48e5-d34a-a1ebacf89ff0"
   },
   "outputs": [
    {
     "name": "stdout",
     "output_type": "stream",
     "text": [
      "['No' 'No' 'Si' 'Si' 'Si' 'Si' 'Si' 'No' 'Si' 'Si' 'Si' 'Si' 'No' 'Si'\n",
      " 'Si' 'No' 'Si' 'Si' 'Si' 'No' 'No' 'Si' 'Si' 'Si' 'Si' 'Si' 'No' 'Si'\n",
      " 'No' 'No' 'No' 'No' 'No' 'Si' 'No' 'No' 'Si' 'Si' 'Si' 'No' 'Si' 'No'\n",
      " 'No' 'No' 'Si' 'Si' 'Si' 'No' 'Si' 'Si' 'Si' 'Si' 'Si' 'No' 'Si' 'No'\n",
      " 'No' 'Si' 'Si' 'Si' 'No' 'No' 'Si' 'Si' 'No' 'No' 'No' 'No' 'No' 'No'\n",
      " 'No' 'Si' 'Si' 'Si' 'Si' 'No' 'No' 'Si' 'No' 'Si' 'Si' 'Si' 'Si' 'No'\n",
      " 'No' 'Si' 'Si' 'No' 'No' 'No' 'No' 'No' 'Si' 'No' 'Si' 'Si' 'Si' 'Si'\n",
      " 'Si' 'Si' 'Si' 'No' 'Si' 'Si' 'No' 'No' 'Si' 'No' 'No' 'No' 'No' 'Si'\n",
      " 'Si' 'No' 'Si' 'No' 'No' 'No' 'No' 'No' 'No' 'No' 'No' 'Si' 'Si' 'No'\n",
      " 'Si' 'No' 'No' 'No' 'Si' 'No' 'No' 'No' 'No' 'Si' 'Si' 'Si' 'Si' 'No'\n",
      " 'No' 'Si' 'No' 'No' 'No' 'No' 'No' 'Si' 'No' 'Si' 'Si' 'Si' 'Si' 'Si'\n",
      " 'Si' 'Si' 'Si' 'Si' 'No' 'No' 'No' 'No' 'Si' 'Si' 'Si' 'Si' 'Si' 'Si'\n",
      " 'Si' 'No' 'No' 'Si' 'Si' 'Si' 'No' 'Si' 'Si' 'No' 'No' 'Si' 'No' 'Si'\n",
      " 'Si' 'No' 'Si' 'Si' 'Si' 'Si' 'Si' 'No' 'Si' 'Si' 'Si' 'No' 'Si' 'Si'\n",
      " 'No' 'No' 'No' 'No' 'Si' 'Si' 'Si' 'Si' 'Si' 'Si' 'No' 'Si' 'No' 'No'\n",
      " 'No' 'No' 'Si' 'No' 'No' 'No' 'No' 'No' 'No' 'Si' 'No' 'Si' 'Si' 'No'\n",
      " 'No' 'No' 'No' 'Si' 'Si' 'Si' 'Si' 'No' 'No' 'No' 'Si' 'No' 'Si' 'No'\n",
      " 'Si' 'Si' 'No' 'Si' 'Si' 'No' 'Si' 'No' 'No' 'No' 'Si' 'No' 'Si' 'Si'\n",
      " 'No' 'Si' 'Si' 'No' 'No' 'No' 'No' 'No' 'Si' 'No' 'Si' 'Si' 'Si' 'No'\n",
      " 'Si' 'No' 'Si' 'No' 'No' 'Si' 'No' 'Si' 'Si' 'Si' 'Si' 'Si' 'Si' 'No'\n",
      " 'Si' 'Si' 'No' 'No' 'No' 'No' 'Si' 'Si' 'No' 'No' 'Si' 'No' 'Si' 'Si'\n",
      " 'No' 'Si' 'Si' 'No' 'No' 'No' 'No' 'Si' 'Si' 'Si' 'No' 'Si' 'No' 'No'\n",
      " 'Si' 'No' 'No' 'Si' 'No' 'Si' 'No' 'No' 'Si' 'Si' 'Si' 'No' 'Si' 'Si'\n",
      " 'Si' 'Si' 'No' 'No' 'Si' 'No' 'No' 'Si' 'Si' 'Si' 'Si' 'Si' 'No' 'No'\n",
      " 'No' 'Si' 'Si' 'Si' 'Si' 'Si' 'No' 'No' 'No' 'Si' 'Si' 'Si' 'No' 'Si'\n",
      " 'No' 'Si' 'Si' 'Si' 'Si' 'No' 'No' 'Si' 'No' 'Si' 'No' 'No' 'Si' 'Si'\n",
      " 'No' 'Si' 'No' 'Si' 'No' 'No' 'Si' 'Si' 'Si' 'Si' 'Si' 'Si' 'No' 'Si'\n",
      " 'No' 'No' 'No' 'No' 'Si' 'Si' 'No' 'Si' 'Si' 'No' 'Si' 'Si' 'Si' 'Si'\n",
      " 'No' 'Si' 'Si' 'Si' 'Si' 'Si' 'Si' 'Si' 'No' 'No' 'Si' 'Si' 'Si' 'Si'\n",
      " 'Si' 'Si' 'Si' 'Si' 'Si' 'Si' 'No' 'No' 'Si' 'Si' 'Si' 'No' 'No' 'Si'\n",
      " 'Si' 'Si' 'No' 'No' 'Si' 'No' 'No' 'Si' 'Si' 'Si' 'Si' 'No' 'Si' 'Si'\n",
      " 'No' 'Si' 'No' 'Si' 'Si' 'Si' 'No' 'No' 'No' 'Si' 'Si' 'No' 'No' 'Si'\n",
      " 'Si' 'No' 'No' 'Si' 'Si' 'Si' 'Si' 'Si' 'Si' 'No' 'Si' 'No' 'Si' 'No'\n",
      " 'Si' 'No' 'Si' 'Si' 'Si' 'No' 'Si' 'No' 'No' 'No' 'Si' 'Si' 'Si' 'Si'\n",
      " 'Si' 'Si' 'Si' 'No' 'No' 'No' 'Si' 'No' 'Si' 'No' 'No' 'No' 'No' 'Si'\n",
      " 'No' 'Si' 'Si' 'Si' 'Si' 'No' 'Si' 'No' 'No' 'No']\n"
     ]
    },
    {
     "data": {
      "text/plain": [
       "500"
      ]
     },
     "execution_count": 94,
     "metadata": {},
     "output_type": "execute_result"
    }
   ],
   "source": [
    "y_pred = dtc.predict(X_test)\n",
    "print(y_pred)\n",
    "len(y_pred)"
   ]
  },
  {
   "cell_type": "markdown",
   "metadata": {
    "colab_type": "text",
    "id": "zQr1Fw9e9H6K"
   },
   "source": [
    "### Analizando Importancia de las features"
   ]
  },
  {
   "cell_type": "code",
   "execution_count": 46,
   "metadata": {
    "colab": {
     "base_uri": "https://localhost:8080/",
     "height": 281
    },
    "colab_type": "code",
    "id": "e7Iqx13I9H6Z",
    "outputId": "73b3823c-80c2-42e6-ca86-3daa477bab01"
   },
   "outputs": [
    {
     "data": {
      "image/png": "[encoded data removed]",
      "text/plain": [
       "<Figure size 432x288 with 1 Axes>"
      ]
     },
     "metadata": {
      "needs_background": "light"
     },
     "output_type": "display_data"
    }
   ],
   "source": [
    "# https://scikit-learn.org/stable/auto_examples/ensemble/plot_forest_importances.html\n",
    "# https://machinelearningmastery.com/calculate-feature-importance-with-python/\n",
    "from matplotlib import pyplot\n",
    "\n",
    "\n",
    "importance = dtc.feature_importances_\n",
    "pyplot.figure()\n",
    "pyplot.title(\"Feature importances\")\n",
    "pyplot.bar([x for x in range(len(importance))], importance)\n",
    "pyplot.show()"
   ]
  },
  {
   "cell_type": "markdown",
   "metadata": {
    "colab_type": "text",
    "id": "5aYEliPJ008m"
   },
   "source": [
    "### Analice la calidad del modelo a través de la matriz de confusión"
   ]
  },
  {
   "cell_type": "code",
   "execution_count": 95,
   "metadata": {
    "colab": {
     "base_uri": "https://localhost:8080/",
     "height": 208
    },
    "colab_type": "code",
    "id": "CkpT4Kk4008n",
    "outputId": "2e6b31a2-12eb-40b5-f115-4c97a2611b78"
   },
   "outputs": [
    {
     "name": "stdout",
     "output_type": "stream",
     "text": [
      "Requirement already up-to-date: seaborn in /opt/conda/envs/Python36/lib/python3.6/site-packages (0.11.0)\n",
      "Requirement already satisfied, skipping upgrade: pandas>=0.23 in /opt/conda/envs/Python36/lib/python3.6/site-packages (from seaborn) (0.24.1)\n",
      "Requirement already satisfied, skipping upgrade: scipy>=1.0 in /opt/conda/envs/Python36/lib/python3.6/site-packages (from seaborn) (1.2.0)\n",
      "Requirement already satisfied, skipping upgrade: numpy>=1.15 in /opt/conda/envs/Python36/lib/python3.6/site-packages (from seaborn) (1.15.4)\n",
      "Requirement already satisfied, skipping upgrade: matplotlib>=2.2 in /opt/conda/envs/Python36/lib/python3.6/site-packages (from seaborn) (3.0.2)\n",
      "Requirement already satisfied, skipping upgrade: python-dateutil>=2.5.0 in /opt/conda/envs/Python36/lib/python3.6/site-packages (from pandas>=0.23->seaborn) (2.7.5)\n",
      "Requirement already satisfied, skipping upgrade: pytz>=2011k in /opt/conda/envs/Python36/lib/python3.6/site-packages (from pandas>=0.23->seaborn) (2018.9)\n",
      "Requirement already satisfied, skipping upgrade: cycler>=0.10 in /opt/conda/envs/Python36/lib/python3.6/site-packages (from matplotlib>=2.2->seaborn) (0.10.0)\n",
      "Requirement already satisfied, skipping upgrade: kiwisolver>=1.0.1 in /opt/conda/envs/Python36/lib/python3.6/site-packages (from matplotlib>=2.2->seaborn) (1.0.1)\n",
      "Requirement already satisfied, skipping upgrade: pyparsing!=2.0.4,!=2.1.2,!=2.1.6,>=2.0.1 in /opt/conda/envs/Python36/lib/python3.6/site-packages (from matplotlib>=2.2->seaborn) (2.3.1)\n",
      "Requirement already satisfied, skipping upgrade: six>=1.5 in /opt/conda/envs/Python36/lib/python3.6/site-packages (from python-dateutil>=2.5.0->pandas>=0.23->seaborn) (1.12.0)\n",
      "Requirement already satisfied, skipping upgrade: setuptools in /opt/conda/envs/Python36/lib/python3.6/site-packages (from kiwisolver>=1.0.1->matplotlib>=2.2->seaborn) (40.8.0)\n"
     ]
    }
   ],
   "source": [
    "!pip install seaborn --upgrade"
   ]
  },
  {
   "cell_type": "code",
   "execution_count": 96,
   "metadata": {
    "colab": {
     "base_uri": "https://localhost:8080/",
     "height": 372
    },
    "colab_type": "code",
    "id": "XYhnie6T008r",
    "outputId": "542e0ad4-8af4-4d49-ae53-dca44048231d"
   },
   "outputs": [
    {
     "name": "stdout",
     "output_type": "stream",
     "text": [
      "score: 0.8007518796992482\n",
      "score: 0.7735042735042735\n"
     ]
    },
    {
     "data": {
      "image/png": "[encoded data removed]",
      "text/plain": [
       "<Figure size 432x288 with 2 Axes>"
      ]
     },
     "metadata": {
      "needs_background": "light"
     },
     "output_type": "display_data"
    }
   ],
   "source": [
    "from sklearn.metrics import confusion_matrix\n",
    "import matplotlib.pyplot as plt\n",
    "import seaborn as sns\n",
    "import numpy as np\n",
    "\n",
    "\n",
    "\n",
    "cf_matrix = confusion_matrix(y_test, y_pred)\n",
    "group_names = ['`Positivo` Correto', '`Negativo` Errado', 'Falso `Positivo`', '`Negativo` Correto']\n",
    "group_counts = ['{0:0.0f}'.format(value) for value in cf_matrix.flatten()]\n",
    "group_percentages = ['{0:.2%}'.format(value) for value in cf_matrix.flatten()/np.sum(cf_matrix)]\n",
    "labels = [f'{v1}\\n{v2}\\n{v3}' for v1, v2, v3 in zip(group_names, group_counts, group_percentages)]\n",
    "labels = np.asarray(labels).reshape(2,2)\n",
    "accuracy  = np.trace(cf_matrix) / float(np.sum(cf_matrix))\n",
    "precision = cf_matrix[1,1] / sum(cf_matrix[:,1])\n",
    "recall    = cf_matrix[1,1] / sum(cf_matrix[1,:])\n",
    "f1_score  = 2*precision*recall / (precision + recall)\n",
    "sns.heatmap(cf_matrix, annot=labels, fmt=\"\")\n",
    "stats_text = \"\\n\\nAccuracy={:0.3f}\\nPrecision={:0.3f}\\nRecall={:0.3f}\\nF1 Score={}\".format(accuracy, precision, recall, f1_score)\n",
    "plt.ylabel('True label')\n",
    "plt.xlabel('Predicted label' + stats_text)\n",
    "\n",
    "from sklearn.metrics import f1_score\n",
    "print(\"score: {}\".format(f1_score(y_test, y_pred, pos_label=\"Si\")))\n",
    "print(\"score: {}\".format(f1_score(y_test, y_pred, pos_label=\"No\")))"
   ]
  },
  {
   "cell_type": "markdown",
   "metadata": {
    "colab_type": "text",
    "id": "xtxozffa008w"
   },
   "source": [
    "<hr>"
   ]
  },
  {
   "cell_type": "markdown",
   "metadata": {
    "colab_type": "text",
    "id": "XisnXgkI0080"
   },
   "source": [
    "## Scoring de la data requerida para hacer la entrega de la solución"
   ]
  },
  {
   "cell_type": "markdown",
   "metadata": {
    "colab_type": "text",
    "id": "zACAWInf0081"
   },
   "source": [
    "Para el envío, necesita clasificar el siguiente dataset. Para hacer eso, usted necesita reproducir los mismos pasos de pre-procesamiento para que el dataset este en la misma estructura del que usted uso para construir su modelo. Despues de clasificar este dataframe, esperamos que usted entregue un archivo csv con las 2499 filar y una columna 'Graduado' con su predicción. **No cambie el orden del archivo a predecir ni borre filas**"
   ]
  },
  {
   "cell_type": "code",
   "execution_count": 109,
   "metadata": {
    "colab": {
     "base_uri": "https://localhost:8080/",
     "height": 397
    },
    "colab_type": "code",
    "id": "yuql229S0083",
    "outputId": "5a4d19c4-2c16-4a20-ab91-04bfcde07a38"
   },
   "outputs": [
    {
     "name": "stdout",
     "output_type": "stream",
     "text": [
      "--2020-09-13 22:39:43--  https://raw.githubusercontent.com/vanderlei-test/dataset2/master/for_submission/ToBePredicted.csv\r\n",
      "Resolving raw.githubusercontent.com (raw.githubusercontent.com)... 151.101.48.133\r\n",
      "Connecting to raw.githubusercontent.com (raw.githubusercontent.com)|151.101.48.133|:443... connected.\r\n",
      "HTTP request sent, awaiting response... 200 OK\r\n",
      "Length: 33892 (33K) [text/plain]\r\n",
      "Saving to: ‘ToBePredicted.csv.3’\r\n",
      "\r\n",
      "100%[======================================>] 33,892      --.-K/s   in 0.001s  \r\n",
      "\r\n",
      "2020-09-13 22:39:43 (21.6 MB/s) - ‘ToBePredicted.csv.3’ saved [33892/33892]\r\n",
      "\r\n"
     ]
    },
    {
     "data": {
      "text/html": [
       "<div>\n",
       "<style scoped>\n",
       "    .dataframe tbody tr th:only-of-type {\n",
       "        vertical-align: middle;\n",
       "    }\n",
       "\n",
       "    .dataframe tbody tr th {\n",
       "        vertical-align: top;\n",
       "    }\n",
       "\n",
       "    .dataframe thead th {\n",
       "        text-align: right;\n",
       "    }\n",
       "</style>\n",
       "<table border=\"1\" class=\"dataframe\">\n",
       "  <thead>\n",
       "    <tr style=\"text-align: right;\">\n",
       "      <th></th>\n",
       "      <th>studentId</th>\n",
       "      <th>reducido</th>\n",
       "      <th>ciclo</th>\n",
       "    </tr>\n",
       "  </thead>\n",
       "  <tbody>\n",
       "    <tr>\n",
       "      <th>995</th>\n",
       "      <td>79594.0</td>\n",
       "      <td>Diagn. Psicoped.</td>\n",
       "      <td>2019 - 05</td>\n",
       "    </tr>\n",
       "    <tr>\n",
       "      <th>996</th>\n",
       "      <td>69470.0</td>\n",
       "      <td>Ventas Estrat.</td>\n",
       "      <td>2018 - 08</td>\n",
       "    </tr>\n",
       "    <tr>\n",
       "      <th>997</th>\n",
       "      <td>72921.0</td>\n",
       "      <td>Big Data</td>\n",
       "      <td>2019 - 02</td>\n",
       "    </tr>\n",
       "    <tr>\n",
       "      <th>998</th>\n",
       "      <td>80608.0</td>\n",
       "      <td>Interv. Psicoped</td>\n",
       "      <td>2019 - 05</td>\n",
       "    </tr>\n",
       "    <tr>\n",
       "      <th>999</th>\n",
       "      <td>86966.0</td>\n",
       "      <td>Interv. Psicoped</td>\n",
       "      <td>2019 - 07</td>\n",
       "    </tr>\n",
       "  </tbody>\n",
       "</table>\n",
       "</div>"
      ],
      "text/plain": [
       "     studentId          reducido      ciclo\n",
       "995    79594.0  Diagn. Psicoped.  2019 - 05\n",
       "996    69470.0    Ventas Estrat.  2018 - 08\n",
       "997    72921.0          Big Data  2019 - 02\n",
       "998    80608.0  Interv. Psicoped  2019 - 05\n",
       "999    86966.0  Interv. Psicoped  2019 - 07"
      ]
     },
     "execution_count": 109,
     "metadata": {},
     "output_type": "execute_result"
    }
   ],
   "source": [
    "!wget --no-check-certificate --content-disposition https://raw.githubusercontent.com/vanderlei-test/dataset2/master/for_submission/ToBePredicted.csv\n",
    "df_to_be_predicted = pd.read_csv(r'ToBePredicted.csv')\n",
    "df_to_be_predicted.tail()"
   ]
  },
  {
   "cell_type": "code",
   "execution_count": 108,
   "metadata": {
    "colab": {
     "base_uri": "https://localhost:8080/",
     "height": 660
    },
    "colab_type": "code",
    "id": "-qf0DAN70089",
    "outputId": "9459edef-2466-486b-fe5f-34c347224df1"
   },
   "outputs": [
    {
     "name": "stdout",
     "output_type": "stream",
     "text": [
      "104\n",
      "116\n",
      "Index(['Calificacion_Promedio', 'Tareas_Puntuales', 'Tareas_No_Entregadas',\n",
      "       'Tareas_Retrasadas', 'Dias_Conectado', 'Minutos_Total',\n",
      "       'ciclo_2017 - 03', 'ciclo_2017 - 04', 'ciclo_2017 - 05',\n",
      "       'ciclo_2017 - 06',\n",
      "       ...\n",
      "       'reducido_Comp. Doc. S XXI', 'reducido_Disc. Formativa',\n",
      "       'reducido_Eco. Digital', 'reducido_Est. Prac. Edu.',\n",
      "       'reducido_Gob. Adm. P. E.', 'reducido_Inclusion Laboral',\n",
      "       'reducido_Mkt. Farmaceutico A.', 'reducido_Monitores Esc.',\n",
      "       'reducido_Neg. Dig. Y Eco. C.', 'reducido_Transf. Globales'],\n",
      "      dtype='object', length=116)\n",
      "<class 'pandas.core.frame.DataFrame'>\n",
      "Int64Index: 1000 entries, 0 to 999\n",
      "Columns: 116 entries, Calificacion_Promedio to reducido_Transf. Globales\n",
      "dtypes: float64(6), int64(12), uint8(98)\n",
      "memory usage: 244.1 KB\n"
     ]
    }
   ],
   "source": [
    "# Uniendo los dataset\n",
    "df_temp = pd.merge(\n",
    "    df_to_be_predicted, df_tabla_tareas, how='inner',\n",
    "    on=None, left_on=['studentId', 'ciclo'], right_on=['studentId', 'ciclo'],\n",
    "    left_index=False, right_index=False, sort=False,\n",
    "    suffixes=('_x', '_y'), copy=True, indicator=False,\n",
    "    validate=None\n",
    ")\n",
    "\n",
    "df_to_predict = pd.merge(\n",
    "    df_temp, df_tabla_conexiones, how='inner',\n",
    "    on=None, left_on=['studentId', 'ciclo'], right_on=['studentId', 'ciclo'],\n",
    "    left_index=False, right_index=False, sort=False,\n",
    "    suffixes=('_x', '_y'), copy=True, indicator=False,\n",
    "    validate=None\n",
    ")\n",
    "\n",
    "\n",
    "\n",
    "# Eliminando la columnas\n",
    "df_to_predict = df_to_predict.drop(columns=['studentId','Total_Tareas', 'Minutos_Promedio'], inplace=False)\n",
    "\n",
    "df_to_predict.tail()\n",
    "\n",
    "# Columnas One-hot-encoding del dataset usando el metodo de Pandas ``get_dummies``  (demontración)\n",
    "y_test = pd.get_dummies(df_to_predict, columns=['ciclo', 'reducido'])\n",
    "\n",
    "# Creo columnas faltantes del merge\n",
    "y_test_columns = y_test.columns\n",
    "print(len(y_test_columns))\n",
    "print(len(features.columns))\n",
    "for column in features.columns:\n",
    "    if column not in y_test_columns:\n",
    "        y_test[column] = 0\n",
    "print(y_test.columns)\n",
    "\n",
    "y_test.tail()\n",
    "y_test.info()"
   ]
  },
  {
   "cell_type": "code",
   "execution_count": 107,
   "metadata": {},
   "outputs": [
    {
     "data": {
      "text/html": [
       "<div>\n",
       "<style scoped>\n",
       "    .dataframe tbody tr th:only-of-type {\n",
       "        vertical-align: middle;\n",
       "    }\n",
       "\n",
       "    .dataframe tbody tr th {\n",
       "        vertical-align: top;\n",
       "    }\n",
       "\n",
       "    .dataframe thead th {\n",
       "        text-align: right;\n",
       "    }\n",
       "</style>\n",
       "<table border=\"1\" class=\"dataframe\">\n",
       "  <thead>\n",
       "    <tr style=\"text-align: right;\">\n",
       "      <th></th>\n",
       "      <th>studentId</th>\n",
       "      <th>Calificacion_Promedio</th>\n",
       "      <th>Tareas_Puntuales</th>\n",
       "      <th>Tareas_No_Entregadas</th>\n",
       "      <th>Tareas_Retrasadas</th>\n",
       "      <th>Dias_Conectado</th>\n",
       "      <th>Minutos_Total</th>\n",
       "      <th>ciclo_2017 - 03</th>\n",
       "      <th>ciclo_2017 - 04</th>\n",
       "      <th>ciclo_2017 - 05</th>\n",
       "      <th>...</th>\n",
       "      <th>reducido_Comp. Doc. S XXI</th>\n",
       "      <th>reducido_Disc. Formativa</th>\n",
       "      <th>reducido_Eco. Digital</th>\n",
       "      <th>reducido_Est. Prac. Edu.</th>\n",
       "      <th>reducido_Gob. Adm. P. E.</th>\n",
       "      <th>reducido_Inclusion Laboral</th>\n",
       "      <th>reducido_Mkt. Farmaceutico A.</th>\n",
       "      <th>reducido_Monitores Esc.</th>\n",
       "      <th>reducido_Neg. Dig. Y Eco. C.</th>\n",
       "      <th>reducido_Transf. Globales</th>\n",
       "    </tr>\n",
       "  </thead>\n",
       "  <tbody>\n",
       "    <tr>\n",
       "      <th>995</th>\n",
       "      <td>79594.0</td>\n",
       "      <td>87.667000</td>\n",
       "      <td>10.0</td>\n",
       "      <td>0.0</td>\n",
       "      <td>0.0</td>\n",
       "      <td>47.0</td>\n",
       "      <td>11926.12</td>\n",
       "      <td>0</td>\n",
       "      <td>0</td>\n",
       "      <td>0</td>\n",
       "      <td>...</td>\n",
       "      <td>0</td>\n",
       "      <td>0</td>\n",
       "      <td>0</td>\n",
       "      <td>0</td>\n",
       "      <td>0</td>\n",
       "      <td>0</td>\n",
       "      <td>0</td>\n",
       "      <td>0</td>\n",
       "      <td>0</td>\n",
       "      <td>0</td>\n",
       "    </tr>\n",
       "    <tr>\n",
       "      <th>996</th>\n",
       "      <td>69470.0</td>\n",
       "      <td>64.400909</td>\n",
       "      <td>9.0</td>\n",
       "      <td>2.0</td>\n",
       "      <td>0.0</td>\n",
       "      <td>18.0</td>\n",
       "      <td>2646.59</td>\n",
       "      <td>0</td>\n",
       "      <td>0</td>\n",
       "      <td>0</td>\n",
       "      <td>...</td>\n",
       "      <td>0</td>\n",
       "      <td>0</td>\n",
       "      <td>0</td>\n",
       "      <td>0</td>\n",
       "      <td>0</td>\n",
       "      <td>0</td>\n",
       "      <td>0</td>\n",
       "      <td>0</td>\n",
       "      <td>0</td>\n",
       "      <td>0</td>\n",
       "    </tr>\n",
       "    <tr>\n",
       "      <th>997</th>\n",
       "      <td>72921.0</td>\n",
       "      <td>81.000000</td>\n",
       "      <td>10.0</td>\n",
       "      <td>0.0</td>\n",
       "      <td>0.0</td>\n",
       "      <td>26.0</td>\n",
       "      <td>8073.29</td>\n",
       "      <td>0</td>\n",
       "      <td>0</td>\n",
       "      <td>0</td>\n",
       "      <td>...</td>\n",
       "      <td>0</td>\n",
       "      <td>0</td>\n",
       "      <td>0</td>\n",
       "      <td>0</td>\n",
       "      <td>0</td>\n",
       "      <td>0</td>\n",
       "      <td>0</td>\n",
       "      <td>0</td>\n",
       "      <td>0</td>\n",
       "      <td>0</td>\n",
       "    </tr>\n",
       "    <tr>\n",
       "      <th>998</th>\n",
       "      <td>80608.0</td>\n",
       "      <td>93.600000</td>\n",
       "      <td>10.0</td>\n",
       "      <td>0.0</td>\n",
       "      <td>0.0</td>\n",
       "      <td>79.0</td>\n",
       "      <td>12691.83</td>\n",
       "      <td>0</td>\n",
       "      <td>0</td>\n",
       "      <td>0</td>\n",
       "      <td>...</td>\n",
       "      <td>0</td>\n",
       "      <td>0</td>\n",
       "      <td>0</td>\n",
       "      <td>0</td>\n",
       "      <td>0</td>\n",
       "      <td>0</td>\n",
       "      <td>0</td>\n",
       "      <td>0</td>\n",
       "      <td>0</td>\n",
       "      <td>0</td>\n",
       "    </tr>\n",
       "    <tr>\n",
       "      <th>999</th>\n",
       "      <td>86966.0</td>\n",
       "      <td>30.667000</td>\n",
       "      <td>5.0</td>\n",
       "      <td>5.0</td>\n",
       "      <td>0.0</td>\n",
       "      <td>30.0</td>\n",
       "      <td>13056.67</td>\n",
       "      <td>0</td>\n",
       "      <td>0</td>\n",
       "      <td>0</td>\n",
       "      <td>...</td>\n",
       "      <td>0</td>\n",
       "      <td>0</td>\n",
       "      <td>0</td>\n",
       "      <td>0</td>\n",
       "      <td>0</td>\n",
       "      <td>0</td>\n",
       "      <td>0</td>\n",
       "      <td>0</td>\n",
       "      <td>0</td>\n",
       "      <td>0</td>\n",
       "    </tr>\n",
       "  </tbody>\n",
       "</table>\n",
       "<p>5 rows × 117 columns</p>\n",
       "</div>"
      ],
      "text/plain": [
       "     studentId  Calificacion_Promedio  Tareas_Puntuales  Tareas_No_Entregadas  \\\n",
       "995    79594.0              87.667000              10.0                   0.0   \n",
       "996    69470.0              64.400909               9.0                   2.0   \n",
       "997    72921.0              81.000000              10.0                   0.0   \n",
       "998    80608.0              93.600000              10.0                   0.0   \n",
       "999    86966.0              30.667000               5.0                   5.0   \n",
       "\n",
       "     Tareas_Retrasadas  Dias_Conectado  Minutos_Total  ciclo_2017 - 03  \\\n",
       "995                0.0            47.0       11926.12                0   \n",
       "996                0.0            18.0        2646.59                0   \n",
       "997                0.0            26.0        8073.29                0   \n",
       "998                0.0            79.0       12691.83                0   \n",
       "999                0.0            30.0       13056.67                0   \n",
       "\n",
       "     ciclo_2017 - 04  ciclo_2017 - 05  ...  reducido_Comp. Doc. S XXI  \\\n",
       "995                0                0  ...                          0   \n",
       "996                0                0  ...                          0   \n",
       "997                0                0  ...                          0   \n",
       "998                0                0  ...                          0   \n",
       "999                0                0  ...                          0   \n",
       "\n",
       "     reducido_Disc. Formativa  reducido_Eco. Digital  \\\n",
       "995                         0                      0   \n",
       "996                         0                      0   \n",
       "997                         0                      0   \n",
       "998                         0                      0   \n",
       "999                         0                      0   \n",
       "\n",
       "     reducido_Est. Prac. Edu.  reducido_Gob. Adm. P. E.  \\\n",
       "995                         0                         0   \n",
       "996                         0                         0   \n",
       "997                         0                         0   \n",
       "998                         0                         0   \n",
       "999                         0                         0   \n",
       "\n",
       "     reducido_Inclusion Laboral  reducido_Mkt. Farmaceutico A.  \\\n",
       "995                           0                              0   \n",
       "996                           0                              0   \n",
       "997                           0                              0   \n",
       "998                           0                              0   \n",
       "999                           0                              0   \n",
       "\n",
       "     reducido_Monitores Esc.  reducido_Neg. Dig. Y Eco. C.  \\\n",
       "995                        0                             0   \n",
       "996                        0                             0   \n",
       "997                        0                             0   \n",
       "998                        0                             0   \n",
       "999                        0                             0   \n",
       "\n",
       "     reducido_Transf. Globales  \n",
       "995                          0  \n",
       "996                          0  \n",
       "997                          0  \n",
       "998                          0  \n",
       "999                          0  \n",
       "\n",
       "[5 rows x 117 columns]"
      ]
     },
     "execution_count": 107,
     "metadata": {},
     "output_type": "execute_result"
    }
   ],
   "source": [
    "y_test.tail()"
   ]
  },
  {
   "cell_type": "markdown",
   "metadata": {
    "colab_type": "text",
    "id": "4vH2oB8B009G"
   },
   "source": [
    "Observando los features declarados acontinuación, sabemos que el dataset ha ser evaluado esta en el mismo formato usado para entrenar nuestro árbol de decisión anteriormente.\n",
    "\n",
    "```features = df3[\n",
    "    [\n",
    "        'studentId', 'Calificacion_Promedio', 'Tareas_Puntuales',\n",
    "        'Tareas_No_Entregadas', 'Tareas_Retrasadas', 'Total_Tareas',\n",
    "        'ciclo_2017 - 03', 'ciclo_2017 - 04', 'ciclo_2017 - 05',\n",
    "        'ciclo_2017 - 06', 'ciclo_2017 - 07', 'ciclo_2017 - 08',\n",
    "        'ciclo_2018 - 01', 'ciclo_2018 - 02', 'ciclo_2018 - 03',\n",
    "        'ciclo_2018 - 04', 'ciclo_2018 - 05', 'ciclo_2018 - 06',\n",
    "        'ciclo_2018 - 07', 'ciclo_2018 - 08', 'ciclo_2019 - 01',\n",
    "        'ciclo_2019 - 02', 'ciclo_2019 - 03', 'ciclo_2019 - 04',\n",
    "        'ciclo_2019 - 05', 'ciclo_2019 - 06', 'ciclo_2019 - 07',\n",
    "        'ciclo_2019 - 08'\n",
    "    ]\n",
    "]\n",
    "target = df3['Graduado']  ## No cambie la variable target!```"
   ]
  },
  {
   "cell_type": "code",
   "execution_count": 100,
   "metadata": {
    "colab": {
     "base_uri": "https://localhost:8080/",
     "height": 1000
    },
    "colab_type": "code",
    "id": "zntJ7PMn009H",
    "outputId": "0c169df9-bb35-4532-a6f4-5ab24d48795f"
   },
   "outputs": [
    {
     "name": "stdout",
     "output_type": "stream",
     "text": [
      "['Si' 'No' 'Si' 'No' 'Si' 'Si' 'Si' 'No' 'Si' 'No' 'No' 'No' 'No' 'Si'\n",
      " 'No' 'No' 'Si' 'Si' 'Si' 'Si' 'Si' 'Si' 'No' 'No' 'Si' 'Si' 'No' 'No'\n",
      " 'No' 'Si' 'No' 'No' 'No' 'Si' 'No' 'Si' 'No' 'Si' 'Si' 'Si' 'No' 'No'\n",
      " 'Si' 'No' 'Si' 'Si' 'Si' 'No' 'Si' 'Si' 'Si' 'No' 'Si' 'Si' 'Si' 'Si'\n",
      " 'Si' 'Si' 'No' 'No' 'Si' 'Si' 'Si' 'No' 'Si' 'Si' 'Si' 'No' 'No' 'No'\n",
      " 'Si' 'No' 'No' 'No' 'No' 'Si' 'Si' 'No' 'Si' 'Si' 'No' 'Si' 'Si' 'Si'\n",
      " 'Si' 'Si' 'Si' 'Si' 'Si' 'Si' 'Si' 'Si' 'Si' 'Si' 'Si' 'No' 'Si' 'No'\n",
      " 'Si' 'Si' 'No' 'No' 'No' 'No' 'Si' 'Si' 'No' 'No' 'Si' 'No' 'Si' 'No'\n",
      " 'No' 'Si' 'Si' 'Si' 'Si' 'Si' 'No' 'No' 'Si' 'Si' 'No' 'No' 'No' 'Si'\n",
      " 'No' 'No' 'Si' 'No' 'No' 'No' 'No' 'Si' 'No' 'No' 'Si' 'Si' 'Si' 'No'\n",
      " 'Si' 'Si' 'Si' 'No' 'Si' 'No' 'No' 'No' 'Si' 'Si' 'No' 'No' 'Si' 'Si'\n",
      " 'No' 'Si' 'Si' 'Si' 'Si' 'No' 'Si' 'No' 'Si' 'No' 'Si' 'Si' 'No' 'Si'\n",
      " 'Si' 'Si' 'No' 'No' 'Si' 'Si' 'Si' 'No' 'Si' 'No' 'No' 'No' 'No' 'Si'\n",
      " 'Si' 'Si' 'No' 'Si' 'Si' 'Si' 'Si' 'Si' 'Si' 'No' 'Si' 'Si' 'No' 'No'\n",
      " 'Si' 'Si' 'Si' 'No' 'No' 'No' 'No' 'Si' 'Si' 'No' 'Si' 'No' 'Si' 'Si'\n",
      " 'Si' 'Si' 'Si' 'No' 'Si' 'No' 'Si' 'Si' 'No' 'Si' 'No' 'Si' 'No' 'Si'\n",
      " 'Si' 'Si' 'No' 'Si' 'No' 'Si' 'Si' 'No' 'Si' 'No' 'Si' 'Si' 'Si' 'Si'\n",
      " 'Si' 'Si' 'Si' 'No' 'No' 'No' 'Si' 'Si' 'Si' 'No' 'No' 'Si' 'Si' 'Si'\n",
      " 'No' 'Si' 'Si' 'No' 'Si' 'No' 'Si' 'No' 'No' 'No' 'No' 'Si' 'No' 'No'\n",
      " 'Si' 'No' 'Si' 'No' 'Si' 'Si' 'Si' 'No' 'Si' 'No' 'Si' 'No' 'No' 'Si'\n",
      " 'No' 'No' 'Si' 'No' 'Si' 'No' 'Si' 'Si' 'No' 'No' 'No' 'No' 'Si' 'No'\n",
      " 'Si' 'Si' 'Si' 'No' 'No' 'Si' 'Si' 'Si' 'No' 'Si' 'Si' 'Si' 'Si' 'Si'\n",
      " 'Si' 'Si' 'Si' 'No' 'No' 'No' 'Si' 'Si' 'No' 'Si' 'No' 'Si' 'Si' 'Si'\n",
      " 'No' 'No' 'Si' 'Si' 'No' 'Si' 'Si' 'Si' 'Si' 'No' 'Si' 'No' 'Si' 'Si'\n",
      " 'Si' 'No' 'Si' 'No' 'Si' 'Si' 'Si' 'No' 'Si' 'Si' 'Si' 'No' 'Si' 'Si'\n",
      " 'No' 'No' 'Si' 'Si' 'Si' 'Si' 'Si' 'Si' 'Si' 'No' 'No' 'Si' 'Si' 'No'\n",
      " 'Si' 'Si' 'Si' 'No' 'Si' 'No' 'Si' 'Si' 'Si' 'Si' 'No' 'No' 'No' 'No'\n",
      " 'No' 'Si' 'No' 'No' 'Si' 'No' 'No' 'No' 'No' 'No' 'Si' 'Si' 'Si' 'No'\n",
      " 'No' 'Si' 'No' 'No' 'Si' 'Si' 'Si' 'No' 'Si' 'Si' 'No' 'No' 'Si' 'Si'\n",
      " 'No' 'Si' 'No' 'No' 'No' 'No' 'No' 'Si' 'Si' 'Si' 'No' 'No' 'No' 'Si'\n",
      " 'Si' 'Si' 'No' 'Si' 'No' 'Si' 'No' 'No' 'Si' 'Si' 'No' 'Si' 'No' 'No'\n",
      " 'Si' 'Si' 'No' 'Si' 'Si' 'Si' 'Si' 'Si' 'Si' 'No' 'Si' 'No' 'Si' 'Si'\n",
      " 'Si' 'Si' 'Si' 'No' 'Si' 'Si' 'Si' 'No' 'No' 'No' 'No' 'No' 'Si' 'No'\n",
      " 'Si' 'No' 'Si' 'Si' 'No' 'Si' 'No' 'No' 'No' 'No' 'Si' 'Si' 'Si' 'Si'\n",
      " 'Si' 'No' 'Si' 'Si' 'Si' 'Si' 'No' 'No' 'Si' 'No' 'Si' 'Si' 'Si' 'Si'\n",
      " 'No' 'Si' 'Si' 'No' 'No' 'No' 'Si' 'Si' 'Si' 'Si' 'Si' 'Si' 'Si' 'Si'\n",
      " 'Si' 'No' 'No' 'Si' 'Si' 'No' 'Si' 'No' 'No' 'Si' 'Si' 'No' 'Si' 'Si'\n",
      " 'Si' 'No' 'No' 'No' 'Si' 'Si' 'Si' 'No' 'No' 'No' 'Si' 'Si' 'Si' 'No'\n",
      " 'Si' 'Si' 'Si' 'No' 'No' 'Si' 'No' 'No' 'Si' 'No' 'No' 'Si' 'Si' 'No'\n",
      " 'No' 'No' 'No' 'Si' 'Si' 'Si' 'Si' 'No' 'Si' 'No' 'Si' 'Si' 'No' 'Si'\n",
      " 'Si' 'Si' 'Si' 'No' 'No' 'Si' 'No' 'Si' 'Si' 'Si' 'No' 'No' 'Si' 'Si'\n",
      " 'Si' 'Si' 'Si' 'Si' 'Si' 'No' 'Si' 'Si' 'Si' 'Si' 'No' 'No' 'No' 'No'\n",
      " 'No' 'Si' 'No' 'Si' 'No' 'Si' 'Si' 'Si' 'Si' 'No' 'Si' 'Si' 'Si' 'No'\n",
      " 'Si' 'Si' 'Si' 'Si' 'Si' 'No' 'Si' 'No' 'No' 'Si' 'No' 'Si' 'Si' 'No'\n",
      " 'No' 'No' 'No' 'No' 'Si' 'No' 'Si' 'No' 'No' 'Si' 'Si' 'Si' 'Si' 'Si'\n",
      " 'No' 'No' 'No' 'Si' 'No' 'Si' 'No' 'No' 'No' 'No' 'Si' 'No' 'Si' 'No'\n",
      " 'No' 'Si' 'No' 'Si' 'Si' 'No' 'Si' 'No' 'No' 'Si' 'No' 'Si' 'No' 'No'\n",
      " 'Si' 'Si' 'Si' 'Si' 'No' 'Si' 'Si' 'Si' 'No' 'Si' 'Si' 'Si' 'Si' 'No'\n",
      " 'Si' 'No' 'No' 'Si' 'No' 'No' 'No' 'No' 'No' 'Si' 'Si' 'No' 'Si' 'No'\n",
      " 'Si' 'Si' 'No' 'No' 'Si' 'Si' 'Si' 'No' 'Si' 'Si' 'No' 'No' 'No' 'No'\n",
      " 'Si' 'No' 'No' 'Si' 'No' 'Si' 'Si' 'Si' 'Si' 'Si' 'Si' 'Si' 'No' 'No'\n",
      " 'No' 'Si' 'No' 'No' 'Si' 'No' 'No' 'No' 'No' 'Si' 'No' 'Si' 'Si' 'No'\n",
      " 'Si' 'Si' 'Si' 'No' 'Si' 'Si' 'No' 'Si' 'Si' 'Si' 'Si' 'Si' 'No' 'No'\n",
      " 'Si' 'No' 'Si' 'No' 'Si' 'Si' 'No' 'Si' 'Si' 'No' 'Si' 'No' 'No' 'Si'\n",
      " 'Si' 'No' 'Si' 'Si' 'No' 'Si' 'Si' 'Si' 'Si' 'Si' 'Si' 'Si' 'Si' 'No'\n",
      " 'No' 'No' 'No' 'No' 'Si' 'Si' 'No' 'No' 'Si' 'No' 'Si' 'Si' 'No' 'No'\n",
      " 'Si' 'No' 'Si' 'Si' 'No' 'No' 'No' 'Si' 'Si' 'No' 'No' 'Si' 'Si' 'Si'\n",
      " 'No' 'Si' 'No' 'Si' 'No' 'No' 'Si' 'No' 'Si' 'No' 'No' 'Si' 'No' 'No'\n",
      " 'Si' 'Si' 'No' 'Si' 'Si' 'No' 'No' 'No' 'Si' 'Si' 'No' 'No' 'Si' 'Si'\n",
      " 'No' 'No' 'No' 'No' 'Si' 'Si' 'Si' 'No' 'Si' 'No' 'Si' 'Si' 'No' 'No'\n",
      " 'No' 'No' 'Si' 'No' 'No' 'No' 'No' 'No' 'No' 'No' 'Si' 'No' 'Si' 'Si'\n",
      " 'No' 'No' 'No' 'No' 'Si' 'Si' 'No' 'Si' 'No' 'Si' 'Si' 'Si' 'Si' 'No'\n",
      " 'Si' 'Si' 'Si' 'No' 'No' 'No' 'Si' 'Si' 'No' 'No' 'Si' 'No' 'No' 'No'\n",
      " 'Si' 'Si' 'No' 'No' 'No' 'Si' 'Si' 'Si' 'Si' 'Si' 'Si' 'No' 'Si' 'Si'\n",
      " 'Si' 'No' 'Si' 'No' 'Si' 'No' 'Si' 'Si' 'Si' 'No' 'Si' 'No' 'Si' 'No'\n",
      " 'No' 'Si' 'Si' 'Si' 'Si' 'Si' 'No' 'Si' 'No' 'No' 'Si' 'Si' 'No' 'Si'\n",
      " 'Si' 'No' 'Si' 'Si' 'No' 'No' 'Si' 'No' 'No' 'Si' 'Si' 'No' 'Si' 'No'\n",
      " 'Si' 'Si' 'Si' 'Si' 'Si' 'Si' 'No' 'Si' 'Si' 'Si' 'No' 'Si' 'Si' 'Si'\n",
      " 'No' 'Si' 'Si' 'Si' 'No' 'Si' 'No' 'No' 'Si' 'No' 'No' 'Si' 'Si' 'Si'\n",
      " 'No' 'Si' 'Si' 'Si' 'Si' 'No' 'No' 'Si' 'Si' 'Si' 'Si' 'Si' 'No' 'No'\n",
      " 'Si' 'Si' 'Si' 'No' 'Si' 'Si' 'Si' 'No' 'Si' 'Si' 'No' 'Si' 'No' 'Si'\n",
      " 'No' 'Si' 'No' 'Si' 'Si' 'No']\n"
     ]
    }
   ],
   "source": [
    "y_pred = dtc.predict(y_test)\n",
    "print(y_pred)"
   ]
  },
  {
   "cell_type": "markdown",
   "metadata": {
    "colab_type": "text",
    "id": "ZjKyMgO5009L"
   },
   "source": [
    "### Guardando los resultados de la predicción en un archivo csv"
   ]
  },
  {
   "cell_type": "code",
   "execution_count": null,
   "metadata": {
    "colab": {},
    "colab_type": "code",
    "id": "yshYYOZs009M"
   },
   "outputs": [],
   "source": []
  },
  {
   "cell_type": "code",
   "execution_count": 101,
   "metadata": {
    "colab": {},
    "colab_type": "code",
    "id": "I1YReu6B009Q"
   },
   "outputs": [],
   "source": [
    "np.savetxt(\"results.csv\", y_pred, delimiter=\",\", fmt='%s')"
   ]
  },
  {
   "cell_type": "code",
   "execution_count": 102,
   "metadata": {
    "colab": {},
    "colab_type": "code",
    "id": "pOizvkxr009U",
    "outputId": "1ee4d186-a212-483a-bacb-5b3bb1fa68b1"
   },
   "outputs": [
    {
     "data": {
      "text/plain": [
       "{'file_name': 'results.csv',\n",
       " 'message': 'File saved to project storage.',\n",
       " 'bucket_name': 'desafio6wsproject-donotdelete-pr-26txzkccxuhxav',\n",
       " 'asset_id': '4521f448-c8c3-4ce6-a776-442201f702ec'}"
      ]
     },
     "execution_count": 102,
     "metadata": {},
     "output_type": "execute_result"
    }
   ],
   "source": [
    "project.save_data(file_name=\"results.csv\", data=pd.read_csv(\"results.csv\", header=None).to_csv(header=[\"TARGET\"], index=False))"
   ]
  },
  {
   "cell_type": "markdown",
   "metadata": {
    "colab_type": "text",
    "id": "-8_jGr9D009X"
   },
   "source": [
    "<hr>\n",
    "\n",
    "## ¡Felicitaciones!\n",
    "\n",
    "Si todo fue ejecutado sin errores, usted ya tiene un modelo basado en classificacion binaria y puede descargar sus resultados para subirlos como csv!\n",
    "\n",
    "Para enviar su solución, ve a la página:\n",
    "\n",
    "# https://anahuac.maratona.dev\n"
   ]
  },
  {
   "cell_type": "code",
   "execution_count": null,
   "metadata": {
    "colab": {},
    "colab_type": "code",
    "id": "qaTrag5g009Y"
   },
   "outputs": [],
   "source": []
  }
 ],
 "metadata": {
  "colab": {
   "name": "anahuac.ipynb",
   "provenance": []
  },
  "kernelspec": {
   "display_name": "Python 3.6",
   "language": "python",
   "name": "python3"
  },
  "language_info": {
   "codemirror_mode": {
    "name": "ipython",
    "version": 3
   },
   "file_extension": ".py",
   "mimetype": "text/x-python",
   "name": "python",
   "nbconvert_exporter": "python",
   "pygments_lexer": "ipython3",
   "version": "3.6.9"
  }
 },
 "nbformat": 4,
 "nbformat_minor": 1
}
