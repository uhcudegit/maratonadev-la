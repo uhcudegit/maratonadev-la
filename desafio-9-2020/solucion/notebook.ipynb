{
  "nbformat": 4,
  "nbformat_minor": 0,
  "metadata": {
    "kernelspec": {
      "name": "python3",
      "display_name": "Python 3.7",
      "language": "python"
    },
    "language_info": {
      "name": "python",
      "version": "3.7.9",
      "mimetype": "text/x-python",
      "codemirror_mode": {
        "name": "ipython",
        "version": 3
      },
      "pygments_lexer": "ipython3",
      "nbconvert_exporter": "python",
      "file_extension": ".py"
    },
    "colab": {
      "name": "notebook_solucion.ipynb",
      "provenance": []
    }
  },
  "cells": [
    {
      "cell_type": "markdown",
      "metadata": {
        "collapsed": true,
        "id": "31lPsduOAAv-"
      },
      "source": [
        "<h1 style=\"text-align: center\">Maratona Behind The Code</h1>\n",
        "<h2 style=\"text-align: center\">Final Challenge -  Machine Learning applied to Planet Exploration</h2>"
      ]
    },
    {
      "cell_type": "markdown",
      "metadata": {
        "id": "V83QPYQxAAv_"
      },
      "source": [
        "<hr>"
      ]
    },
    {
      "cell_type": "markdown",
      "metadata": {
        "id": "D1e7issyAAv_"
      },
      "source": [
        "## Short Description"
      ]
    },
    {
      "cell_type": "markdown",
      "metadata": {
        "id": "FU2mmXKQAAv_"
      },
      "source": [
        "Astronomy has always fascinated mankind. Until we can trace ancient civilizations had looked to the sky and found some patterns in the dynamics of the night sky and whether a celestial body can emit light or just reflect it. Using this simple approach, the Greeks, the Egyptians and the Babylonians had mapped the planets until saturn.\n",
        "\n",
        "More than a thousand years had passed to the discovery of Uranus, and this was only possible grace of technological advance. And during the last three decades humanity has discovery more planets than ever and now it is time to put A.I to help astronomers to classify the celestials bodies that light and the gravitational disturb is meraly measerable. Are you up for the challenge ?"
      ]
    },
    {
      "cell_type": "markdown",
      "metadata": {
        "id": "GyGEMfNzAAv_"
      },
      "source": [
        "<hr>"
      ]
    },
    {
      "cell_type": "markdown",
      "metadata": {
        "id": "opit8ckXAAv_"
      },
      "source": [
        "## Installing Libs"
      ]
    },
    {
      "cell_type": "code",
      "metadata": {
        "id": "h89gJwgCAAv_"
      },
      "source": [
        "!pip install --upgrade ibm-cos-sdk==2.7.0"
      ],
      "execution_count": null,
      "outputs": []
    },
    {
      "cell_type": "code",
      "metadata": {
        "id": "rXC2IV5rAAwA"
      },
      "source": [
        "!pip install --upgrade --force-reinstall ibm_watson_machine_learning"
      ],
      "execution_count": null,
      "outputs": []
    },
    {
      "cell_type": "code",
      "metadata": {
        "id": "E_f1cUUFAAwA"
      },
      "source": [
        "!pip install scikit-learn --upgrade"
      ],
      "execution_count": null,
      "outputs": []
    },
    {
      "cell_type": "code",
      "metadata": {
        "id": "AaSq3UhvAAwB"
      },
      "source": [
        "!pip install xgboost --upgrade"
      ],
      "execution_count": null,
      "outputs": []
    },
    {
      "cell_type": "code",
      "metadata": {
        "id": "pfTjaKvJAAwB"
      },
      "source": [
        "!pip install imblearn --upgrade"
      ],
      "execution_count": null,
      "outputs": []
    },
    {
      "cell_type": "markdown",
      "metadata": {
        "id": "pR8q90grAAwC"
      },
      "source": [
        "<hr>"
      ]
    },
    {
      "cell_type": "markdown",
      "metadata": {
        "id": "L-LbNJjZAAwC"
      },
      "source": [
        "<!-- ## Aquisição do conjunto de dados -->\n",
        "## Acquiring dataset"
      ]
    },
    {
      "cell_type": "markdown",
      "metadata": {
        "id": "pHR6D5-fAAwC"
      },
      "source": [
        "It is necessary to insert the dataset as a dataframe on jupyter notebook."
      ]
    },
    {
      "cell_type": "code",
      "metadata": {
        "colab": {
          "base_uri": "https://localhost:8080/",
          "height": 417
        },
        "id": "mz5oUtlxAAwC",
        "outputId": "e79c921e-2f6e-4999-8343-edead8f9196d"
      },
      "source": [
        "import pandas as pd\n",
        "\n",
        "!wget --no-check-certificate --content-disposition https://raw.githubusercontent.com/asperduti/maratonadev-la/26f45ebc90e211fdea6f24d22d239d890abe0ef0/desafio-9-2020/data/dataset/dataset.csv\n",
        "df_data_1 = pd.read_csv(r'dataset.csv')\n",
        "df_data_1.tail()"
      ],
      "execution_count": 1,
      "outputs": [
        {
          "output_type": "stream",
          "text": [
            "--2020-12-06 13:19:11--  https://raw.githubusercontent.com/asperduti/maratonadev-la/26f45ebc90e211fdea6f24d22d239d890abe0ef0/desafio-9-2020/data/dataset/dataset.csv\n",
            "Resolving raw.githubusercontent.com (raw.githubusercontent.com)... 151.101.0.133, 151.101.64.133, 151.101.128.133, ...\n",
            "Connecting to raw.githubusercontent.com (raw.githubusercontent.com)|151.101.0.133|:443... connected.\n",
            "HTTP request sent, awaiting response... 200 OK\n",
            "Length: 3605369 (3.4M) [text/plain]\n",
            "Saving to: ‘dataset.csv’\n",
            "\n",
            "dataset.csv         100%[===================>]   3.44M  --.-KB/s    in 0.09s   \n",
            "\n",
            "2020-12-06 13:19:11 (39.4 MB/s) - ‘dataset.csv’ saved [3605369/3605369]\n",
            "\n"
          ],
          "name": "stdout"
        },
        {
          "output_type": "execute_result",
          "data": {
            "text/html": [
              "<div>\n",
              "<style scoped>\n",
              "    .dataframe tbody tr th:only-of-type {\n",
              "        vertical-align: middle;\n",
              "    }\n",
              "\n",
              "    .dataframe tbody tr th {\n",
              "        vertical-align: top;\n",
              "    }\n",
              "\n",
              "    .dataframe thead th {\n",
              "        text-align: right;\n",
              "    }\n",
              "</style>\n",
              "<table border=\"1\" class=\"dataframe\">\n",
              "  <thead>\n",
              "    <tr style=\"text-align: right;\">\n",
              "      <th></th>\n",
              "      <th>rowid</th>\n",
              "      <th>kepid</th>\n",
              "      <th>koi_pdisposition</th>\n",
              "      <th>koi_score</th>\n",
              "      <th>koi_fpflag_nt</th>\n",
              "      <th>koi_fpflag_ss</th>\n",
              "      <th>koi_fpflag_co</th>\n",
              "      <th>koi_fpflag_ec</th>\n",
              "      <th>koi_period</th>\n",
              "      <th>koi_period_err1</th>\n",
              "      <th>koi_period_err2</th>\n",
              "      <th>koi_time0bk</th>\n",
              "      <th>koi_time0bk_err1</th>\n",
              "      <th>koi_time0bk_err2</th>\n",
              "      <th>koi_impact</th>\n",
              "      <th>koi_impact_err1</th>\n",
              "      <th>koi_impact_err2</th>\n",
              "      <th>koi_duration</th>\n",
              "      <th>koi_duration_err1</th>\n",
              "      <th>koi_duration_err2</th>\n",
              "      <th>koi_depth</th>\n",
              "      <th>koi_depth_err1</th>\n",
              "      <th>koi_depth_err2</th>\n",
              "      <th>koi_prad</th>\n",
              "      <th>koi_prad_err1</th>\n",
              "      <th>koi_prad_err2</th>\n",
              "      <th>koi_teq</th>\n",
              "      <th>koi_insol</th>\n",
              "      <th>koi_insol_err1</th>\n",
              "      <th>koi_insol_err2</th>\n",
              "      <th>koi_model_snr</th>\n",
              "      <th>koi_tce_plnt_num</th>\n",
              "      <th>koi_steff</th>\n",
              "      <th>koi_steff_err1</th>\n",
              "      <th>koi_steff_err2</th>\n",
              "      <th>koi_slogg</th>\n",
              "      <th>koi_slogg_err1</th>\n",
              "      <th>koi_slogg_err2</th>\n",
              "      <th>koi_srad</th>\n",
              "      <th>koi_srad_err1</th>\n",
              "      <th>koi_srad_err2</th>\n",
              "      <th>ra</th>\n",
              "      <th>dec</th>\n",
              "      <th>koi_kepmag</th>\n",
              "      <th>TARGET</th>\n",
              "    </tr>\n",
              "  </thead>\n",
              "  <tbody>\n",
              "    <tr>\n",
              "      <th>7698</th>\n",
              "      <td>NaN</td>\n",
              "      <td>9114508.0</td>\n",
              "      <td>FALSE POSITIVE</td>\n",
              "      <td>NaN</td>\n",
              "      <td>1.0</td>\n",
              "      <td>0.0</td>\n",
              "      <td>0.0</td>\n",
              "      <td>0.0</td>\n",
              "      <td>256.456160</td>\n",
              "      <td>0.024750</td>\n",
              "      <td>-0.024750</td>\n",
              "      <td>141.75860</td>\n",
              "      <td>0.08440</td>\n",
              "      <td>NaN</td>\n",
              "      <td>779.0</td>\n",
              "      <td>NaN</td>\n",
              "      <td>-0.51</td>\n",
              "      <td>35.35</td>\n",
              "      <td>3.0</td>\n",
              "      <td>-3.00</td>\n",
              "      <td>17283.0</td>\n",
              "      <td>NaN</td>\n",
              "      <td>NaN</td>\n",
              "      <td>9.44</td>\n",
              "      <td>NaN</td>\n",
              "      <td>-0.89</td>\n",
              "      <td>175.0</td>\n",
              "      <td>0.22</td>\n",
              "      <td>0.05</td>\n",
              "      <td>-0.07</td>\n",
              "      <td>14.4</td>\n",
              "      <td>4.0</td>\n",
              "      <td>NaN</td>\n",
              "      <td>142.0</td>\n",
              "      <td>-156.0</td>\n",
              "      <td>4628.0</td>\n",
              "      <td>0.056</td>\n",
              "      <td>-16.000</td>\n",
              "      <td>646.0</td>\n",
              "      <td>NaN</td>\n",
              "      <td>-61.00</td>\n",
              "      <td>299.53513</td>\n",
              "      <td>45.441860</td>\n",
              "      <td>15745.0</td>\n",
              "      <td>1.0</td>\n",
              "    </tr>\n",
              "    <tr>\n",
              "      <th>7699</th>\n",
              "      <td>9457.0</td>\n",
              "      <td>9340460.0</td>\n",
              "      <td>FALSE POSITIVE</td>\n",
              "      <td>9.0</td>\n",
              "      <td>1.0</td>\n",
              "      <td>NaN</td>\n",
              "      <td>0.0</td>\n",
              "      <td>NaN</td>\n",
              "      <td>388.519605</td>\n",
              "      <td>0.007934</td>\n",
              "      <td>-0.007934</td>\n",
              "      <td>352.28980</td>\n",
              "      <td>0.01880</td>\n",
              "      <td>NaN</td>\n",
              "      <td>478.0</td>\n",
              "      <td>488.00</td>\n",
              "      <td>-272.00</td>\n",
              "      <td>10613.00</td>\n",
              "      <td>NaN</td>\n",
              "      <td>-0.51</td>\n",
              "      <td>151.2</td>\n",
              "      <td>11.8</td>\n",
              "      <td>-11.8</td>\n",
              "      <td>2.30</td>\n",
              "      <td>0.60</td>\n",
              "      <td>-0.91</td>\n",
              "      <td>350.0</td>\n",
              "      <td>3.56</td>\n",
              "      <td>2.86</td>\n",
              "      <td>-2.44</td>\n",
              "      <td>15.1</td>\n",
              "      <td>1.0</td>\n",
              "      <td>NaN</td>\n",
              "      <td>NaN</td>\n",
              "      <td>-238.0</td>\n",
              "      <td>3985.0</td>\n",
              "      <td>364.000</td>\n",
              "      <td>-0.130</td>\n",
              "      <td>1825.0</td>\n",
              "      <td>NaN</td>\n",
              "      <td>-719.00</td>\n",
              "      <td>291.07208</td>\n",
              "      <td>45.879307</td>\n",
              "      <td>11543.0</td>\n",
              "      <td>1.0</td>\n",
              "    </tr>\n",
              "    <tr>\n",
              "      <th>7700</th>\n",
              "      <td>9458.0</td>\n",
              "      <td>9409493.0</td>\n",
              "      <td>NaN</td>\n",
              "      <td>NaN</td>\n",
              "      <td>1.0</td>\n",
              "      <td>0.0</td>\n",
              "      <td>0.0</td>\n",
              "      <td>0.0</td>\n",
              "      <td>60.049737</td>\n",
              "      <td>0.005022</td>\n",
              "      <td>-0.005022</td>\n",
              "      <td>158.52260</td>\n",
              "      <td>NaN</td>\n",
              "      <td>-78.00000</td>\n",
              "      <td>1217.0</td>\n",
              "      <td>6859.00</td>\n",
              "      <td>-9.00</td>\n",
              "      <td>20.17</td>\n",
              "      <td>1.5</td>\n",
              "      <td>NaN</td>\n",
              "      <td>16650.0</td>\n",
              "      <td>NaN</td>\n",
              "      <td>-1156.0</td>\n",
              "      <td>28.92</td>\n",
              "      <td>2.10</td>\n",
              "      <td>-2.61</td>\n",
              "      <td>320.0</td>\n",
              "      <td>2.47</td>\n",
              "      <td>0.79</td>\n",
              "      <td>-0.70</td>\n",
              "      <td>17.5</td>\n",
              "      <td>1.0</td>\n",
              "      <td>4538.0</td>\n",
              "      <td>NaN</td>\n",
              "      <td>-159.0</td>\n",
              "      <td>4607.0</td>\n",
              "      <td>0.054</td>\n",
              "      <td>-0.027</td>\n",
              "      <td>663.0</td>\n",
              "      <td>48.00</td>\n",
              "      <td>-0.06</td>\n",
              "      <td>294.00723</td>\n",
              "      <td>45.953941</td>\n",
              "      <td>16675.0</td>\n",
              "      <td>1.0</td>\n",
              "    </tr>\n",
              "    <tr>\n",
              "      <th>7701</th>\n",
              "      <td>9459.0</td>\n",
              "      <td>NaN</td>\n",
              "      <td>CANDIDATE</td>\n",
              "      <td>502.0</td>\n",
              "      <td>NaN</td>\n",
              "      <td>0.0</td>\n",
              "      <td>NaN</td>\n",
              "      <td>0.0</td>\n",
              "      <td>5.887704</td>\n",
              "      <td>0.073470</td>\n",
              "      <td>-0.073470</td>\n",
              "      <td>135.03738</td>\n",
              "      <td>0.00971</td>\n",
              "      <td>-0.00971</td>\n",
              "      <td>185.0</td>\n",
              "      <td>266.00</td>\n",
              "      <td>-185.00</td>\n",
              "      <td>NaN</td>\n",
              "      <td>NaN</td>\n",
              "      <td>-0.33</td>\n",
              "      <td>39.7</td>\n",
              "      <td>4.9</td>\n",
              "      <td>NaN</td>\n",
              "      <td>0.60</td>\n",
              "      <td>0.19</td>\n",
              "      <td>-0.06</td>\n",
              "      <td>NaN</td>\n",
              "      <td>262.67</td>\n",
              "      <td>251.91</td>\n",
              "      <td>-75.21</td>\n",
              "      <td>9.3</td>\n",
              "      <td>1.0</td>\n",
              "      <td>NaN</td>\n",
              "      <td>163.0</td>\n",
              "      <td>NaN</td>\n",
              "      <td>4495.0</td>\n",
              "      <td>NaN</td>\n",
              "      <td>-221.000</td>\n",
              "      <td>947.0</td>\n",
              "      <td>0.31</td>\n",
              "      <td>-97.00</td>\n",
              "      <td>293.43494</td>\n",
              "      <td>NaN</td>\n",
              "      <td>13811.0</td>\n",
              "      <td>NaN</td>\n",
              "    </tr>\n",
              "    <tr>\n",
              "      <th>7702</th>\n",
              "      <td>9460.0</td>\n",
              "      <td>9649205.0</td>\n",
              "      <td>FALSE POSITIVE</td>\n",
              "      <td>12.0</td>\n",
              "      <td>1.0</td>\n",
              "      <td>0.0</td>\n",
              "      <td>0.0</td>\n",
              "      <td>0.0</td>\n",
              "      <td>237.266010</td>\n",
              "      <td>0.024400</td>\n",
              "      <td>-0.024400</td>\n",
              "      <td>315.94460</td>\n",
              "      <td>46.00000</td>\n",
              "      <td>-46.00000</td>\n",
              "      <td>34.0</td>\n",
              "      <td>0.41</td>\n",
              "      <td>-34.00</td>\n",
              "      <td>8.74</td>\n",
              "      <td>1.9</td>\n",
              "      <td>-1.90</td>\n",
              "      <td>150.4</td>\n",
              "      <td>21.7</td>\n",
              "      <td>-21.7</td>\n",
              "      <td>1.23</td>\n",
              "      <td>NaN</td>\n",
              "      <td>-0.17</td>\n",
              "      <td>299.0</td>\n",
              "      <td>NaN</td>\n",
              "      <td>1.20</td>\n",
              "      <td>NaN</td>\n",
              "      <td>NaN</td>\n",
              "      <td>1.0</td>\n",
              "      <td>5786.0</td>\n",
              "      <td>173.0</td>\n",
              "      <td>NaN</td>\n",
              "      <td>4402.0</td>\n",
              "      <td>NaN</td>\n",
              "      <td>-138.000</td>\n",
              "      <td>1007.0</td>\n",
              "      <td>207.00</td>\n",
              "      <td>-138.00</td>\n",
              "      <td>291.84842</td>\n",
              "      <td>NaN</td>\n",
              "      <td>NaN</td>\n",
              "      <td>1.0</td>\n",
              "    </tr>\n",
              "  </tbody>\n",
              "</table>\n",
              "</div>"
            ],
            "text/plain": [
              "       rowid      kepid koi_pdisposition  ...        dec  koi_kepmag  TARGET\n",
              "7698     NaN  9114508.0   FALSE POSITIVE  ...  45.441860     15745.0     1.0\n",
              "7699  9457.0  9340460.0   FALSE POSITIVE  ...  45.879307     11543.0     1.0\n",
              "7700  9458.0  9409493.0              NaN  ...  45.953941     16675.0     1.0\n",
              "7701  9459.0        NaN        CANDIDATE  ...        NaN     13811.0     NaN\n",
              "7702  9460.0  9649205.0   FALSE POSITIVE  ...        NaN         NaN     1.0\n",
              "\n",
              "[5 rows x 45 columns]"
            ]
          },
          "metadata": {
            "tags": []
          },
          "execution_count": 1
        }
      ]
    },
    {
      "cell_type": "markdown",
      "metadata": {
        "id": "BSYveQy0AAwE"
      },
      "source": [
        "We have some astronomical data on this dataset and it is important you know some of them:\n",
        "\n",
        "- **TARGET**: The disposition in the literature towards this exoplanet candidate. One of CANDIDATE, FALSE POSITIVE or CONFIRMED.\n",
        "- **koi_pdisposition**: The disposition Kepler data analysis has towards this exoplanet candidate. One of FALSE POSITIVE and CANDIDATE.\n",
        "- **koi_score**: A value between 0 and 1 that indicates the confidence in the KOI disposition. For CANDIDATEs, a higher value indicates more confidence in its disposition, while for FALSE POSITIVEs, a higher value indicates less confidence in that disposition."
      ]
    },
    {
      "cell_type": "markdown",
      "metadata": {
        "id": "xJdyTerJAAwF"
      },
      "source": [
        "<hr>\n",
        "\n",
        "## Challenge Details: Multiclass Classification\n",
        "\n",
        "The proposal of the challenge is to classify data to enable machine to point if an amout of measures available on the dataset can be a planet, a candidate of planet that require more studies, or none which means it is not a planet. For this, we can use two approaches: supervised machine learning (classification) or unsupervised (clustering). In this challenge the classification will be applied, since a dataset is already available with \"labels\", or in other words, already with examples of data together with the target variable.\n",
        "\n",
        "In the scikit-learn library we have several algorithms for classification. The participant is free to use the framework he wishes to complete this challenge. The role notebook is prepared for sckit-learn deployment though."
      ]
    },
    {
      "cell_type": "markdown",
      "metadata": {
        "id": "_-i1E1rkAAwF"
      },
      "source": [
        "<hr>"
      ]
    },
    {
      "cell_type": "markdown",
      "metadata": {
        "id": "CWAKdXg7AAwF"
      },
      "source": [
        "## Data exploration\n",
        "\n",
        "Use the cells below to explore the data, check which variables most influence the `TARGET` variable and the distribution of values."
      ]
    },
    {
      "cell_type": "code",
      "metadata": {
        "scrolled": true,
        "colab": {
          "base_uri": "https://localhost:8080/"
        },
        "id": "IoeU1okAAAwE",
        "outputId": "24f73366-bf91-49a7-de99-eed27ec92301"
      },
      "source": [
        "df_training_dataset = df_data_1\n",
        "df_training_dataset.info()"
      ],
      "execution_count": 2,
      "outputs": [
        {
          "output_type": "stream",
          "text": [
            "<class 'pandas.core.frame.DataFrame'>\n",
            "RangeIndex: 7703 entries, 0 to 7702\n",
            "Data columns (total 45 columns):\n",
            " #   Column             Non-Null Count  Dtype  \n",
            "---  ------             --------------  -----  \n",
            " 0   rowid              6162 non-null   float64\n",
            " 1   kepid              6162 non-null   float64\n",
            " 2   koi_pdisposition   6162 non-null   object \n",
            " 3   koi_score          6162 non-null   float64\n",
            " 4   koi_fpflag_nt      6162 non-null   float64\n",
            " 5   koi_fpflag_ss      6162 non-null   float64\n",
            " 6   koi_fpflag_co      6162 non-null   float64\n",
            " 7   koi_fpflag_ec      6162 non-null   float64\n",
            " 8   koi_period         6162 non-null   float64\n",
            " 9   koi_period_err1    6162 non-null   float64\n",
            " 10  koi_period_err2    6162 non-null   float64\n",
            " 11  koi_time0bk        6162 non-null   float64\n",
            " 12  koi_time0bk_err1   6162 non-null   float64\n",
            " 13  koi_time0bk_err2   6162 non-null   float64\n",
            " 14  koi_impact         6162 non-null   float64\n",
            " 15  koi_impact_err1    6162 non-null   float64\n",
            " 16  koi_impact_err2    6162 non-null   float64\n",
            " 17  koi_duration       6162 non-null   float64\n",
            " 18  koi_duration_err1  6162 non-null   float64\n",
            " 19  koi_duration_err2  6162 non-null   float64\n",
            " 20  koi_depth          6162 non-null   float64\n",
            " 21  koi_depth_err1     6162 non-null   float64\n",
            " 22  koi_depth_err2     6162 non-null   float64\n",
            " 23  koi_prad           6162 non-null   float64\n",
            " 24  koi_prad_err1      6162 non-null   float64\n",
            " 25  koi_prad_err2      6162 non-null   float64\n",
            " 26  koi_teq            6162 non-null   float64\n",
            " 27  koi_insol          6162 non-null   float64\n",
            " 28  koi_insol_err1     6162 non-null   float64\n",
            " 29  koi_insol_err2     6162 non-null   float64\n",
            " 30  koi_model_snr      6162 non-null   float64\n",
            " 31  koi_tce_plnt_num   6162 non-null   float64\n",
            " 32  koi_steff          6162 non-null   float64\n",
            " 33  koi_steff_err1     6162 non-null   float64\n",
            " 34  koi_steff_err2     6162 non-null   float64\n",
            " 35  koi_slogg          6162 non-null   float64\n",
            " 36  koi_slogg_err1     6162 non-null   float64\n",
            " 37  koi_slogg_err2     6162 non-null   float64\n",
            " 38  koi_srad           6162 non-null   float64\n",
            " 39  koi_srad_err1      6162 non-null   float64\n",
            " 40  koi_srad_err2      6162 non-null   float64\n",
            " 41  ra                 6162 non-null   float64\n",
            " 42  dec                6162 non-null   float64\n",
            " 43  koi_kepmag         6162 non-null   float64\n",
            " 44  TARGET             6162 non-null   float64\n",
            "dtypes: float64(44), object(1)\n",
            "memory usage: 2.6+ MB\n"
          ],
          "name": "stdout"
        }
      ]
    },
    {
      "cell_type": "code",
      "metadata": {
        "colab": {
          "base_uri": "https://localhost:8080/"
        },
        "id": "VKWX9mj2AAwE",
        "outputId": "543fbc1a-f2bd-4f05-c5dd-6705183c4acd"
      },
      "source": [
        "df_training_dataset.nunique()"
      ],
      "execution_count": 3,
      "outputs": [
        {
          "output_type": "execute_result",
          "data": {
            "text/plain": [
              "rowid                6162\n",
              "kepid                5418\n",
              "koi_pdisposition        2\n",
              "koi_score             556\n",
              "koi_fpflag_nt           2\n",
              "koi_fpflag_ss           2\n",
              "koi_fpflag_co           2\n",
              "koi_fpflag_ec           2\n",
              "koi_period           6162\n",
              "koi_period_err1      5135\n",
              "koi_period_err2      5114\n",
              "koi_time0bk          6153\n",
              "koi_time0bk_err1     2153\n",
              "koi_time0bk_err2     2141\n",
              "koi_impact           1325\n",
              "koi_impact_err1      1079\n",
              "koi_impact_err2       840\n",
              "koi_duration         5504\n",
              "koi_duration_err1    1971\n",
              "koi_duration_err2    1978\n",
              "koi_depth            5093\n",
              "koi_depth_err1       1202\n",
              "koi_depth_err2       1200\n",
              "koi_prad             2332\n",
              "koi_prad_err1        1459\n",
              "koi_prad_err2        1274\n",
              "koi_teq              2183\n",
              "koi_insol            5667\n",
              "koi_insol_err1       5296\n",
              "koi_insol_err2       4972\n",
              "koi_model_snr        2201\n",
              "koi_tce_plnt_num        8\n",
              "koi_steff            2063\n",
              "koi_steff_err1        250\n",
              "koi_steff_err2        341\n",
              "koi_slogg            1298\n",
              "koi_slogg_err1        434\n",
              "koi_slogg_err2        285\n",
              "koi_srad             1857\n",
              "koi_srad_err1         845\n",
              "koi_srad_err2        1073\n",
              "ra                   5384\n",
              "dec                  5404\n",
              "koi_kepmag           3105\n",
              "TARGET                  3\n",
              "dtype: int64"
            ]
          },
          "metadata": {
            "tags": []
          },
          "execution_count": 3
        }
      ]
    },
    {
      "cell_type": "markdown",
      "metadata": {
        "id": "7M611FE0AAwE"
      },
      "source": [
        "### Primer Limpieza, filas con TARGET nan\n",
        "\n",
        "Este preprocesamiento de los datos, lo puedo realizar fuera del Pipeline, ya que solo estoy eliminando las filas con `TARGET` nulo, que no me sirven para alimentar el modelo."
      ]
    },
    {
      "cell_type": "code",
      "metadata": {
        "colab": {
          "base_uri": "https://localhost:8080/"
        },
        "id": "tLDdlHeAAAwE",
        "outputId": "857b38e9-9fa1-494d-ebdc-d7919a7ad858"
      },
      "source": [
        "df_training_dataset_2 = df_training_dataset[df_training_dataset['TARGET'].notnull()]\n",
        "df_training_dataset_2.info()"
      ],
      "execution_count": 4,
      "outputs": [
        {
          "output_type": "stream",
          "text": [
            "<class 'pandas.core.frame.DataFrame'>\n",
            "Int64Index: 6162 entries, 0 to 7702\n",
            "Data columns (total 45 columns):\n",
            " #   Column             Non-Null Count  Dtype  \n",
            "---  ------             --------------  -----  \n",
            " 0   rowid              4945 non-null   float64\n",
            " 1   kepid              4925 non-null   float64\n",
            " 2   koi_pdisposition   4912 non-null   object \n",
            " 3   koi_score          4946 non-null   float64\n",
            " 4   koi_fpflag_nt      4920 non-null   float64\n",
            " 5   koi_fpflag_ss      4918 non-null   float64\n",
            " 6   koi_fpflag_co      4927 non-null   float64\n",
            " 7   koi_fpflag_ec      4930 non-null   float64\n",
            " 8   koi_period         4912 non-null   float64\n",
            " 9   koi_period_err1    4934 non-null   float64\n",
            " 10  koi_period_err2    4920 non-null   float64\n",
            " 11  koi_time0bk        4911 non-null   float64\n",
            " 12  koi_time0bk_err1   4939 non-null   float64\n",
            " 13  koi_time0bk_err2   4946 non-null   float64\n",
            " 14  koi_impact         4937 non-null   float64\n",
            " 15  koi_impact_err1    4914 non-null   float64\n",
            " 16  koi_impact_err2    4926 non-null   float64\n",
            " 17  koi_duration       4937 non-null   float64\n",
            " 18  koi_duration_err1  4908 non-null   float64\n",
            " 19  koi_duration_err2  4933 non-null   float64\n",
            " 20  koi_depth          4924 non-null   float64\n",
            " 21  koi_depth_err1     4917 non-null   float64\n",
            " 22  koi_depth_err2     4921 non-null   float64\n",
            " 23  koi_prad           4928 non-null   float64\n",
            " 24  koi_prad_err1      4945 non-null   float64\n",
            " 25  koi_prad_err2      4951 non-null   float64\n",
            " 26  koi_teq            4918 non-null   float64\n",
            " 27  koi_insol          4927 non-null   float64\n",
            " 28  koi_insol_err1     4941 non-null   float64\n",
            " 29  koi_insol_err2     4918 non-null   float64\n",
            " 30  koi_model_snr      4941 non-null   float64\n",
            " 31  koi_tce_plnt_num   4917 non-null   float64\n",
            " 32  koi_steff          4964 non-null   float64\n",
            " 33  koi_steff_err1     4923 non-null   float64\n",
            " 34  koi_steff_err2     4908 non-null   float64\n",
            " 35  koi_slogg          4925 non-null   float64\n",
            " 36  koi_slogg_err1     4923 non-null   float64\n",
            " 37  koi_slogg_err2     4924 non-null   float64\n",
            " 38  koi_srad           4949 non-null   float64\n",
            " 39  koi_srad_err1      4933 non-null   float64\n",
            " 40  koi_srad_err2      4929 non-null   float64\n",
            " 41  ra                 4924 non-null   float64\n",
            " 42  dec                4920 non-null   float64\n",
            " 43  koi_kepmag         4945 non-null   float64\n",
            " 44  TARGET             6162 non-null   float64\n",
            "dtypes: float64(44), object(1)\n",
            "memory usage: 2.2+ MB\n"
          ],
          "name": "stdout"
        }
      ]
    },
    {
      "cell_type": "markdown",
      "metadata": {
        "id": "HmWE1WObAAwF"
      },
      "source": [
        "## Pre-processing the dataset before training"
      ]
    },
    {
      "cell_type": "markdown",
      "metadata": {
        "id": "U_bKpboRAAwF"
      },
      "source": [
        "### Construction of the complete Pipeline for WML encapsulation"
      ]
    },
    {
      "cell_type": "markdown",
      "metadata": {
        "id": "EtzTnmhdAAwF"
      },
      "source": [
        "#### Preparing custom transformations for loading on WML"
      ]
    },
    {
      "cell_type": "markdown",
      "metadata": {
        "id": "UBV4IXr8AAwF"
      },
      "source": [
        "To integrate these types of custom transformations into Watson Machine Learning Pipelines, you must first package your custom code as a Python library. This can be done easily using the *setuptools* tool.\n",
        "\n",
        "On the following git repository: https://github.com/vnderlev/sklearn_transforms we have all the necessaries files to create a Python package, named **my_custom_sklearn_transforms**.\n",
        "This package has the following file structure:\n",
        "\n",
        "    /my_custom_sklearn_transforms.egg-info\n",
        "        dependency_links.txt\n",
        "        not-zip-safe\n",
        "        PKG-INFO\n",
        "        SOURCES.txt\n",
        "        top_level.txt\n",
        "    /my_custom_sklearn_transforms\n",
        "        __init__.py\n",
        "        sklearn_transformers.py\n",
        "    PKG-INFO\n",
        "    README.md\n",
        "    setup.cfg\n",
        "    setup.py\n",
        "    \n",
        "The main file, which will contain the code for our custom transforms, is the file **/my_custom_sklearn_transforms/sklearn_transformers.py**. If you access it in the repository, you will notice that it contains a class called `DropColumns()`, which has the necessary methods to remove columns from any dataset.\n",
        "\n",
        "    - DropColumns() custom transformation code:\n",
        "    \n",
        "    from sklearn.base import BaseEstimator, TransformerMixin\n",
        "    # All sklearn Transforms must have the `transform` and `fit` methods\n",
        "    class DropColumns(BaseEstimator, TransformerMixin):\n",
        "        def __init__(self, columns):\n",
        "            self.columns = columns\n",
        "        def fit(self, X, y=None):\n",
        "            return self\n",
        "        def transform(self, X):\n",
        "            # Primeiro realizamos a cópia do dataframe 'X' de entrada\n",
        "            data = X.copy()\n",
        "            # Retornamos um novo dataframe sem as colunas indesejadas\n",
        "            return data.drop(labels=self.columns, axis='columns')\n",
        "\n",
        "If you have declared your own transformations (in addition to the provided DropColumn), you must add all the classes of those transformations created by you in this same file. To do this, you must fork this repository, and add your custom classes in the file **sklearn_transformers.py**.\n",
        "\n",
        "If you only made use of the provided transformation (DropColumns), you can skip this fork step, and continue using the supplied base package! :)\n",
        "\n",
        "After preparing your Python package with your custom transforms, replace the git repository link in the cell below and run it. If you have not prepared any new transforms, execute the cell with the repository link already provided.\n",
        "\n",
        "<hr>\n",
        "    \n",
        "**PAY ATTENTION**\n",
        "\n",
        "If the execution of the cell below returns an error that the repository already exists, run the foolowing command:\n",
        "\n",
        "**!rm -r -f sklearn_transforms**"
      ]
    },
    {
      "cell_type": "code",
      "metadata": {
        "id": "FLG9IDrGAAwF"
      },
      "source": [
        "import numpy as np"
      ],
      "execution_count": 5,
      "outputs": []
    },
    {
      "cell_type": "code",
      "metadata": {
        "colab": {
          "base_uri": "https://localhost:8080/"
        },
        "id": "bPX-90GyAAwG",
        "outputId": "710d3eea-0b66-4dcf-dbb3-77cbcff1fca7"
      },
      "source": [
        "# replace the link below with the link from your git repository (if applicable)\n",
        "!git clone https://github.com/vnderlev/sklearn_transforms.git"
      ],
      "execution_count": 6,
      "outputs": [
        {
          "output_type": "stream",
          "text": [
            "Cloning into 'sklearn_transforms'...\n",
            "remote: Enumerating objects: 59, done.\u001b[K\n",
            "remote: Total 59 (delta 0), reused 0 (delta 0), pack-reused 59\u001b[K\n",
            "Unpacking objects: 100% (59/59), done.\n"
          ],
          "name": "stdout"
        }
      ]
    },
    {
      "cell_type": "code",
      "metadata": {
        "colab": {
          "base_uri": "https://localhost:8080/"
        },
        "id": "yb0PWbkiAAwH",
        "outputId": "4fa79ee0-5986-4789-9384-8930f70f79df"
      },
      "source": [
        "!cd sklearn_transforms\n",
        "!ls -ltr"
      ],
      "execution_count": 7,
      "outputs": [
        {
          "output_type": "stream",
          "text": [
            "total 3532\n",
            "drwxr-xr-x 1 root root    4096 Dec  2 22:04 sample_data\n",
            "-rw-r--r-- 1 root root 3605369 Dec  6 13:19 dataset.csv\n",
            "drwxr-xr-x 5 root root    4096 Dec  6 13:19 sklearn_transforms\n"
          ],
          "name": "stdout"
        }
      ]
    },
    {
      "cell_type": "code",
      "metadata": {
        "colab": {
          "base_uri": "https://localhost:8080/"
        },
        "id": "5QJCQ18bAAwH",
        "outputId": "2e15f26a-2f19-4663-c59e-56d78d7dfd61"
      },
      "source": [
        "!zip -r sklearn_transforms.zip sklearn_transforms"
      ],
      "execution_count": 8,
      "outputs": [
        {
          "output_type": "stream",
          "text": [
            "  adding: sklearn_transforms/ (stored 0%)\n",
            "  adding: sklearn_transforms/my_custom_sklearn_transforms/ (stored 0%)\n",
            "  adding: sklearn_transforms/my_custom_sklearn_transforms/__init__.py (stored 0%)\n",
            "  adding: sklearn_transforms/my_custom_sklearn_transforms/sklearn_transformers.py (deflated 46%)\n",
            "  adding: sklearn_transforms/PKG-INFO (deflated 31%)\n",
            "  adding: sklearn_transforms/my_custom_sklearn_transforms.egg-info/ (stored 0%)\n",
            "  adding: sklearn_transforms/my_custom_sklearn_transforms.egg-info/top_level.txt (stored 0%)\n",
            "  adding: sklearn_transforms/my_custom_sklearn_transforms.egg-info/PKG-INFO (deflated 33%)\n",
            "  adding: sklearn_transforms/my_custom_sklearn_transforms.egg-info/dependency_links.txt (stored 0%)\n",
            "  adding: sklearn_transforms/my_custom_sklearn_transforms.egg-info/not-zip-safe (stored 0%)\n",
            "  adding: sklearn_transforms/my_custom_sklearn_transforms.egg-info/SOURCES.txt (deflated 48%)\n",
            "  adding: sklearn_transforms/setup.cfg (deflated 16%)\n",
            "  adding: sklearn_transforms/.git/ (stored 0%)\n",
            "  adding: sklearn_transforms/.git/branches/ (stored 0%)\n",
            "  adding: sklearn_transforms/.git/hooks/ (stored 0%)\n",
            "  adding: sklearn_transforms/.git/hooks/post-update.sample (deflated 27%)\n",
            "  adding: sklearn_transforms/.git/hooks/update.sample (deflated 68%)\n",
            "  adding: sklearn_transforms/.git/hooks/pre-receive.sample (deflated 40%)\n",
            "  adding: sklearn_transforms/.git/hooks/pre-commit.sample (deflated 43%)\n",
            "  adding: sklearn_transforms/.git/hooks/fsmonitor-watchman.sample (deflated 53%)\n",
            "  adding: sklearn_transforms/.git/hooks/prepare-commit-msg.sample (deflated 50%)\n",
            "  adding: sklearn_transforms/.git/hooks/applypatch-msg.sample (deflated 42%)\n",
            "  adding: sklearn_transforms/.git/hooks/pre-applypatch.sample (deflated 38%)\n",
            "  adding: sklearn_transforms/.git/hooks/commit-msg.sample (deflated 44%)\n",
            "  adding: sklearn_transforms/.git/hooks/pre-push.sample (deflated 50%)\n",
            "  adding: sklearn_transforms/.git/hooks/pre-rebase.sample (deflated 59%)\n",
            "  adding: sklearn_transforms/.git/logs/ (stored 0%)\n",
            "  adding: sklearn_transforms/.git/logs/refs/ (stored 0%)\n",
            "  adding: sklearn_transforms/.git/logs/refs/heads/ (stored 0%)\n",
            "  adding: sklearn_transforms/.git/logs/refs/heads/master (deflated 29%)\n",
            "  adding: sklearn_transforms/.git/logs/refs/remotes/ (stored 0%)\n",
            "  adding: sklearn_transforms/.git/logs/refs/remotes/origin/ (stored 0%)\n",
            "  adding: sklearn_transforms/.git/logs/refs/remotes/origin/HEAD (deflated 29%)\n",
            "  adding: sklearn_transforms/.git/logs/HEAD (deflated 29%)\n",
            "  adding: sklearn_transforms/.git/description (deflated 14%)\n",
            "  adding: sklearn_transforms/.git/refs/ (stored 0%)\n",
            "  adding: sklearn_transforms/.git/refs/heads/ (stored 0%)\n",
            "  adding: sklearn_transforms/.git/refs/heads/master (stored 0%)\n",
            "  adding: sklearn_transforms/.git/refs/remotes/ (stored 0%)\n",
            "  adding: sklearn_transforms/.git/refs/remotes/origin/ (stored 0%)\n",
            "  adding: sklearn_transforms/.git/refs/remotes/origin/HEAD (stored 0%)\n",
            "  adding: sklearn_transforms/.git/refs/tags/ (stored 0%)\n",
            "  adding: sklearn_transforms/.git/HEAD (stored 0%)\n",
            "  adding: sklearn_transforms/.git/config (deflated 34%)\n",
            "  adding: sklearn_transforms/.git/info/ (stored 0%)\n",
            "  adding: sklearn_transforms/.git/info/exclude (deflated 28%)\n",
            "  adding: sklearn_transforms/.git/objects/ (stored 0%)\n",
            "  adding: sklearn_transforms/.git/objects/d0/ (stored 0%)\n",
            "  adding: sklearn_transforms/.git/objects/d0/4d8adf3dbf886c5799f7f367168b0785f0a4f5 (stored 0%)\n",
            "  adding: sklearn_transforms/.git/objects/8c/ (stored 0%)\n",
            "  adding: sklearn_transforms/.git/objects/8c/46dcca21d6dd2c23afb4a858d2b77d56bbf050 (stored 0%)\n",
            "  adding: sklearn_transforms/.git/objects/8c/d09104c54f140d61a6e9fa6c2142d4565ee302 (stored 0%)\n",
            "  adding: sklearn_transforms/.git/objects/8b/ (stored 0%)\n",
            "  adding: sklearn_transforms/.git/objects/8b/137891791fe96927ad78e64b0aad7bded08bdc (stored 0%)\n",
            "  adding: sklearn_transforms/.git/objects/26/ (stored 0%)\n",
            "  adding: sklearn_transforms/.git/objects/26/3abe321ee224139817e2325d5c91ac8f0eed50 (stored 0%)\n",
            "  adding: sklearn_transforms/.git/objects/c4/ (stored 0%)\n",
            "  adding: sklearn_transforms/.git/objects/c4/b90bb9bfb2674c96e6d8aa6cc3c8e58194f953 (stored 0%)\n",
            "  adding: sklearn_transforms/.git/objects/cc/ (stored 0%)\n",
            "  adding: sklearn_transforms/.git/objects/cc/fdab500390127d0490aaf9ee369565b05c41b4 (stored 0%)\n",
            "  adding: sklearn_transforms/.git/objects/9b/ (stored 0%)\n",
            "  adding: sklearn_transforms/.git/objects/9b/9fe6ce4d68c31dfc1eb7e923e5c90b0595b24d (stored 0%)\n",
            "  adding: sklearn_transforms/.git/objects/54/ (stored 0%)\n",
            "  adding: sklearn_transforms/.git/objects/54/5d0fb908f733cd9eed69b0004a2dfeb33b5c48 (stored 0%)\n",
            "  adding: sklearn_transforms/.git/objects/54/a860e717a464beb16bcb21419ab86f8351fbf0 (stored 0%)\n",
            "  adding: sklearn_transforms/.git/objects/1b/ (stored 0%)\n",
            "  adding: sklearn_transforms/.git/objects/1b/9e7f9e69d0cac5283f551433cdaf8e65199698 (stored 0%)\n",
            "  adding: sklearn_transforms/.git/objects/c3/ (stored 0%)\n",
            "  adding: sklearn_transforms/.git/objects/c3/9f70251de841c8e55e9c58d2fa7dbbe2d2fb0f (stored 0%)\n",
            "  adding: sklearn_transforms/.git/objects/7b/ (stored 0%)\n",
            "  adding: sklearn_transforms/.git/objects/7b/04014fbd820cb0146dcec7965f01f304436510 (stored 0%)\n",
            "  adding: sklearn_transforms/.git/objects/61/ (stored 0%)\n",
            "  adding: sklearn_transforms/.git/objects/61/e62b4f1623878ae0d92ffa812570be417feb82 (stored 0%)\n",
            "  adding: sklearn_transforms/.git/objects/c0/ (stored 0%)\n",
            "  adding: sklearn_transforms/.git/objects/c0/e12da6a090fe6b2740d0cbfa7119915a00a643 (stored 0%)\n",
            "  adding: sklearn_transforms/.git/objects/0e/ (stored 0%)\n",
            "  adding: sklearn_transforms/.git/objects/0e/cc61a0a4baff0885426f45a8fcb9fbb78f8009 (stored 0%)\n",
            "  adding: sklearn_transforms/.git/objects/a0/ (stored 0%)\n",
            "  adding: sklearn_transforms/.git/objects/a0/3066ce73d15efd1cc6449dea7e2b678089edd6 (stored 0%)\n",
            "  adding: sklearn_transforms/.git/objects/d7/ (stored 0%)\n",
            "  adding: sklearn_transforms/.git/objects/d7/cfed1a9cf21930beb933ecafb2e3d4d3a77874 (stored 0%)\n",
            "  adding: sklearn_transforms/.git/objects/6a/ (stored 0%)\n",
            "  adding: sklearn_transforms/.git/objects/6a/3c980900b1ce8383ed0fd1cbcb9195d582cf4e (stored 0%)\n",
            "  adding: sklearn_transforms/.git/objects/58/ (stored 0%)\n",
            "  adding: sklearn_transforms/.git/objects/58/25ba31fa0c00d63a9dc9865e0c848442a6fbcd (stored 0%)\n",
            "  adding: sklearn_transforms/.git/objects/ee/ (stored 0%)\n",
            "  adding: sklearn_transforms/.git/objects/ee/96aaec3459bae7b27b49e17f867db49c3257a8 (stored 0%)\n",
            "  adding: sklearn_transforms/.git/objects/99/ (stored 0%)\n",
            "  adding: sklearn_transforms/.git/objects/99/bde3a281e0a208866b47dcde00a4e4cd8afca0 (stored 0%)\n",
            "  adding: sklearn_transforms/.git/objects/2c/ (stored 0%)\n",
            "  adding: sklearn_transforms/.git/objects/2c/de64a17098cba673b28c995910b268f5e34e7a (stored 0%)\n",
            "  adding: sklearn_transforms/.git/objects/2c/c7a6bf2941a9d553a199a4fe658f0074a54b51 (stored 0%)\n",
            "  adding: sklearn_transforms/.git/objects/39/ (stored 0%)\n",
            "  adding: sklearn_transforms/.git/objects/39/d4d3fd1cc23783dbadb2d673f3758863106854 (stored 0%)\n",
            "  adding: sklearn_transforms/.git/objects/39/ccfbaf81e116c9eb9781c7cd0b7acdd5ad10aa (stored 0%)\n",
            "  adding: sklearn_transforms/.git/objects/1c/ (stored 0%)\n",
            "  adding: sklearn_transforms/.git/objects/1c/49d4656922fe1182c905339ec7a468e6881d99 (stored 0%)\n",
            "  adding: sklearn_transforms/.git/objects/22/ (stored 0%)\n",
            "  adding: sklearn_transforms/.git/objects/22/2e658014f5f2a43e16ce3c5e896e00fef1f3d5 (stored 0%)\n",
            "  adding: sklearn_transforms/.git/objects/2f/ (stored 0%)\n",
            "  adding: sklearn_transforms/.git/objects/2f/ab3357d7d157a7a6bbda08aad6cf19970d2cc3 (stored 0%)\n",
            "  adding: sklearn_transforms/.git/objects/e6/ (stored 0%)\n",
            "  adding: sklearn_transforms/.git/objects/e6/9de29bb2d1d6434b8b29ae775ad8c2e48c5391 (stored 0%)\n",
            "  adding: sklearn_transforms/.git/objects/af/ (stored 0%)\n",
            "  adding: sklearn_transforms/.git/objects/af/1140cfcb4e33bc03d9b067c1f7d70147d043d7 (stored 0%)\n",
            "  adding: sklearn_transforms/.git/objects/b6/ (stored 0%)\n",
            "  adding: sklearn_transforms/.git/objects/b6/979f3149443c66198e505c1e761f2766b4ea35 (stored 0%)\n",
            "  adding: sklearn_transforms/.git/objects/5a/ (stored 0%)\n",
            "  adding: sklearn_transforms/.git/objects/5a/b47e5cada9bcefbd66782d50edf2a86005dcb5 (stored 0%)\n",
            "  adding: sklearn_transforms/.git/objects/24/ (stored 0%)\n",
            "  adding: sklearn_transforms/.git/objects/24/7b371c9092731e07412dc5286126ed3a18756a (stored 0%)\n",
            "  adding: sklearn_transforms/.git/objects/7e/ (stored 0%)\n",
            "  adding: sklearn_transforms/.git/objects/7e/ae3d08dc940e367e3c1e2ac7a35a8b00df2e12 (stored 0%)\n",
            "  adding: sklearn_transforms/.git/objects/06/ (stored 0%)\n",
            "  adding: sklearn_transforms/.git/objects/06/998ae152d5b5fad89c81a6853dbbc0830fd6c7 (stored 0%)\n",
            "  adding: sklearn_transforms/.git/objects/52/ (stored 0%)\n",
            "  adding: sklearn_transforms/.git/objects/52/6fb1c4f5a0d3a2482041c7bd3f15263837acf5 (stored 0%)\n",
            "  adding: sklearn_transforms/.git/objects/29/ (stored 0%)\n",
            "  adding: sklearn_transforms/.git/objects/29/c65b6319ccd5b1c7da36655bb0c44e09fff991 (stored 0%)\n",
            "  adding: sklearn_transforms/.git/objects/29/ffc1c2af8fa4b0ef5eef0ba4fdc441915d1a91 (stored 0%)\n",
            "  adding: sklearn_transforms/.git/objects/1e/ (stored 0%)\n",
            "  adding: sklearn_transforms/.git/objects/1e/1e45038dfc30ed50e6d081ec85e8a3fdfb8913 (stored 0%)\n",
            "  adding: sklearn_transforms/.git/objects/21/ (stored 0%)\n",
            "  adding: sklearn_transforms/.git/objects/21/64a6e4b4ca3afc26c4b21982d433c8c54039a1 (stored 0%)\n",
            "  adding: sklearn_transforms/.git/objects/pack/ (stored 0%)\n",
            "  adding: sklearn_transforms/.git/objects/aa/ (stored 0%)\n",
            "  adding: sklearn_transforms/.git/objects/aa/1db9544c86800c5018cb8f28d1e74fbd192991 (stored 0%)\n",
            "  adding: sklearn_transforms/.git/objects/80/ (stored 0%)\n",
            "  adding: sklearn_transforms/.git/objects/80/b20e55b5f52a87b7769e08df221e07d9cc0f3a (stored 0%)\n",
            "  adding: sklearn_transforms/.git/objects/77/ (stored 0%)\n",
            "  adding: sklearn_transforms/.git/objects/77/7798a7cedea3a2fddef8dd0b7691c9b1f9f97b (stored 0%)\n",
            "  adding: sklearn_transforms/.git/objects/info/ (stored 0%)\n",
            "  adding: sklearn_transforms/.git/objects/da/ (stored 0%)\n",
            "  adding: sklearn_transforms/.git/objects/da/64b79708ea475e8c6b484d837676ce91d9801e (stored 0%)\n",
            "  adding: sklearn_transforms/.git/objects/05/ (stored 0%)\n",
            "  adding: sklearn_transforms/.git/objects/05/6cab60f81eb62f20ffd3cab59b6d232f0188e9 (stored 0%)\n",
            "  adding: sklearn_transforms/.git/objects/85/ (stored 0%)\n",
            "  adding: sklearn_transforms/.git/objects/85/bd34a4ae5f5c965a082a26b38a3268a662ae2b (stored 0%)\n",
            "  adding: sklearn_transforms/.git/objects/04/ (stored 0%)\n",
            "  adding: sklearn_transforms/.git/objects/04/b1ff2d79c9b11a1d494b6f6d42acb629236af4 (stored 0%)\n",
            "  adding: sklearn_transforms/.git/objects/2e/ (stored 0%)\n",
            "  adding: sklearn_transforms/.git/objects/2e/2e5168d3c37ccbaeb3b899da3f30fb6bc70031 (stored 0%)\n",
            "  adding: sklearn_transforms/.git/objects/82/ (stored 0%)\n",
            "  adding: sklearn_transforms/.git/objects/82/e0b0b52c39cd1840e7853e6d00986fae5683f4 (stored 0%)\n",
            "  adding: sklearn_transforms/.git/objects/f2/ (stored 0%)\n",
            "  adding: sklearn_transforms/.git/objects/f2/598626ccd27c586d5b759e5186abc64c058912 (stored 0%)\n",
            "  adding: sklearn_transforms/.git/objects/c6/ (stored 0%)\n",
            "  adding: sklearn_transforms/.git/objects/c6/4e501fc43c00861aa7ccae744058ba87c304fd (stored 0%)\n",
            "  adding: sklearn_transforms/.git/objects/d3/ (stored 0%)\n",
            "  adding: sklearn_transforms/.git/objects/d3/697484c118054fc68a13eaac93c2f93536b77e (stored 0%)\n",
            "  adding: sklearn_transforms/.git/objects/f9/ (stored 0%)\n",
            "  adding: sklearn_transforms/.git/objects/f9/842759dbd395649399f47479175e044b6b40ae (stored 0%)\n",
            "  adding: sklearn_transforms/.git/objects/e8/ (stored 0%)\n",
            "  adding: sklearn_transforms/.git/objects/e8/8e9a7c9bc5a570d097ba4001ea0c327cba6f0a (stored 0%)\n",
            "  adding: sklearn_transforms/.git/objects/46/ (stored 0%)\n",
            "  adding: sklearn_transforms/.git/objects/46/862abd9b50e51c99a1f65be820af360594f8c2 (stored 0%)\n",
            "  adding: sklearn_transforms/.git/objects/cb/ (stored 0%)\n",
            "  adding: sklearn_transforms/.git/objects/cb/d827fdd178a26f42d8b01c58320b03f3eae7fa (stored 0%)\n",
            "  adding: sklearn_transforms/.git/objects/bc/ (stored 0%)\n",
            "  adding: sklearn_transforms/.git/objects/bc/bd8f17177cd1afe8396315d2039283fa993390 (stored 0%)\n",
            "  adding: sklearn_transforms/.git/objects/bc/a817006f92d9e390374c1ed6467fad5ff7bab0 (stored 0%)\n",
            "  adding: sklearn_transforms/.git/index (deflated 52%)\n",
            "  adding: sklearn_transforms/.git/packed-refs (deflated 11%)\n",
            "  adding: sklearn_transforms/setup.py (deflated 46%)\n",
            "  adding: sklearn_transforms/README.md (deflated 15%)\n"
          ],
          "name": "stdout"
        }
      ]
    },
    {
      "cell_type": "code",
      "metadata": {
        "colab": {
          "base_uri": "https://localhost:8080/"
        },
        "id": "UKcoy6QEAAwH",
        "outputId": "76659c38-4192-43e2-b33b-34e4a3340dc8"
      },
      "source": [
        "!pip install sklearn_transforms.zip"
      ],
      "execution_count": 9,
      "outputs": [
        {
          "output_type": "stream",
          "text": [
            "Processing ./sklearn_transforms.zip\n",
            "Building wheels for collected packages: my-custom-sklearn-transforms\n",
            "  Building wheel for my-custom-sklearn-transforms (setup.py) ... \u001b[?25l\u001b[?25hdone\n",
            "  Created wheel for my-custom-sklearn-transforms: filename=my_custom_sklearn_transforms-1.0-cp36-none-any.whl size=2053 sha256=c739dc1ccd291aad18e6996f73fa9796ed928126d158975cb52ea80afc51ba64\n",
            "  Stored in directory: /tmp/pip-ephem-wheel-cache-t221mru6/wheels/c4/57/de/7704133573948922952f7658fc7094c1d36d9b79a4224af702\n",
            "Successfully built my-custom-sklearn-transforms\n",
            "Installing collected packages: my-custom-sklearn-transforms\n",
            "Successfully installed my-custom-sklearn-transforms-1.0\n"
          ],
          "name": "stdout"
        }
      ]
    },
    {
      "cell_type": "code",
      "metadata": {
        "id": "0ACNBTV6AAwH"
      },
      "source": [
        "from my_custom_sklearn_transforms.sklearn_transformers import DropColumns"
      ],
      "execution_count": 10,
      "outputs": []
    },
    {
      "cell_type": "code",
      "metadata": {
        "id": "4GHEl6nsAAwH"
      },
      "source": [
        "# Creating a custom `` DropColumns`` Transform\n",
        "\n",
        "rm_columns = DropColumns(\n",
        "    columns=['rowid', 'kepid']\n",
        ")"
      ],
      "execution_count": 11,
      "outputs": []
    },
    {
      "cell_type": "markdown",
      "metadata": {
        "id": "M9mgeBu8AAwI"
      },
      "source": [
        "### Imputacion de Numericas\n",
        "Las variables númericas faltantes las imputo con el IterativeImputer"
      ]
    },
    {
      "cell_type": "code",
      "metadata": {
        "id": "5C01bfocAAwI"
      },
      "source": [
        "# Creating a `` IterativeImputer`` object\n",
        "from sklearn.experimental import enable_iterative_imputer\n",
        "from sklearn.impute import IterativeImputer\n",
        "from sklearn.pipeline import Pipeline\n",
        "from sklearn.preprocessing import StandardScaler\n",
        "\n",
        "# Trabajando valores NaN \n",
        "imp_mean = IterativeImputer(max_iter=500)\n",
        "\n",
        "\n",
        "\n",
        "numeric_features = ['koi_score', 'koi_fpflag_nt',\n",
        "        'koi_fpflag_ss', 'koi_fpflag_co', 'koi_fpflag_ec', 'koi_period',\n",
        "        'koi_period_err1', 'koi_period_err2', 'koi_time0bk', 'koi_time0bk_err1',\n",
        "        'koi_time0bk_err2', 'koi_impact', 'koi_impact_err1', 'koi_impact_err2',\n",
        "        'koi_duration', 'koi_duration_err1', 'koi_duration_err2', 'koi_depth',\n",
        "        'koi_depth_err1', 'koi_depth_err2', 'koi_prad', 'koi_prad_err1',\n",
        "        'koi_prad_err2', 'koi_teq', 'koi_insol', 'koi_insol_err1',\n",
        "        'koi_insol_err2', 'koi_model_snr', 'koi_tce_plnt_num', 'koi_steff',\n",
        "        'koi_steff_err1', 'koi_steff_err2', 'koi_slogg', 'koi_slogg_err1',\n",
        "        'koi_slogg_err2', 'koi_srad', 'koi_srad_err1', 'koi_srad_err2', 'ra',\n",
        "        'dec', 'koi_kepmag']\n",
        "numeric_transformer = Pipeline(steps=[\n",
        "    ('imputer', imp_mean),\n",
        "    ('scaler', StandardScaler())])\n"
      ],
      "execution_count": 12,
      "outputs": []
    },
    {
      "cell_type": "markdown",
      "metadata": {
        "id": "0zrVc1tlAAwI"
      },
      "source": [
        "### Imputacion de strings"
      ]
    },
    {
      "cell_type": "code",
      "metadata": {
        "id": "-KaohtFPAAwI"
      },
      "source": [
        "# Creating a `` SimpleImputer`` object\n",
        "from sklearn.impute import SimpleImputer\n",
        "from sklearn.preprocessing import OneHotEncoder\n",
        "\n",
        "categorical_features = ['koi_pdisposition']\n",
        "categorical_transformer = Pipeline(steps=[\n",
        "    ('imputer', SimpleImputer(strategy='constant', fill_value='missing')),\n",
        "    ('onehot', OneHotEncoder(handle_unknown='ignore'))])\n"
      ],
      "execution_count": 13,
      "outputs": []
    },
    {
      "cell_type": "code",
      "metadata": {
        "id": "60RgLCEyAAwJ"
      },
      "source": [
        "from sklearn.compose import ColumnTransformer\n",
        "\n",
        "preprocessor = ColumnTransformer(\n",
        "    transformers=[\n",
        "        ('num', numeric_transformer, numeric_features),\n",
        "        ('cat', categorical_transformer, categorical_features)])\n"
      ],
      "execution_count": 14,
      "outputs": []
    },
    {
      "cell_type": "markdown",
      "metadata": {
        "id": "QNj4xjnyAAwJ"
      },
      "source": [
        "## Training a classifier"
      ]
    },
    {
      "cell_type": "markdown",
      "metadata": {
        "id": "YP9cLnLeAAwJ"
      },
      "source": [
        "### Selecting FEATURES and setting the TARGET variable"
      ]
    },
    {
      "cell_type": "code",
      "metadata": {
        "colab": {
          "base_uri": "https://localhost:8080/"
        },
        "id": "4LVJgd7UAAwJ",
        "outputId": "b717c20a-53db-4a55-a4d5-60aec3774907"
      },
      "source": [
        "df_training_dataset_2.columns"
      ],
      "execution_count": 15,
      "outputs": [
        {
          "output_type": "execute_result",
          "data": {
            "text/plain": [
              "Index(['rowid', 'kepid', 'koi_pdisposition', 'koi_score', 'koi_fpflag_nt',\n",
              "       'koi_fpflag_ss', 'koi_fpflag_co', 'koi_fpflag_ec', 'koi_period',\n",
              "       'koi_period_err1', 'koi_period_err2', 'koi_time0bk', 'koi_time0bk_err1',\n",
              "       'koi_time0bk_err2', 'koi_impact', 'koi_impact_err1', 'koi_impact_err2',\n",
              "       'koi_duration', 'koi_duration_err1', 'koi_duration_err2', 'koi_depth',\n",
              "       'koi_depth_err1', 'koi_depth_err2', 'koi_prad', 'koi_prad_err1',\n",
              "       'koi_prad_err2', 'koi_teq', 'koi_insol', 'koi_insol_err1',\n",
              "       'koi_insol_err2', 'koi_model_snr', 'koi_tce_plnt_num', 'koi_steff',\n",
              "       'koi_steff_err1', 'koi_steff_err2', 'koi_slogg', 'koi_slogg_err1',\n",
              "       'koi_slogg_err2', 'koi_srad', 'koi_srad_err1', 'koi_srad_err2', 'ra',\n",
              "       'dec', 'koi_kepmag', 'TARGET'],\n",
              "      dtype='object')"
            ]
          },
          "metadata": {
            "tags": []
          },
          "execution_count": 15
        }
      ]
    },
    {
      "cell_type": "code",
      "metadata": {
        "id": "MqxudFnIAAwK"
      },
      "source": [
        "features = df_training_dataset_2[\n",
        "    [\n",
        "        'rowid', 'kepid', 'koi_pdisposition', 'koi_score', 'koi_fpflag_nt',\n",
        "        'koi_fpflag_ss', 'koi_fpflag_co', 'koi_fpflag_ec', 'koi_period',\n",
        "        'koi_period_err1', 'koi_period_err2', 'koi_time0bk', 'koi_time0bk_err1',\n",
        "        'koi_time0bk_err2', 'koi_impact', 'koi_impact_err1', 'koi_impact_err2',\n",
        "        'koi_duration', 'koi_duration_err1', 'koi_duration_err2', 'koi_depth',\n",
        "        'koi_depth_err1', 'koi_depth_err2', 'koi_prad', 'koi_prad_err1',\n",
        "        'koi_prad_err2', 'koi_teq', 'koi_insol', 'koi_insol_err1',\n",
        "        'koi_insol_err2', 'koi_model_snr', 'koi_tce_plnt_num', 'koi_steff',\n",
        "        'koi_steff_err1', 'koi_steff_err2', 'koi_slogg', 'koi_slogg_err1',\n",
        "        'koi_slogg_err2', 'koi_srad', 'koi_srad_err1', 'koi_srad_err2', 'ra',\n",
        "        'dec', 'koi_kepmag'\n",
        "    ]\n",
        "]\n",
        "target = df_training_dataset_2['TARGET']  ## DO NOT CHANGE THE NAME OF THE TARGET VARIABLE."
      ],
      "execution_count": 16,
      "outputs": []
    },
    {
      "cell_type": "code",
      "metadata": {
        "id": "NTwXq9URAAwL"
      },
      "source": [
        "# Preparing the arguments for the methods of the `` scikit-learn`` library\n",
        "X = features\n",
        "y = target"
      ],
      "execution_count": 17,
      "outputs": []
    },
    {
      "cell_type": "markdown",
      "metadata": {
        "id": "4xoVUFiXAAwL"
      },
      "source": [
        "### Splitting the dataset into train and test partition"
      ]
    },
    {
      "cell_type": "code",
      "metadata": {
        "id": "J2DyqnDsAAwL"
      },
      "source": [
        "from sklearn.model_selection import train_test_split\n",
        "\n",
        "# Separation of data into a training set and a test set\n",
        "X_train, X_test, y_train, y_test = train_test_split(X, y, test_size=0.3, random_state=337)"
      ],
      "execution_count": 18,
      "outputs": []
    },
    {
      "cell_type": "markdown",
      "metadata": {
        "id": "BDAQKqBdAAwL"
      },
      "source": [
        "### Building a pipeline"
      ]
    },
    {
      "cell_type": "code",
      "metadata": {
        "id": "4whgdSsnAAwL"
      },
      "source": [
        "# Creating our pipeline for storage at Watson Machine Learning:\n",
        "from sklearn.ensemble import ExtraTreesClassifier\n",
        "from sklearn.pipeline import Pipeline\n",
        "from xgboost import XGBClassifier\n",
        "\n",
        "my_pipeline = Pipeline(\n",
        "    steps=[\n",
        "        ('step_1_remove_columns', rm_columns),\n",
        "        ('step_2_preprocessor', preprocessor),\n",
        "        ('choosen_model', ExtraTreesClassifier()),\n",
        "    ]\n",
        ")"
      ],
      "execution_count": 19,
      "outputs": []
    },
    {
      "cell_type": "code",
      "metadata": {
        "id": "cffBQO-6AAwL"
      },
      "source": [
        "# Pipeline initialization (pre-processing and model training)\n",
        "model = my_pipeline.fit(X_train, y_train)"
      ],
      "execution_count": 20,
      "outputs": []
    },
    {
      "cell_type": "markdown",
      "metadata": {
        "id": "EgFvDcgYAAwL"
      },
      "source": [
        "### Making predictions in the test sample"
      ]
    },
    {
      "cell_type": "code",
      "metadata": {
        "colab": {
          "base_uri": "https://localhost:8080/"
        },
        "id": "lUOm1y4WAAwL",
        "outputId": "70955345-0693-45af-dd44-530d98e7cc6c"
      },
      "source": [
        "y_pred = my_pipeline.predict(X_test)\n",
        "print(y_pred)"
      ],
      "execution_count": 21,
      "outputs": [
        {
          "output_type": "stream",
          "text": [
            "[0. 2. 0. ... 1. 1. 2.]\n"
          ],
          "name": "stdout"
        }
      ]
    },
    {
      "cell_type": "markdown",
      "metadata": {
        "id": "f1SDmgCxAAwL"
      },
      "source": [
        "Tip: use the `metrics` library in scikit-learn to get more information about your model's metrics.[ref](https://scikit-learn.org/stable/modules/model_evaluation.html#classification-metrics)"
      ]
    },
    {
      "cell_type": "markdown",
      "metadata": {
        "id": "c9dSaKW1AAwL"
      },
      "source": [
        "### Analyzing the quality of the model through the confusion matrix"
      ]
    },
    {
      "cell_type": "code",
      "metadata": {
        "id": "IqqDcR3hAAwL"
      },
      "source": [
        "import matplotlib.pyplot as plt\n",
        "import numpy as np\n",
        "import itertools\n",
        "\n",
        "\n",
        "def plot_confusion_matrix(cm, target_names, title='Confusion matrix', cmap=None, normalize=True):\n",
        "    accuracy = np.trace(cm) / float(np.sum(cm))\n",
        "    misclass = 1 - accuracy\n",
        "    if cmap is None:\n",
        "        cmap = plt.get_cmap('Blues')\n",
        "    plt.figure(figsize=(8, 6))\n",
        "    plt.imshow(cm, interpolation='nearest', cmap=cmap)\n",
        "    plt.title(title)\n",
        "    plt.colorbar()\n",
        "    if target_names is not None:\n",
        "        tick_marks = np.arange(len(target_names))\n",
        "        plt.xticks(tick_marks, target_names, rotation=45)\n",
        "        plt.yticks(tick_marks, target_names)\n",
        "    if normalize:\n",
        "        cm = cm.astype('float') / cm.sum(axis=1)[:, np.newaxis]\n",
        "    thresh = cm.max() / 1.5 if normalize else cm.max() / 2\n",
        "    for i, j in itertools.product(range(cm.shape[0]), range(cm.shape[1])):\n",
        "        if normalize:\n",
        "            plt.text(j, i, \"{:0.4f}\".format(cm[i, j]),\n",
        "                     horizontalalignment=\"center\",\n",
        "                     color=\"white\" if cm[i, j] > thresh else \"black\")\n",
        "        else:\n",
        "            plt.text(j, i, \"{:,}\".format(cm[i, j]),\n",
        "                     horizontalalignment=\"center\",\n",
        "                     color=\"white\" if cm[i, j] > thresh else \"black\")\n",
        "    plt.tight_layout()\n",
        "    plt.ylabel('True label')\n",
        "    plt.xlabel('Predicted label\\naccuracy={:0.4f}; misclass={:0.4f}'.format(accuracy, misclass))\n",
        "    plt.show()"
      ],
      "execution_count": 22,
      "outputs": []
    },
    {
      "cell_type": "code",
      "metadata": {
        "colab": {
          "base_uri": "https://localhost:8080/",
          "height": 467
        },
        "id": "PI1ts9K7AAwL",
        "outputId": "001ae831-c8e0-44c1-a52f-7edf29b73a90"
      },
      "source": [
        "from sklearn.metrics import confusion_matrix\n",
        "\n",
        "\n",
        "plot_confusion_matrix(confusion_matrix(y_test, y_pred), ['0', '1', '2'])"
      ],
      "execution_count": 23,
      "outputs": [
        {
          "output_type": "display_data",
          "data": {
            "image/png": "[encoded data removed]",
            "text/plain": [
              "<Figure size 576x432 with 2 Axes>"
            ]
          },
          "metadata": {
            "tags": [],
            "needs_background": "light"
          }
        }
      ]
    },
    {
      "cell_type": "code",
      "metadata": {
        "colab": {
          "base_uri": "https://localhost:8080/"
        },
        "id": "wvIk4JryAAwL",
        "outputId": "590755c9-36d0-41ed-fb6a-fa6e3aa449db"
      },
      "source": [
        "from sklearn.metrics import fbeta_score\n",
        "\n",
        "print(\"Beta Score: {}\".format(fbeta_score(y_test, y_pred, beta=1.5, average='micro')))"
      ],
      "execution_count": 24,
      "outputs": [
        {
          "output_type": "stream",
          "text": [
            "Beta Score: 0.8583017847485127\n"
          ],
          "name": "stdout"
        }
      ]
    },
    {
      "cell_type": "markdown",
      "metadata": {
        "id": "fTuApXhbAAwL"
      },
      "source": [
        "<hr>"
      ]
    },
    {
      "cell_type": "markdown",
      "metadata": {
        "id": "fqxS8N2DAAwL"
      },
      "source": [
        "## Deploy to WML"
      ]
    },
    {
      "cell_type": "markdown",
      "metadata": {
        "id": "zPWAS3LqAAwL"
      },
      "source": [
        "**WARNING**: the model you deploy to Watson Machine Learning must receive as input for a prediction **ALL of the columns** provided in the dataset, **except the TARGET column**. Any operations with the columns, such as dropping, must be done via pipeline. If the model does not behave as expected, your submission will fail."
      ]
    },
    {
      "cell_type": "markdown",
      "metadata": {
        "id": "QdfkFXB4AAwL"
      },
      "source": [
        "With the model running, now we can deploy it to Watson Machine Learning, a service available on the IBM Cloud capable of executing and making machine learning models available through an API in a dedicated environment."
      ]
    },
    {
      "cell_type": "code",
      "metadata": {
        "scrolled": false,
        "id": "M1mAp3EyAAwL"
      },
      "source": [
        "from ibm_watson_machine_learning import APIClient"
      ],
      "execution_count": 58,
      "outputs": []
    },
    {
      "cell_type": "markdown",
      "metadata": {
        "id": "A-2edv__AAwL"
      },
      "source": [
        "To access Watson Machine Learning, you need to create an APIKEY. There are two ways to do this: via the IBM Cloud cli or via the IBM Cloud interface.\n",
        "\n",
        "If you want to create an APIKEY via API first download install the [IBM Cloud CLI](https://cloud.ibm.com/docs/cli). Once installed, run the following commands to obtain the APIKEY\n",
        "\n",
        "ibmcloud login <br>\n",
        "ibmcloud iam api-key-create API_KEY_NAME\n",
        "\n",
        "Through the interface, just click on `Manage` and then on `Access(IAM)` as shown in the image below.\n",
        "\n",
        "![api-1](https://imgur.com/bS61qef.png \"api1\")\n",
        "\n",
        "As soon as the page loads, on the left side there is a menu. Click on API keys to create a new one, as shown in the image below.\n",
        "\n",
        "![api-2](https://imgur.com/XaOalxq.png \"api2\")\n",
        "\n",
        "The image below shows a panel with all its APIs created for the IBM Cloud platform, let's create a new one accessing the WML service by clicking on `Create an IBM Cloud API key`\n",
        "\n",
        "![api-3](https://imgur.com/0WKTanm.png \"api3\")\n",
        "\n",
        "A form will open where you simply name your API and click on `Create`. As soon as you click on the button your API will be created and just copy it, insert in `apikey` in the cell below.\n",
        "\n",
        "![api-4](https://imgur.com/3wCTLaH.png \"api4\")\n",
        "\n",
        "In addition to needing an APIKEY to access Watson Machine Learning, we need to know the URL where it is located, so be aware when creating the service in which region you are instantiating it. Each region has a specific URL and they are listed below.\n",
        "\n",
        "- Dallas: `https://us-south.ml.cloud.ibm.com`\n",
        "- London: `https://eu-gb.ml.cloud.ibm.com`\n",
        "- Frankfurt: `https://eu-de.ml.cloud.ibm.com`\n",
        "- Tokyo: `https://jp-tok.ml.cloud.ibm.com`\n",
        "\n",
        "With the WML properly located, just enter the correct URL in the cell below."
      ]
    },
    {
      "cell_type": "code",
      "metadata": {
        "id": "tPNvqYOdAAwL"
      },
      "source": [
        "wml_credentials = {\n",
        "  \"apikey\": \"xxxxxxxxxx\",\n",
        "  \"url\": \"https://us-south.ml.cloud.ibm.com\"\n",
        "}\n",
        "\n",
        "print(wml_credentials)"
      ],
      "execution_count": null,
      "outputs": []
    },
    {
      "cell_type": "code",
      "metadata": {
        "id": "RYM7JX77AAwL"
      },
      "source": [
        "client = APIClient(wml_credentials)"
      ],
      "execution_count": null,
      "outputs": []
    },
    {
      "cell_type": "markdown",
      "metadata": {
        "id": "o0krqvHuAAwL"
      },
      "source": [
        "### Preparing the environment that will receive the model"
      ]
    },
    {
      "cell_type": "markdown",
      "metadata": {
        "id": "SPCpwkTPAAwL"
      },
      "source": [
        "Watson Machine Learning organizes the deployment of models in spaces, so that it is possible to use the organization's WML instance and divide it into small spaces dedicated to hosting the models that each department will build and make available. Therefore, after instantiating the WML, it is necessary to create a space to receive the model that we are going to create. To create a space in WML we need to go back to the Cloud Pak 4 Data home screen and click on `Deployments`, located on the left side, as shown in the image below.\n",
        "\n",
        "![img-01](https://imgur.com/Fhx5iKO.png \"deployment\")\n",
        "\n",
        "As soon as the page loads we are inside the deployment interface that constitutes a direct access to Watson Machine Learning. Now let's click on the `deployment space` button to create a new space, as shown in the image below.\n",
        "\n",
        "![img-02](https://imgur.com/DRFuLj6.png \"space\")\n",
        "\n",
        "Let's create an empty space to receive our model, as shown in the image below.\n",
        "\n",
        "![img-03](https://imgur.com/uxUf77y.png \"creat\")\n",
        "\n",
        "We must fill in some information now. We need to give the space a name, associate an Object Storage and Watson Machine Learning to the space. With the form completed just click on the `Create` button located in the lower right corner.\n",
        "\n",
        "<!-- ![img-04](https://i.imgur.com/trikImj.png \"form\") -->\n",
        "\n",
        "\n",
        "With the space created, we can deploy the created model and proceed with the execution of the cells of this notebbok."
      ]
    },
    {
      "cell_type": "code",
      "metadata": {
        "id": "ICxYcQpeAAwL"
      },
      "source": [
        "client.spaces.list(limit=10)"
      ],
      "execution_count": null,
      "outputs": []
    },
    {
      "cell_type": "markdown",
      "metadata": {
        "id": "MH2fxqZIAAwL"
      },
      "source": [
        "With the spaces listed above, you should find your newly created space and copy the space id in the cell below to be stored in the `space_id` variable."
      ]
    },
    {
      "cell_type": "code",
      "metadata": {
        "id": "gpAUhQxIAAwL"
      },
      "source": [
        "space_id = '74ced3fb-d4f6-4af8-9ff5-2765c1c66a42'"
      ],
      "execution_count": 62,
      "outputs": []
    },
    {
      "cell_type": "code",
      "metadata": {
        "id": "YAST5NJOAAwL"
      },
      "source": [
        "client.set.default_space(space_id)"
      ],
      "execution_count": null,
      "outputs": []
    },
    {
      "cell_type": "markdown",
      "metadata": {
        "id": "h9qBv43AAAwL"
      },
      "source": [
        "As seen during the creation of the Pipeline, we used a library external to the model creation framework (scikit-learn, tensorflow, keras, etc.) We need to upload our library so that the pipeline can use the methods contained there. For this, the cell below uploads the library so that the model can run correctly."
      ]
    },
    {
      "cell_type": "code",
      "metadata": {
        "colab": {
          "base_uri": "https://localhost:8080/"
        },
        "id": "xcHacaf-AAwL",
        "outputId": "26dcedd7-7b20-4362-84e7-a0ba1056004c"
      },
      "source": [
        "meta_prop_pkg_extn = {\n",
        "    client.package_extensions.ConfigurationMetaNames.NAME: \"my_custom_sklearn_transforms\",\n",
        "    client.package_extensions.ConfigurationMetaNames.DESCRIPTION: \"Pkg extension for custom lib\",\n",
        "    client.package_extensions.ConfigurationMetaNames.TYPE: \"pip_zip\"\n",
        "}\n",
        "\n",
        "pkg_extn_details = client.package_extensions.store(meta_props=meta_prop_pkg_extn, file_path=\"sklearn_transforms.zip\")\n",
        "pkg_extn_uid = client.package_extensions.get_uid(pkg_extn_details)\n",
        "pkg_extn_url = client.package_extensions.get_href(pkg_extn_details)"
      ],
      "execution_count": 64,
      "outputs": [
        {
          "output_type": "stream",
          "text": [
            "Creating package extensions\n",
            "SUCCESS\n"
          ],
          "name": "stdout"
        }
      ]
    },
    {
      "cell_type": "code",
      "metadata": {
        "id": "BLic26E9AAwL"
      },
      "source": [
        "details = client.package_extensions.get_details(pkg_extn_uid)"
      ],
      "execution_count": 65,
      "outputs": []
    },
    {
      "cell_type": "code",
      "metadata": {
        "id": "CryOCi2RAAwL"
      },
      "source": [
        "client.software_specifications.ConfigurationMetaNames.show()"
      ],
      "execution_count": null,
      "outputs": []
    },
    {
      "cell_type": "code",
      "metadata": {
        "id": "ywD1-6DRAAwL"
      },
      "source": [
        "client.software_specifications.list()"
      ],
      "execution_count": null,
      "outputs": []
    },
    {
      "cell_type": "code",
      "metadata": {
        "id": "bEFZGIt1AAwL"
      },
      "source": [
        "sofware_spec_uid = client.software_specifications.get_id_by_name(\"default_py3.7\")"
      ],
      "execution_count": 68,
      "outputs": []
    },
    {
      "cell_type": "markdown",
      "metadata": {
        "id": "yCoy-geTAAwM"
      },
      "source": [
        "With the upload of the library, it must be made available by creating a specific software environment where it is available for use. The cell below creates an environment that does just that."
      ]
    },
    {
      "cell_type": "code",
      "metadata": {
        "id": "LderuyuEAAwM"
      },
      "source": [
        "meta_prop_sw_spec = {\n",
        "    client.software_specifications.ConfigurationMetaNames.NAME: \"my_custom_sklearn_transforms\",\n",
        "    client.software_specifications.ConfigurationMetaNames.DESCRIPTION: \"Software specification for linalgnorm-0.1\",\n",
        "    client.software_specifications.ConfigurationMetaNames.BASE_SOFTWARE_SPECIFICATION: {\"guid\": sofware_spec_uid}\n",
        "}\n",
        "\n",
        "sw_spec_details = client.software_specifications.store(meta_props=meta_prop_sw_spec)\n",
        "sw_spec_uid = client.software_specifications.get_uid(sw_spec_details)\n",
        "\n",
        "\n",
        "client.software_specifications.add_package_extension(sw_spec_uid, pkg_extn_uid)"
      ],
      "execution_count": null,
      "outputs": []
    },
    {
      "cell_type": "markdown",
      "metadata": {
        "id": "F5x0iCZDAAwM"
      },
      "source": [
        "With the environment created, just upload the model created to Watson Machine Learning."
      ]
    },
    {
      "cell_type": "code",
      "metadata": {
        "id": "fnVijxobAAwM"
      },
      "source": [
        "metadata = {\n",
        "            client.repository.ModelMetaNames.NAME: 'Final',\n",
        "            client.repository.ModelMetaNames.TYPE: 'scikit-learn_0.23',\n",
        "            client.repository.ModelMetaNames.SOFTWARE_SPEC_UID: sw_spec_uid\n",
        "}\n",
        "\n",
        "published_model = client.repository.store_model(\n",
        "    model=model,\n",
        "    meta_props=metadata)"
      ],
      "execution_count": 70,
      "outputs": []
    },
    {
      "cell_type": "code",
      "metadata": {
        "id": "iUMQumtRAAwM"
      },
      "source": [
        "client.repository.list_models()"
      ],
      "execution_count": null,
      "outputs": []
    },
    {
      "cell_type": "code",
      "metadata": {
        "id": "6DCQPJDZAAwM"
      },
      "source": [
        "import json\n",
        "saved_model_uid = client.repository.get_model_uid(published_model)\n",
        "model_details = client.repository.get_details(saved_model_uid)\n",
        "print(json.dumps(model_details, indent=2))"
      ],
      "execution_count": null,
      "outputs": []
    },
    {
      "cell_type": "markdown",
      "metadata": {
        "id": "oJ35p9zhAAwM"
      },
      "source": [
        "With a model stored in WML, it is now necessary to make the model available so that it is available to be accessed via an API call. To make a model available, run the cell below."
      ]
    },
    {
      "cell_type": "code",
      "metadata": {
        "id": "EdSTiFJdAAwM"
      },
      "source": [
        "metadata = {\n",
        "    client.deployments.ConfigurationMetaNames.NAME: \"champion\",\n",
        "    client.deployments.ConfigurationMetaNames.ONLINE: {}\n",
        "}\n",
        "\n",
        "created_deployment = client.deployments.create(client.repository.get_model_uid(published_model), meta_props=metadata)"
      ],
      "execution_count": null,
      "outputs": []
    },
    {
      "cell_type": "markdown",
      "metadata": {
        "id": "HCVijCRSAAwM"
      },
      "source": [
        "## Making a prediction"
      ]
    },
    {
      "cell_type": "code",
      "metadata": {
        "scrolled": true,
        "id": "3htAloYxAAwM"
      },
      "source": [
        "deployment_uid = client.deployments.get_uid(created_deployment)"
      ],
      "execution_count": null,
      "outputs": []
    },
    {
      "cell_type": "code",
      "metadata": {
        "id": "pGRLK9PWAAwM"
      },
      "source": [
        "scoring_endpoint = client.deployments.get_scoring_href(created_deployment)\n",
        "print(scoring_endpoint)"
      ],
      "execution_count": null,
      "outputs": []
    },
    {
      "cell_type": "code",
      "metadata": {
        "id": "XzqQaGYYAAwM"
      },
      "source": [
        "print(np.array(X.iloc[0].values).tolist())\n",
        "print(y.iloc[0])"
      ],
      "execution_count": null,
      "outputs": []
    },
    {
      "cell_type": "code",
      "metadata": {
        "id": "s8IEIOZFAAwM"
      },
      "source": [
        "scoring_payload = {\n",
        "    \"input_data\": [{\n",
        "        'fields': X.columns.to_list(),\n",
        "        'values': [[1.0, 0.0, 0.0, 1.0, 0.0, 0.0, 0.0, 0.0, 9.48803557, 0.02775, -0.02775, 170.53875, 0.00216, -0.00216, 146.0, 318.0, -146.0, 0.0, 0.0819, -0.0819, 615.8, 19.5, 0.0, 2.26, 0.0, -0.15, 793.0, 93.59, 29.45, -16.65, 35.8, 1.0, 5455.0, 81.0, -81.0, 4467.0, 64.0, -96.0, 927.0, 105.0, -61.0, 291.93423, 48.141651, 15.347]]}]\n",
        "}\n",
        "scoring_payload"
      ],
      "execution_count": null,
      "outputs": []
    },
    {
      "cell_type": "code",
      "metadata": {
        "id": "w2J2_n90AAwM"
      },
      "source": [
        "predictions = client.deployments.score(deployment_uid, scoring_payload)"
      ],
      "execution_count": null,
      "outputs": []
    },
    {
      "cell_type": "code",
      "metadata": {
        "id": "efVo-COxAAwM"
      },
      "source": [
        "print(json.dumps(predictions, indent=2))"
      ],
      "execution_count": null,
      "outputs": []
    },
    {
      "cell_type": "markdown",
      "metadata": {
        "id": "O6BijnQXAAwN"
      },
      "source": [
        "# Important things you will use next\n",
        "\n",
        "In the cell below you will find the necessaries credentials you must insert in the submission app you have deployed on Red Hat OpenShift and provide them at the submission."
      ]
    },
    {
      "cell_type": "code",
      "metadata": {
        "id": "1DJvnyGiAAwN"
      },
      "source": [
        "print('WML APIKEY: ', wml_credentials['apikey'])\n",
        "print('URL to make predictions: ', scoring_endpoint)"
      ],
      "execution_count": null,
      "outputs": []
    },
    {
      "cell_type": "markdown",
      "metadata": {
        "id": "V7kxKc0qAAwN"
      },
      "source": [
        "# References\n",
        "\n",
        "- [Cloud Pak 4 data docs](https://dataplatform.cloud.ibm.com/docs/content/wsj/analyze-data/wml-ai.html)\n",
        "- [ibm-watson-machine-learning sdk docs](http://ibm-wml-api-pyclient.mybluemix.net)\n",
        "- [Watson Machine Learning REST API docs](https://cloud.ibm.com/apidocs/machine-learning)\n",
        "- [Watson Machine Learning tutorials](https://dataplatform.cloud.ibm.com/docs/content/wsj/analyze-data/ml-samples-overview.html)"
      ]
    }
  ]
}